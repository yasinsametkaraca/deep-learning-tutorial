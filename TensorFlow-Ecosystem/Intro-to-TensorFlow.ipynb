{
 "nbformat": 4,
 "nbformat_minor": 0,
 "metadata": {
  "colab": {
   "provenance": [],
   "authorship_tag": "ABX9TyPNuKBuZaEWFfBSMGA9EReL",
   "include_colab_link": true
  },
  "kernelspec": {
   "name": "python3",
   "display_name": "Python 3"
  },
  "language_info": {
   "name": "python"
  },
  "accelerator": "GPU",
  "gpuClass": "standard"
 },
 "cells": [
  {
   "cell_type": "markdown",
   "source": [
    "# Importing TensorFlow"
   ],
   "metadata": {
    "id": "aDBEyOGhpz5A"
   }
  },
  {
   "cell_type": "code",
   "execution_count": null,
   "metadata": {
    "colab": {
     "base_uri": "https://localhost:8080/",
     "height": 35
    },
    "id": "zSJBP9eyFsvU",
    "outputId": "d6d7c388-f260-4702-dece-1211e597409d"
   },
   "outputs": [
    {
     "output_type": "execute_result",
     "data": {
      "text/plain": [
       "'2.9.2'"
      ],
      "application/vnd.google.colaboratory.intrinsic+json": {
       "type": "string"
      }
     },
     "metadata": {},
     "execution_count": 1
    }
   ],
   "source": [
    "import tensorflow as tf\n",
    "tf.__version__"
   ]
  },
  {
   "cell_type": "markdown",
   "source": [
    "# Loading Dataset"
   ],
   "metadata": {
    "id": "aAdLnvcep5YG"
   }
  },
  {
   "cell_type": "code",
   "source": [
    "mnist = tf.keras.datasets.mnist\n",
    "(x_train, y_train), (x_test, y_test) = mnist.load_data()"
   ],
   "metadata": {
    "colab": {
     "base_uri": "https://localhost:8080/"
    },
    "id": "ZhqBVicuLpWI",
    "outputId": "af1020a3-4418-444a-b191-82468c8d6a15"
   },
   "execution_count": null,
   "outputs": [
    {
     "output_type": "stream",
     "name": "stdout",
     "text": [
      "Downloading data from https://storage.googleapis.com/tensorflow/tf-keras-datasets/mnist.npz\n",
      "11490434/11490434 [==============================] - 0s 0us/step\n"
     ]
    }
   ]
  },
  {
   "cell_type": "markdown",
   "source": [
    "# Data Preprocessing"
   ],
   "metadata": {
    "id": "w1ohpC-hqNQb"
   }
  },
  {
   "cell_type": "code",
   "source": [
    "x_train, x_test = x_train/255.0, x_test/255.0"
   ],
   "metadata": {
    "id": "yDhA1LjQMhGZ"
   },
   "execution_count": null,
   "outputs": []
  },
  {
   "cell_type": "code",
   "source": [
    "x_train.shape"
   ],
   "metadata": {
    "colab": {
     "base_uri": "https://localhost:8080/"
    },
    "id": "tNJ_azLFM7oA",
    "outputId": "e7a58a60-12d3-46e7-bc79-3b4aaee39d50"
   },
   "execution_count": null,
   "outputs": [
    {
     "output_type": "execute_result",
     "data": {
      "text/plain": [
       "(60000, 28, 28)"
      ]
     },
     "metadata": {},
     "execution_count": 4
    }
   ]
  },
  {
   "cell_type": "code",
   "source": [
    "x_test.shape"
   ],
   "metadata": {
    "colab": {
     "base_uri": "https://localhost:8080/"
    },
    "id": "UuUcGYAPNBO_",
    "outputId": "f2e648fb-fcbf-45d3-9bc1-e35e3a8bf53a"
   },
   "execution_count": null,
   "outputs": [
    {
     "output_type": "execute_result",
     "data": {
      "text/plain": [
       "(10000, 28, 28)"
      ]
     },
     "metadata": {},
     "execution_count": 5
    }
   ]
  },
  {
   "cell_type": "markdown",
   "source": [
    "# Modeling"
   ],
   "metadata": {
    "id": "S0vOAP1hqRLa"
   }
  },
  {
   "cell_type": "code",
   "source": [
    "model = tf.keras.models.Sequential([\n",
    "    tf.keras.layers.Flatten(input_shape=(28,28)),\n",
    "    tf.keras.layers.Dense(128, activation=\"relu\"),\n",
    "    tf.keras.layers.Dropout(0.2),\n",
    "    tf.keras.layers.Dense(10)\n",
    "])"
   ],
   "metadata": {
    "id": "5NOnb6nXNJqJ"
   },
   "execution_count": null,
   "outputs": []
  },
  {
   "cell_type": "markdown",
   "source": [
    "## How to work our model?"
   ],
   "metadata": {
    "id": "QohD5yFEqUkJ"
   }
  },
  {
   "cell_type": "code",
   "source": [
    "predictions = model(x_train[:1]).numpy()\n",
    "predictions"
   ],
   "metadata": {
    "colab": {
     "base_uri": "https://localhost:8080/"
    },
    "id": "GB0YHYmFP23O",
    "outputId": "fb6a8255-5ec3-4160-f258-aba2b402aa77"
   },
   "execution_count": null,
   "outputs": [
    {
     "output_type": "execute_result",
     "data": {
      "text/plain": [
       "array([[-0.06204116, -0.31266025, -0.04441132, -0.08686925, -0.29518628,\n",
       "        -0.06653664,  0.10240483, -0.5198137 , -0.28929704,  0.67983675]],\n",
       "      dtype=float32)"
      ]
     },
     "metadata": {},
     "execution_count": 7
    }
   ]
  },
  {
   "cell_type": "code",
   "source": [
    "tf.nn.softmax(predictions).numpy()"
   ],
   "metadata": {
    "colab": {
     "base_uri": "https://localhost:8080/"
    },
    "id": "v3TC0pmYQEf3",
    "outputId": "591475ed-554c-4992-d75d-eb9b197e1aa3"
   },
   "execution_count": null,
   "outputs": [
    {
     "output_type": "execute_result",
     "data": {
      "text/plain": [
       "array([[0.09739793, 0.07580665, 0.09913027, 0.0950095 , 0.07714292,\n",
       "        0.09696106, 0.11480682, 0.06162282, 0.07759857, 0.20452349]],\n",
       "      dtype=float32)"
      ]
     },
     "metadata": {},
     "execution_count": 8
    }
   ]
  },
  {
   "cell_type": "markdown",
   "source": [
    "## How to work the loss function?"
   ],
   "metadata": {
    "id": "Pi8Vvx4WqZ8C"
   }
  },
  {
   "cell_type": "code",
   "source": [
    "y_true = [1,2]\n",
    "y_pred =[[0.05,0.95,0],[0.1,0.8,0.1]]\n",
    "scce = tf.keras.losses.SparseCategoricalCrossentropy()\n",
    "scce(y_true, y_pred).numpy()"
   ],
   "metadata": {
    "colab": {
     "base_uri": "https://localhost:8080/"
    },
    "id": "fna6oDL9QUnY",
    "outputId": "b61694de-44d2-4381-f8bd-e61f708f23d8"
   },
   "execution_count": null,
   "outputs": [
    {
     "output_type": "execute_result",
     "data": {
      "text/plain": [
       "1.1769392"
      ]
     },
     "metadata": {},
     "execution_count": 9
    }
   ]
  },
  {
   "cell_type": "code",
   "source": [
    "loss_fn = tf.keras.losses.SparseCategoricalCrossentropy(from_logits = True)"
   ],
   "metadata": {
    "id": "6DMjrWjPRaIa"
   },
   "execution_count": null,
   "outputs": []
  },
  {
   "cell_type": "code",
   "source": [
    "loss_fn(y_train[:1], predictions).numpy()"
   ],
   "metadata": {
    "colab": {
     "base_uri": "https://localhost:8080/"
    },
    "id": "2buhD-m_Rt9A",
    "outputId": "b416d9a2-c8b1-41d2-b9a4-d57cd6aaa669"
   },
   "execution_count": null,
   "outputs": [
    {
     "output_type": "execute_result",
     "data": {
      "text/plain": [
       "2.3334458"
      ]
     },
     "metadata": {},
     "execution_count": 11
    }
   ]
  },
  {
   "cell_type": "markdown",
   "source": [
    "# Model Compiling"
   ],
   "metadata": {
    "id": "wpqL01Wcqgun"
   }
  },
  {
   "cell_type": "code",
   "source": [
    "model.compile(optimizer=\"adam\",\n",
    "              loss = loss_fn,\n",
    "              metrics=[\"accuracy\"])"
   ],
   "metadata": {
    "id": "j_4pbsQvR4dZ"
   },
   "execution_count": null,
   "outputs": []
  },
  {
   "cell_type": "markdown",
   "source": [
    "# Model Training"
   ],
   "metadata": {
    "id": "uugo1XUaqkpU"
   }
  },
  {
   "cell_type": "code",
   "source": [
    "model.fit(x_train, y_train, epochs=5)"
   ],
   "metadata": {
    "colab": {
     "base_uri": "https://localhost:8080/"
    },
    "id": "UHr5w9vWSyO4",
    "outputId": "33323546-0007-4f20-c86b-d0770c53c1cf"
   },
   "execution_count": null,
   "outputs": [
    {
     "output_type": "stream",
     "name": "stdout",
     "text": [
      "Epoch 1/5\n",
      "1875/1875 [==============================] - 6s 3ms/step - loss: 0.2986 - accuracy: 0.9124\n",
      "Epoch 2/5\n",
      "1875/1875 [==============================] - 4s 2ms/step - loss: 0.1440 - accuracy: 0.9570\n",
      "Epoch 3/5\n",
      "1875/1875 [==============================] - 4s 2ms/step - loss: 0.1085 - accuracy: 0.9666\n",
      "Epoch 4/5\n",
      "1875/1875 [==============================] - 4s 2ms/step - loss: 0.0888 - accuracy: 0.9726\n",
      "Epoch 5/5\n",
      "1875/1875 [==============================] - 4s 2ms/step - loss: 0.0752 - accuracy: 0.9765\n"
     ]
    },
    {
     "output_type": "execute_result",
     "data": {
      "text/plain": [
       "<keras.callbacks.History at 0x7fcb4388f5e0>"
      ]
     },
     "metadata": {},
     "execution_count": 13
    }
   ]
  },
  {
   "cell_type": "markdown",
   "source": [
    "# Evaluating the Model"
   ],
   "metadata": {
    "id": "uIy2IxltqoIP"
   }
  },
  {
   "cell_type": "code",
   "source": [
    "model.evaluate(x_test, y_test, verbose=2)"
   ],
   "metadata": {
    "colab": {
     "base_uri": "https://localhost:8080/"
    },
    "id": "xNJRG7k6TN3C",
    "outputId": "e0271873-398d-4cbd-a921-eff972522589"
   },
   "execution_count": null,
   "outputs": [
    {
     "output_type": "stream",
     "name": "stdout",
     "text": [
      "313/313 - 1s - loss: 0.0729 - accuracy: 0.9770 - 640ms/epoch - 2ms/step\n"
     ]
    },
    {
     "output_type": "execute_result",
     "data": {
      "text/plain": [
       "[0.07287608832120895, 0.9769999980926514]"
      ]
     },
     "metadata": {},
     "execution_count": 14
    }
   ]
  },
  {
   "cell_type": "markdown",
   "source": [
    "# Predicting the New Data"
   ],
   "metadata": {
    "id": "IFUS4OK8qrLq"
   }
  },
  {
   "cell_type": "code",
   "source": [
    "probability_model = tf.keras.Sequential([\n",
    "    model,\n",
    "    tf.keras.layers.Softmax()\n",
    "])"
   ],
   "metadata": {
    "id": "YEjlos1kTqux"
   },
   "execution_count": null,
   "outputs": []
  },
  {
   "cell_type": "code",
   "source": [
    "predictions = probability_model.predict(x_test[:1])\n",
    "predictions"
   ],
   "metadata": {
    "colab": {
     "base_uri": "https://localhost:8080/"
    },
    "id": "GGTUWwJOUMkZ",
    "outputId": "8defd6c0-1d77-472b-c882-420c2f94bd4e"
   },
   "execution_count": null,
   "outputs": [
    {
     "output_type": "stream",
     "name": "stdout",
     "text": [
      "1/1 [==============================] - 0s 66ms/step\n"
     ]
    },
    {
     "output_type": "execute_result",
     "data": {
      "text/plain": [
       "array([[3.3044097e-07, 2.8835391e-08, 1.1364058e-05, 2.1205934e-04,\n",
       "        6.3420041e-10, 2.5095582e-07, 2.1806922e-10, 9.9972683e-01,\n",
       "        4.2633836e-08, 4.9088536e-05]], dtype=float32)"
      ]
     },
     "metadata": {},
     "execution_count": 16
    }
   ]
  },
  {
   "cell_type": "code",
   "source": [
    "import numpy as np\n",
    "np.argmax(predictions[0])"
   ],
   "metadata": {
    "colab": {
     "base_uri": "https://localhost:8080/"
    },
    "id": "ur1Ol97FUYrB",
    "outputId": "9d074c6e-509c-4f42-c559-e9333edfca94"
   },
   "execution_count": null,
   "outputs": [
    {
     "output_type": "execute_result",
     "data": {
      "text/plain": [
       "7"
      ]
     },
     "metadata": {},
     "execution_count": 17
    }
   ]
  },
  {
   "cell_type": "code",
   "source": [
    "y_test[:1][0]"
   ],
   "metadata": {
    "colab": {
     "base_uri": "https://localhost:8080/"
    },
    "id": "AXOqgaB-UpQY",
    "outputId": "d27ef3b1-688a-4e43-89ba-0af430e77cbd"
   },
   "execution_count": null,
   "outputs": [
    {
     "output_type": "execute_result",
     "data": {
      "text/plain": [
       "7"
      ]
     },
     "metadata": {},
     "execution_count": 18
    }
   ]
  }
 ]
}
