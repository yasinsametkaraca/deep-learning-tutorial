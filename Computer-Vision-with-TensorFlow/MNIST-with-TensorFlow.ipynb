{
 "cells": [
  {
   "cell_type": "markdown",
   "id": "dominant-graphics",
   "metadata": {
    "papermill": {
     "duration": 0.009454,
     "end_time": "2021-04-14T21:31:20.905266",
     "exception": false,
     "start_time": "2021-04-14T21:31:20.895812",
     "status": "completed"
    },
    "tags": []
   },
   "source": [
    "![MNIST](https://upload.wikimedia.org/wikipedia/commons/2/27/MnistExamples.png)"
   ]
  },
  {
   "cell_type": "markdown",
   "id": "posted-packing",
   "metadata": {
    "papermill": {
     "duration": 0.007676,
     "end_time": "2021-04-14T21:31:20.921423",
     "exception": false,
     "start_time": "2021-04-14T21:31:20.913747",
     "status": "completed"
    },
    "tags": []
   },
   "source": [
    "In this tutorial, I will introduce deep learning using the MNIST data set with TensorFlow and Keras."
   ]
  },
  {
   "cell_type": "code",
   "execution_count": 1,
   "id": "transsexual-electron",
   "metadata": {
    "execution": {
     "iopub.execute_input": "2021-04-14T21:31:20.942052Z",
     "iopub.status.busy": "2021-04-14T21:31:20.940906Z",
     "iopub.status.idle": "2021-04-14T21:31:26.937332Z",
     "shell.execute_reply": "2021-04-14T21:31:26.936479Z"
    },
    "papermill": {
     "duration": 6.008077,
     "end_time": "2021-04-14T21:31:26.937500",
     "exception": false,
     "start_time": "2021-04-14T21:31:20.929423",
     "status": "completed"
    },
    "tags": []
   },
   "outputs": [],
   "source": [
    "# Importing tensorflow\n",
    "import tensorflow as tf"
   ]
  },
  {
   "cell_type": "code",
   "execution_count": 2,
   "id": "foster-worker",
   "metadata": {
    "execution": {
     "iopub.execute_input": "2021-04-14T21:31:26.960500Z",
     "iopub.status.busy": "2021-04-14T21:31:26.959485Z",
     "iopub.status.idle": "2021-04-14T21:31:26.961919Z",
     "shell.execute_reply": "2021-04-14T21:31:26.962467Z"
    },
    "papermill": {
     "duration": 0.016035,
     "end_time": "2021-04-14T21:31:26.962634",
     "exception": false,
     "start_time": "2021-04-14T21:31:26.946599",
     "status": "completed"
    },
    "tags": []
   },
   "outputs": [],
   "source": [
    "# Loading mnist dataset\n",
    "mnist = tf.keras.datasets.mnist"
   ]
  },
  {
   "cell_type": "code",
   "execution_count": 3,
   "id": "statutory-cologne",
   "metadata": {
    "execution": {
     "iopub.execute_input": "2021-04-14T21:31:26.982995Z",
     "iopub.status.busy": "2021-04-14T21:31:26.982033Z",
     "iopub.status.idle": "2021-04-14T21:31:28.377772Z",
     "shell.execute_reply": "2021-04-14T21:31:28.378413Z"
    },
    "papermill": {
     "duration": 1.40777,
     "end_time": "2021-04-14T21:31:28.378623",
     "exception": false,
     "start_time": "2021-04-14T21:31:26.970853",
     "status": "completed"
    },
    "tags": []
   },
   "outputs": [
    {
     "name": "stdout",
     "output_type": "stream",
     "text": [
      "Downloading data from https://storage.googleapis.com/tensorflow/tf-keras-datasets/mnist.npz\n",
      "11493376/11490434 [==============================] - 0s 0us/step\n"
     ]
    }
   ],
   "source": [
    "# Creating train and test sets\n",
    "(x_train, y_train), (x_test, y_test) = mnist.load_data()"
   ]
  },
  {
   "cell_type": "code",
   "execution_count": 4,
   "id": "criminal-reaction",
   "metadata": {
    "execution": {
     "iopub.execute_input": "2021-04-14T21:31:28.405641Z",
     "iopub.status.busy": "2021-04-14T21:31:28.404871Z",
     "iopub.status.idle": "2021-04-14T21:31:28.408622Z",
     "shell.execute_reply": "2021-04-14T21:31:28.409243Z"
    },
    "papermill": {
     "duration": 0.019968,
     "end_time": "2021-04-14T21:31:28.409438",
     "exception": false,
     "start_time": "2021-04-14T21:31:28.389470",
     "status": "completed"
    },
    "tags": []
   },
   "outputs": [
    {
     "name": "stdout",
     "output_type": "stream",
     "text": [
      "(60000, 28, 28)\n",
      "(10000, 28, 28)\n"
     ]
    }
   ],
   "source": [
    "# Lets take a look shapes of datasets\n",
    "print (x_train.shape)\n",
    "print (x_test.shape)"
   ]
  },
  {
   "cell_type": "code",
   "execution_count": 5,
   "id": "cloudy-snake",
   "metadata": {
    "execution": {
     "iopub.execute_input": "2021-04-14T21:31:28.437641Z",
     "iopub.status.busy": "2021-04-14T21:31:28.436259Z",
     "iopub.status.idle": "2021-04-14T21:31:28.731560Z",
     "shell.execute_reply": "2021-04-14T21:31:28.730912Z"
    },
    "papermill": {
     "duration": 0.311148,
     "end_time": "2021-04-14T21:31:28.731741",
     "exception": false,
     "start_time": "2021-04-14T21:31:28.420593",
     "status": "completed"
    },
    "tags": []
   },
   "outputs": [],
   "source": [
    "# Normalization\n",
    "x_train, x_test = x_train / 255.0, x_test / 255.0"
   ]
  },
  {
   "cell_type": "code",
   "execution_count": 6,
   "id": "governing-feature",
   "metadata": {
    "execution": {
     "iopub.execute_input": "2021-04-14T21:31:28.760114Z",
     "iopub.status.busy": "2021-04-14T21:31:28.759469Z",
     "iopub.status.idle": "2021-04-14T21:31:28.856327Z",
     "shell.execute_reply": "2021-04-14T21:31:28.855623Z"
    },
    "papermill": {
     "duration": 0.113903,
     "end_time": "2021-04-14T21:31:28.856477",
     "exception": false,
     "start_time": "2021-04-14T21:31:28.742574",
     "status": "completed"
    },
    "tags": []
   },
   "outputs": [],
   "source": [
    "# Building the model\n",
    "model = tf.keras.models.Sequential([\n",
    "  tf.keras.layers.Flatten(input_shape=(28, 28)),  #(1)\n",
    "  tf.keras.layers.Dense(128, activation='relu'), #(2)\n",
    "  tf.keras.layers.Dropout(0.2),   #(3)\n",
    "  tf.keras.layers.Dense(10)       #(4)\n",
    "])"
   ]
  },
  {
   "cell_type": "code",
   "execution_count": 7,
   "id": "indian-tokyo",
   "metadata": {
    "execution": {
     "iopub.execute_input": "2021-04-14T21:31:28.893706Z",
     "iopub.status.busy": "2021-04-14T21:31:28.892468Z",
     "iopub.status.idle": "2021-04-14T21:31:28.901639Z",
     "shell.execute_reply": "2021-04-14T21:31:28.900883Z"
    },
    "papermill": {
     "duration": 0.03419,
     "end_time": "2021-04-14T21:31:28.901805",
     "exception": false,
     "start_time": "2021-04-14T21:31:28.867615",
     "status": "completed"
    },
    "tags": []
   },
   "outputs": [],
   "source": [
    "# Compiling the model\n",
    "model.compile(optimizer='adam', # (1)\n",
    "              loss=tf.keras.losses.SparseCategoricalCrossentropy(from_logits=True), # (2)\n",
    "              metrics=['accuracy'] # (3)\n",
    "\t\t\t  )"
   ]
  },
  {
   "cell_type": "code",
   "execution_count": 8,
   "id": "injured-assignment",
   "metadata": {
    "execution": {
     "iopub.execute_input": "2021-04-14T21:31:28.930492Z",
     "iopub.status.busy": "2021-04-14T21:31:28.929688Z",
     "iopub.status.idle": "2021-04-14T21:31:45.646164Z",
     "shell.execute_reply": "2021-04-14T21:31:45.645610Z"
    },
    "papermill": {
     "duration": 16.732635,
     "end_time": "2021-04-14T21:31:45.646315",
     "exception": false,
     "start_time": "2021-04-14T21:31:28.913680",
     "status": "completed"
    },
    "tags": []
   },
   "outputs": [
    {
     "name": "stdout",
     "output_type": "stream",
     "text": [
      "Epoch 1/5\n",
      "1875/1875 [==============================] - 4s 2ms/step - loss: 0.4837 - accuracy: 0.8622\n",
      "Epoch 2/5\n",
      "1875/1875 [==============================] - 3s 2ms/step - loss: 0.1498 - accuracy: 0.9554\n",
      "Epoch 3/5\n",
      "1875/1875 [==============================] - 3s 2ms/step - loss: 0.1099 - accuracy: 0.9666\n",
      "Epoch 4/5\n",
      "1875/1875 [==============================] - 3s 2ms/step - loss: 0.0900 - accuracy: 0.9723\n",
      "Epoch 5/5\n",
      "1875/1875 [==============================] - 3s 2ms/step - loss: 0.0735 - accuracy: 0.9759\n"
     ]
    },
    {
     "data": {
      "text/plain": [
       "<tensorflow.python.keras.callbacks.History at 0x7f00cd904590>"
      ]
     },
     "execution_count": 8,
     "metadata": {},
     "output_type": "execute_result"
    }
   ],
   "source": [
    "# Training the model\n",
    "model.fit(x_train, y_train, epochs=5)"
   ]
  },
  {
   "cell_type": "code",
   "execution_count": 9,
   "id": "iraqi-memorial",
   "metadata": {
    "execution": {
     "iopub.execute_input": "2021-04-14T21:31:45.863675Z",
     "iopub.status.busy": "2021-04-14T21:31:45.862879Z",
     "iopub.status.idle": "2021-04-14T21:31:46.447605Z",
     "shell.execute_reply": "2021-04-14T21:31:46.447039Z"
    },
    "papermill": {
     "duration": 0.694509,
     "end_time": "2021-04-14T21:31:46.447769",
     "exception": false,
     "start_time": "2021-04-14T21:31:45.753260",
     "status": "completed"
    },
    "tags": []
   },
   "outputs": [
    {
     "name": "stdout",
     "output_type": "stream",
     "text": [
      "313/313 [==============================] - 0s 1ms/step - loss: 0.0753 - accuracy: 0.9771\n"
     ]
    },
    {
     "data": {
      "text/plain": [
       "[0.07531128823757172, 0.9771000146865845]"
      ]
     },
     "execution_count": 9,
     "metadata": {},
     "output_type": "execute_result"
    }
   ],
   "source": [
    "# Evaluating the model\n",
    "model.evaluate(x_test,  y_test)"
   ]
  }
 ],
 "metadata": {
  "kernelspec": {
   "display_name": "Python 3",
   "language": "python",
   "name": "python3"
  },
  "language_info": {
   "codemirror_mode": {
    "name": "ipython",
    "version": 3
   },
   "file_extension": ".py",
   "mimetype": "text/x-python",
   "name": "python",
   "nbconvert_exporter": "python",
   "pygments_lexer": "ipython3",
   "version": "3.7.9"
  },
  "papermill": {
   "default_parameters": {},
   "duration": 33.714551,
   "end_time": "2021-04-14T21:31:47.973311",
   "environment_variables": {},
   "exception": null,
   "input_path": "__notebook__.ipynb",
   "output_path": "__notebook__.ipynb",
   "parameters": {},
   "start_time": "2021-04-14T21:31:14.258760",
   "version": "2.3.2"
  }
 },
 "nbformat": 4,
 "nbformat_minor": 5
}
