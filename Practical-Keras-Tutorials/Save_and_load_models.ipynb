{
 "nbformat": 4,
 "nbformat_minor": 0,
 "metadata": {
  "colab": {
   "provenance": [],
   "authorship_tag": "ABX9TyNRdCnNxubyoeZ9B0d5kTSD",
   "include_colab_link": true
  },
  "kernelspec": {
   "name": "python3",
   "display_name": "Python 3 (ipykernel)",
   "language": "python"
  },
  "language_info": {
   "name": "python"
  },
  "accelerator": "GPU",
  "gpuClass": "standard"
 },
 "cells": [
  {
   "cell_type": "markdown",
   "source": [
    "# Loading the Dataset"
   ],
   "metadata": {
    "id": "apG3xw02JmzI"
   }
  },
  {
   "cell_type": "code",
   "source": [
    "import tensorflow as tf\n",
    "from tensorflow import keras"
   ],
   "metadata": {
    "id": "simODhhp9cvS",
    "ExecuteTime": {
     "end_time": "2024-10-11T11:16:18.373478Z",
     "start_time": "2024-10-11T11:16:18.369830Z"
    }
   },
   "outputs": [],
   "execution_count": 62
  },
  {
   "cell_type": "code",
   "source": "(train_images, train_labels), (test_images, test_labels) = tf.keras.datasets.mnist.load_data() ",
   "metadata": {
    "colab": {
     "base_uri": "https://localhost:8080/"
    },
    "id": "S1G02mXS-Oie",
    "outputId": "da80e3ad-765d-400b-8ae3-f155e0bbf01b",
    "ExecuteTime": {
     "end_time": "2024-10-11T11:16:18.573590Z",
     "start_time": "2024-10-11T11:16:18.429464Z"
    }
   },
   "outputs": [],
   "execution_count": 63
  },
  {
   "cell_type": "markdown",
   "source": [
    "# Data Preprocessing"
   ],
   "metadata": {
    "id": "9nTbi2CuJsK0"
   }
  },
  {
   "cell_type": "code",
   "source": [
    "train_labels = train_labels[:1000] # For the sake of time (first 1000 samples)\n",
    "test_labels = test_labels[:1000]\n",
    "train_images"
   ],
   "metadata": {
    "id": "Tq5a7V0b-Tm7",
    "ExecuteTime": {
     "end_time": "2024-10-11T11:16:18.578306Z",
     "start_time": "2024-10-11T11:16:18.574595Z"
    }
   },
   "outputs": [
    {
     "data": {
      "text/plain": [
       "array([[[0, 0, 0, ..., 0, 0, 0],\n",
       "        [0, 0, 0, ..., 0, 0, 0],\n",
       "        [0, 0, 0, ..., 0, 0, 0],\n",
       "        ...,\n",
       "        [0, 0, 0, ..., 0, 0, 0],\n",
       "        [0, 0, 0, ..., 0, 0, 0],\n",
       "        [0, 0, 0, ..., 0, 0, 0]],\n",
       "\n",
       "       [[0, 0, 0, ..., 0, 0, 0],\n",
       "        [0, 0, 0, ..., 0, 0, 0],\n",
       "        [0, 0, 0, ..., 0, 0, 0],\n",
       "        ...,\n",
       "        [0, 0, 0, ..., 0, 0, 0],\n",
       "        [0, 0, 0, ..., 0, 0, 0],\n",
       "        [0, 0, 0, ..., 0, 0, 0]],\n",
       "\n",
       "       [[0, 0, 0, ..., 0, 0, 0],\n",
       "        [0, 0, 0, ..., 0, 0, 0],\n",
       "        [0, 0, 0, ..., 0, 0, 0],\n",
       "        ...,\n",
       "        [0, 0, 0, ..., 0, 0, 0],\n",
       "        [0, 0, 0, ..., 0, 0, 0],\n",
       "        [0, 0, 0, ..., 0, 0, 0]],\n",
       "\n",
       "       ...,\n",
       "\n",
       "       [[0, 0, 0, ..., 0, 0, 0],\n",
       "        [0, 0, 0, ..., 0, 0, 0],\n",
       "        [0, 0, 0, ..., 0, 0, 0],\n",
       "        ...,\n",
       "        [0, 0, 0, ..., 0, 0, 0],\n",
       "        [0, 0, 0, ..., 0, 0, 0],\n",
       "        [0, 0, 0, ..., 0, 0, 0]],\n",
       "\n",
       "       [[0, 0, 0, ..., 0, 0, 0],\n",
       "        [0, 0, 0, ..., 0, 0, 0],\n",
       "        [0, 0, 0, ..., 0, 0, 0],\n",
       "        ...,\n",
       "        [0, 0, 0, ..., 0, 0, 0],\n",
       "        [0, 0, 0, ..., 0, 0, 0],\n",
       "        [0, 0, 0, ..., 0, 0, 0]],\n",
       "\n",
       "       [[0, 0, 0, ..., 0, 0, 0],\n",
       "        [0, 0, 0, ..., 0, 0, 0],\n",
       "        [0, 0, 0, ..., 0, 0, 0],\n",
       "        ...,\n",
       "        [0, 0, 0, ..., 0, 0, 0],\n",
       "        [0, 0, 0, ..., 0, 0, 0],\n",
       "        [0, 0, 0, ..., 0, 0, 0]]], dtype=uint8)"
      ]
     },
     "execution_count": 64,
     "metadata": {},
     "output_type": "execute_result"
    }
   ],
   "execution_count": 64
  },
  {
   "cell_type": "code",
   "source": [
    "train_images = train_images[:1000].reshape(-1, 28 * 28) / 255.0 # Normalizing the images to [0, 1] range. 2D to 1D array to feed into the model\n",
    "test_images = test_images[:1000].reshape(-1, 28 * 28) / 255.0\n",
    "test_images"
   ],
   "metadata": {
    "id": "0o4yBAhh-oMX",
    "ExecuteTime": {
     "end_time": "2024-10-11T11:16:18.586953Z",
     "start_time": "2024-10-11T11:16:18.578306Z"
    }
   },
   "outputs": [
    {
     "data": {
      "text/plain": [
       "array([[0., 0., 0., ..., 0., 0., 0.],\n",
       "       [0., 0., 0., ..., 0., 0., 0.],\n",
       "       [0., 0., 0., ..., 0., 0., 0.],\n",
       "       ...,\n",
       "       [0., 0., 0., ..., 0., 0., 0.],\n",
       "       [0., 0., 0., ..., 0., 0., 0.],\n",
       "       [0., 0., 0., ..., 0., 0., 0.]])"
      ]
     },
     "execution_count": 65,
     "metadata": {},
     "output_type": "execute_result"
    }
   ],
   "execution_count": 65
  },
  {
   "cell_type": "markdown",
   "source": [
    "# Modeling"
   ],
   "metadata": {
    "id": "BSrxDMuvJwI7"
   }
  },
  {
   "cell_type": "code",
   "source": [
    "def create_model():\n",
    "  model = tf.keras.Sequential([\n",
    "    keras.layers.Dense(512, activation='relu', input_shape=(784,)),\n",
    "    keras.layers.Dropout(0.2), # Dropout layer to prevent overfitting. It randomly sets 20% of the input units to 0 at each update during training time\n",
    "    keras.layers.Dense(10) # Output layer with 10 units\n",
    "  ])\n",
    "  \n",
    "  model.compile(optimizer='adam',\n",
    "                loss=tf.keras.losses.SparseCategoricalCrossentropy(from_logits=True),\n",
    "                metrics=[tf.keras.metrics.SparseCategoricalAccuracy()]) # SparseCategoricalAccuracy computes how often predictions match integer labels\n",
    "\n",
    "  return model"
   ],
   "metadata": {
    "id": "rMTj4t77-rmS",
    "ExecuteTime": {
     "end_time": "2024-10-11T11:16:18.591242Z",
     "start_time": "2024-10-11T11:16:18.587961Z"
    }
   },
   "outputs": [],
   "execution_count": 66
  },
  {
   "cell_type": "code",
   "source": [
    "model = create_model()\n",
    "model.summary()"
   ],
   "metadata": {
    "id": "FVLY0XCn-v9a",
    "colab": {
     "base_uri": "https://localhost:8080/"
    },
    "outputId": "ae8c91e8-7a52-4ab8-f1d4-ba3c364cddf8",
    "ExecuteTime": {
     "end_time": "2024-10-11T11:16:18.615195Z",
     "start_time": "2024-10-11T11:16:18.591242Z"
    }
   },
   "outputs": [
    {
     "name": "stderr",
     "output_type": "stream",
     "text": [
      "C:\\Users\\yasin\\AppData\\Roaming\\Python\\Python311\\site-packages\\keras\\src\\layers\\core\\dense.py:87: UserWarning: Do not pass an `input_shape`/`input_dim` argument to a layer. When using Sequential models, prefer using an `Input(shape)` object as the first layer in the model instead.\n",
      "  super().__init__(activity_regularizer=activity_regularizer, **kwargs)\n"
     ]
    },
    {
     "data": {
      "text/plain": [
       "\u001B[1mModel: \"sequential_9\"\u001B[0m\n"
      ],
      "text/html": [
       "<pre style=\"white-space:pre;overflow-x:auto;line-height:normal;font-family:Menlo,'DejaVu Sans Mono',consolas,'Courier New',monospace\"><span style=\"font-weight: bold\">Model: \"sequential_9\"</span>\n",
       "</pre>\n"
      ]
     },
     "metadata": {},
     "output_type": "display_data"
    },
    {
     "data": {
      "text/plain": [
       "┏━━━━━━━━━━━━━━━━━━━━━━━━━━━━━━━━━┳━━━━━━━━━━━━━━━━━━━━━━━━┳━━━━━━━━━━━━━━━┓\n",
       "┃\u001B[1m \u001B[0m\u001B[1mLayer (type)                   \u001B[0m\u001B[1m \u001B[0m┃\u001B[1m \u001B[0m\u001B[1mOutput Shape          \u001B[0m\u001B[1m \u001B[0m┃\u001B[1m \u001B[0m\u001B[1m      Param #\u001B[0m\u001B[1m \u001B[0m┃\n",
       "┡━━━━━━━━━━━━━━━━━━━━━━━━━━━━━━━━━╇━━━━━━━━━━━━━━━━━━━━━━━━╇━━━━━━━━━━━━━━━┩\n",
       "│ dense_18 (\u001B[38;5;33mDense\u001B[0m)                │ (\u001B[38;5;45mNone\u001B[0m, \u001B[38;5;34m512\u001B[0m)            │       \u001B[38;5;34m401,920\u001B[0m │\n",
       "├─────────────────────────────────┼────────────────────────┼───────────────┤\n",
       "│ dropout_9 (\u001B[38;5;33mDropout\u001B[0m)             │ (\u001B[38;5;45mNone\u001B[0m, \u001B[38;5;34m512\u001B[0m)            │             \u001B[38;5;34m0\u001B[0m │\n",
       "├─────────────────────────────────┼────────────────────────┼───────────────┤\n",
       "│ dense_19 (\u001B[38;5;33mDense\u001B[0m)                │ (\u001B[38;5;45mNone\u001B[0m, \u001B[38;5;34m10\u001B[0m)             │         \u001B[38;5;34m5,130\u001B[0m │\n",
       "└─────────────────────────────────┴────────────────────────┴───────────────┘\n"
      ],
      "text/html": [
       "<pre style=\"white-space:pre;overflow-x:auto;line-height:normal;font-family:Menlo,'DejaVu Sans Mono',consolas,'Courier New',monospace\">┏━━━━━━━━━━━━━━━━━━━━━━━━━━━━━━━━━┳━━━━━━━━━━━━━━━━━━━━━━━━┳━━━━━━━━━━━━━━━┓\n",
       "┃<span style=\"font-weight: bold\"> Layer (type)                    </span>┃<span style=\"font-weight: bold\"> Output Shape           </span>┃<span style=\"font-weight: bold\">       Param # </span>┃\n",
       "┡━━━━━━━━━━━━━━━━━━━━━━━━━━━━━━━━━╇━━━━━━━━━━━━━━━━━━━━━━━━╇━━━━━━━━━━━━━━━┩\n",
       "│ dense_18 (<span style=\"color: #0087ff; text-decoration-color: #0087ff\">Dense</span>)                │ (<span style=\"color: #00d7ff; text-decoration-color: #00d7ff\">None</span>, <span style=\"color: #00af00; text-decoration-color: #00af00\">512</span>)            │       <span style=\"color: #00af00; text-decoration-color: #00af00\">401,920</span> │\n",
       "├─────────────────────────────────┼────────────────────────┼───────────────┤\n",
       "│ dropout_9 (<span style=\"color: #0087ff; text-decoration-color: #0087ff\">Dropout</span>)             │ (<span style=\"color: #00d7ff; text-decoration-color: #00d7ff\">None</span>, <span style=\"color: #00af00; text-decoration-color: #00af00\">512</span>)            │             <span style=\"color: #00af00; text-decoration-color: #00af00\">0</span> │\n",
       "├─────────────────────────────────┼────────────────────────┼───────────────┤\n",
       "│ dense_19 (<span style=\"color: #0087ff; text-decoration-color: #0087ff\">Dense</span>)                │ (<span style=\"color: #00d7ff; text-decoration-color: #00d7ff\">None</span>, <span style=\"color: #00af00; text-decoration-color: #00af00\">10</span>)             │         <span style=\"color: #00af00; text-decoration-color: #00af00\">5,130</span> │\n",
       "└─────────────────────────────────┴────────────────────────┴───────────────┘\n",
       "</pre>\n"
      ]
     },
     "metadata": {},
     "output_type": "display_data"
    },
    {
     "data": {
      "text/plain": [
       "\u001B[1m Total params: \u001B[0m\u001B[38;5;34m407,050\u001B[0m (1.55 MB)\n"
      ],
      "text/html": [
       "<pre style=\"white-space:pre;overflow-x:auto;line-height:normal;font-family:Menlo,'DejaVu Sans Mono',consolas,'Courier New',monospace\"><span style=\"font-weight: bold\"> Total params: </span><span style=\"color: #00af00; text-decoration-color: #00af00\">407,050</span> (1.55 MB)\n",
       "</pre>\n"
      ]
     },
     "metadata": {},
     "output_type": "display_data"
    },
    {
     "data": {
      "text/plain": [
       "\u001B[1m Trainable params: \u001B[0m\u001B[38;5;34m407,050\u001B[0m (1.55 MB)\n"
      ],
      "text/html": [
       "<pre style=\"white-space:pre;overflow-x:auto;line-height:normal;font-family:Menlo,'DejaVu Sans Mono',consolas,'Courier New',monospace\"><span style=\"font-weight: bold\"> Trainable params: </span><span style=\"color: #00af00; text-decoration-color: #00af00\">407,050</span> (1.55 MB)\n",
       "</pre>\n"
      ]
     },
     "metadata": {},
     "output_type": "display_data"
    },
    {
     "data": {
      "text/plain": [
       "\u001B[1m Non-trainable params: \u001B[0m\u001B[38;5;34m0\u001B[0m (0.00 B)\n"
      ],
      "text/html": [
       "<pre style=\"white-space:pre;overflow-x:auto;line-height:normal;font-family:Menlo,'DejaVu Sans Mono',consolas,'Courier New',monospace\"><span style=\"font-weight: bold\"> Non-trainable params: </span><span style=\"color: #00af00; text-decoration-color: #00af00\">0</span> (0.00 B)\n",
       "</pre>\n"
      ]
     },
     "metadata": {},
     "output_type": "display_data"
    }
   ],
   "execution_count": 67
  },
  {
   "cell_type": "markdown",
   "source": [
    "# Saving the Model"
   ],
   "metadata": {
    "id": "z6KkwHQRJyph"
   }
  },
  {
   "cell_type": "code",
   "source": [
    "import os \n",
    "checkpoint_path = \"training_1/my_checkpoints.weights.h5\"\n",
    "checkpoint_dir = os.path.dirname(checkpoint_path)"
   ],
   "metadata": {
    "id": "3pyoIIlM_1_h",
    "ExecuteTime": {
     "end_time": "2024-10-11T11:16:18.618224Z",
     "start_time": "2024-10-11T11:16:18.615195Z"
    }
   },
   "outputs": [],
   "execution_count": 68
  },
  {
   "metadata": {},
   "cell_type": "markdown",
   "source": "callback is a set of functions to be applied at given stages of the training procedure. You can use callbacks to get a view on internal states and statistics of the model during training. You can pass a list of callbacks (as the keyword argument callbacks) to the .fit() method of the Sequential or Model classes. The relevant methods of the callbacks will then be called at each stage of the training."
  },
  {
   "cell_type": "code",
   "source": [
    "checkpoint_cb = tf.keras.callbacks.ModelCheckpoint(filepath=checkpoint_path,\n",
    "                                                 save_weights_only=True) # Save the weights only"
   ],
   "metadata": {
    "id": "f8roJV2tAA7c",
    "ExecuteTime": {
     "end_time": "2024-10-11T11:16:18.622228Z",
     "start_time": "2024-10-11T11:16:18.619228Z"
    }
   },
   "outputs": [],
   "execution_count": 69
  },
  {
   "cell_type": "code",
   "source": [
    "model.fit(train_images, \n",
    "          train_labels,  \n",
    "          epochs=10,\n",
    "          validation_data=(test_images, test_labels),\n",
    "          callbacks=[checkpoint_cb]) # callbacks parameter is a list of callbacks to apply during training"
   ],
   "metadata": {
    "colab": {
     "base_uri": "https://localhost:8080/"
    },
    "id": "71irwhfaAESq",
    "outputId": "0f5e8e02-3751-4f6d-b18d-63994d53e168",
    "ExecuteTime": {
     "end_time": "2024-10-11T11:16:20.372414Z",
     "start_time": "2024-10-11T11:16:18.623274Z"
    }
   },
   "outputs": [
    {
     "name": "stdout",
     "output_type": "stream",
     "text": [
      "Epoch 1/10\n",
      "\u001B[1m32/32\u001B[0m \u001B[32m━━━━━━━━━━━━━━━━━━━━\u001B[0m\u001B[37m\u001B[0m \u001B[1m1s\u001B[0m 6ms/step - loss: 1.5522 - sparse_categorical_accuracy: 0.5387 - val_loss: 0.7456 - val_sparse_categorical_accuracy: 0.7420\n",
      "Epoch 2/10\n",
      "\u001B[1m32/32\u001B[0m \u001B[32m━━━━━━━━━━━━━━━━━━━━\u001B[0m\u001B[37m\u001B[0m \u001B[1m0s\u001B[0m 4ms/step - loss: 0.4689 - sparse_categorical_accuracy: 0.8632 - val_loss: 0.5150 - val_sparse_categorical_accuracy: 0.8450\n",
      "Epoch 3/10\n",
      "\u001B[1m32/32\u001B[0m \u001B[32m━━━━━━━━━━━━━━━━━━━━\u001B[0m\u001B[37m\u001B[0m \u001B[1m0s\u001B[0m 4ms/step - loss: 0.2791 - sparse_categorical_accuracy: 0.9329 - val_loss: 0.4997 - val_sparse_categorical_accuracy: 0.8420\n",
      "Epoch 4/10\n",
      "\u001B[1m32/32\u001B[0m \u001B[32m━━━━━━━━━━━━━━━━━━━━\u001B[0m\u001B[37m\u001B[0m \u001B[1m0s\u001B[0m 3ms/step - loss: 0.2226 - sparse_categorical_accuracy: 0.9529 - val_loss: 0.4593 - val_sparse_categorical_accuracy: 0.8400\n",
      "Epoch 5/10\n",
      "\u001B[1m32/32\u001B[0m \u001B[32m━━━━━━━━━━━━━━━━━━━━\u001B[0m\u001B[37m\u001B[0m \u001B[1m0s\u001B[0m 4ms/step - loss: 0.1685 - sparse_categorical_accuracy: 0.9582 - val_loss: 0.4104 - val_sparse_categorical_accuracy: 0.8650\n",
      "Epoch 6/10\n",
      "\u001B[1m32/32\u001B[0m \u001B[32m━━━━━━━━━━━━━━━━━━━━\u001B[0m\u001B[37m\u001B[0m \u001B[1m0s\u001B[0m 3ms/step - loss: 0.1084 - sparse_categorical_accuracy: 0.9808 - val_loss: 0.4005 - val_sparse_categorical_accuracy: 0.8730\n",
      "Epoch 7/10\n",
      "\u001B[1m32/32\u001B[0m \u001B[32m━━━━━━━━━━━━━━━━━━━━\u001B[0m\u001B[37m\u001B[0m \u001B[1m0s\u001B[0m 3ms/step - loss: 0.0863 - sparse_categorical_accuracy: 0.9913 - val_loss: 0.4447 - val_sparse_categorical_accuracy: 0.8590\n",
      "Epoch 8/10\n",
      "\u001B[1m32/32\u001B[0m \u001B[32m━━━━━━━━━━━━━━━━━━━━\u001B[0m\u001B[37m\u001B[0m \u001B[1m0s\u001B[0m 3ms/step - loss: 0.0705 - sparse_categorical_accuracy: 0.9929 - val_loss: 0.4340 - val_sparse_categorical_accuracy: 0.8580\n",
      "Epoch 9/10\n",
      "\u001B[1m32/32\u001B[0m \u001B[32m━━━━━━━━━━━━━━━━━━━━\u001B[0m\u001B[37m\u001B[0m \u001B[1m0s\u001B[0m 3ms/step - loss: 0.0577 - sparse_categorical_accuracy: 0.9938 - val_loss: 0.4043 - val_sparse_categorical_accuracy: 0.8670\n",
      "Epoch 10/10\n",
      "\u001B[1m32/32\u001B[0m \u001B[32m━━━━━━━━━━━━━━━━━━━━\u001B[0m\u001B[37m\u001B[0m \u001B[1m0s\u001B[0m 3ms/step - loss: 0.0389 - sparse_categorical_accuracy: 0.9989 - val_loss: 0.3996 - val_sparse_categorical_accuracy: 0.8710\n"
     ]
    },
    {
     "data": {
      "text/plain": [
       "<keras.src.callbacks.history.History at 0x1fabd1b61d0>"
      ]
     },
     "execution_count": 70,
     "metadata": {},
     "output_type": "execute_result"
    }
   ],
   "execution_count": 70
  },
  {
   "cell_type": "code",
   "source": [
    "os.listdir(checkpoint_dir)"
   ],
   "metadata": {
    "colab": {
     "base_uri": "https://localhost:8080/"
    },
    "id": "HynYVdlqCHVv",
    "outputId": "a2a809bf-233b-41ec-9977-84cff394fdb6",
    "ExecuteTime": {
     "end_time": "2024-10-11T11:16:20.376860Z",
     "start_time": "2024-10-11T11:16:20.372414Z"
    }
   },
   "outputs": [
    {
     "data": {
      "text/plain": [
       "['my_checkpoints.weights.h5']"
      ]
     },
     "execution_count": 71,
     "metadata": {},
     "output_type": "execute_result"
    }
   ],
   "execution_count": 71
  },
  {
   "cell_type": "markdown",
   "source": [
    "# Loading the Weights"
   ],
   "metadata": {
    "id": "yjqEYLnYJ7zl"
   }
  },
  {
   "cell_type": "code",
   "source": [
    "model = create_model()"
   ],
   "metadata": {
    "id": "70X1XvwBFRch",
    "ExecuteTime": {
     "end_time": "2024-10-11T11:16:20.395266Z",
     "start_time": "2024-10-11T11:16:20.378252Z"
    }
   },
   "outputs": [],
   "execution_count": 72
  },
  {
   "cell_type": "code",
   "source": [
    "loss, acc = model.evaluate(test_images, test_labels, verbose=2) \n",
    "print(f\"Untrained model, accuracy: {100 * acc:5.2f}%\") # Accuracy of the untrained model"
   ],
   "metadata": {
    "colab": {
     "base_uri": "https://localhost:8080/"
    },
    "id": "oKAHlryFFUCO",
    "outputId": "0f359f0e-e562-4ea1-f18d-ea89640c5121",
    "ExecuteTime": {
     "end_time": "2024-10-11T11:16:20.508497Z",
     "start_time": "2024-10-11T11:16:20.396374Z"
    }
   },
   "outputs": [
    {
     "name": "stdout",
     "output_type": "stream",
     "text": [
      "32/32 - 0s - 2ms/step - loss: 2.3960 - sparse_categorical_accuracy: 0.1180\n",
      "Untrained model, accuracy: 11.80%\n"
     ]
    }
   ],
   "execution_count": 73
  },
  {
   "cell_type": "code",
   "source": [
    "model.load_weights(checkpoint_path) # Load the weights from the checkpoint file to the model\n",
    "loss, acc = model.evaluate(test_images, test_labels, verbose=2)\n",
    "print(f\"trained model, accuracy: {100 * acc:5.2f}%\") # Accuracy of the trained model"
   ],
   "metadata": {
    "id": "xYBwxizMFcb8",
    "outputId": "d06c91a6-2f47-41ed-b97c-fe3bc3634ac5",
    "colab": {
     "base_uri": "https://localhost:8080/"
    },
    "ExecuteTime": {
     "end_time": "2024-10-11T11:16:20.592200Z",
     "start_time": "2024-10-11T11:16:20.508497Z"
    }
   },
   "outputs": [
    {
     "name": "stdout",
     "output_type": "stream",
     "text": [
      "32/32 - 0s - 1ms/step - loss: 0.3996 - sparse_categorical_accuracy: 0.8710\n",
      "Untrained model, accuracy: 87.10%\n"
     ]
    },
    {
     "name": "stderr",
     "output_type": "stream",
     "text": [
      "C:\\Users\\yasin\\AppData\\Roaming\\Python\\Python311\\site-packages\\keras\\src\\saving\\saving_lib.py:415: UserWarning: Skipping variable loading for optimizer 'adam', because it has 2 variables whereas the saved optimizer has 10 variables. \n",
      "  saveable.load_own_variables(weights_store.get(inner_path))\n"
     ]
    }
   ],
   "execution_count": 74
  },
  {
   "cell_type": "markdown",
   "source": [
    "# Checkpoint callback options"
   ],
   "metadata": {
    "id": "aMw53q0TKQ_C"
   }
  },
  {
   "cell_type": "code",
   "source": [
    "checkpoint_path = \"training_2/cp-{epoch:04d}.weights.h5\" # Save the weights every epochs in the checkpoint file\n",
    "checkpoint_dir = os.path.dirname(checkpoint_path) # Get the directory name of the checkpoint file\n",
    "batch_size = 32\n",
    "checkpoint_cb = tf.keras.callbacks.ModelCheckpoint(\n",
    "    filepath=checkpoint_path, \n",
    "    verbose=1, # Verbose means the output of the model training process will be displayed on the screen. 0 = silent, 1 = progress bar, 2 = one line per epoch\n",
    "    save_weights_only=True,\n",
    "    save_freq=5*batch_size) # Save the weights every 5 epochs"
   ],
   "metadata": {
    "id": "b0NJyWQDKSAD",
    "ExecuteTime": {
     "end_time": "2024-10-11T11:16:20.596100Z",
     "start_time": "2024-10-11T11:16:20.592200Z"
    }
   },
   "outputs": [],
   "execution_count": 75
  },
  {
   "cell_type": "code",
   "source": [
    "model = create_model()\n",
    "# model.save_weights(checkpoint_path.format(epoch=0))\n",
    "model.fit(train_images, \n",
    "          train_labels,\n",
    "          epochs=50, \n",
    "          batch_size=batch_size, \n",
    "          callbacks=[checkpoint_cb],\n",
    "          validation_data=(test_images, test_labels),\n",
    "          verbose=0)"
   ],
   "metadata": {
    "colab": {
     "base_uri": "https://localhost:8080/"
    },
    "id": "3pAIZ12dK8l8",
    "outputId": "c8358044-9a98-4889-ee95-270d6a54acd7",
    "ExecuteTime": {
     "end_time": "2024-10-11T11:16:25.940220Z",
     "start_time": "2024-10-11T11:16:20.597217Z"
    }
   },
   "outputs": [
    {
     "name": "stdout",
     "output_type": "stream",
     "text": [
      "\n",
      "Epoch 5: saving model to training_2/cp-0005.weights.h5\n",
      "\n",
      "Epoch 10: saving model to training_2/cp-0010.weights.h5\n",
      "\n",
      "Epoch 15: saving model to training_2/cp-0015.weights.h5\n",
      "\n",
      "Epoch 20: saving model to training_2/cp-0020.weights.h5\n",
      "\n",
      "Epoch 25: saving model to training_2/cp-0025.weights.h5\n",
      "\n",
      "Epoch 30: saving model to training_2/cp-0030.weights.h5\n",
      "\n",
      "Epoch 35: saving model to training_2/cp-0035.weights.h5\n",
      "\n",
      "Epoch 40: saving model to training_2/cp-0040.weights.h5\n",
      "\n",
      "Epoch 45: saving model to training_2/cp-0045.weights.h5\n",
      "\n",
      "Epoch 50: saving model to training_2/cp-0050.weights.h5\n"
     ]
    },
    {
     "data": {
      "text/plain": [
       "<keras.src.callbacks.history.History at 0x1fabd1af590>"
      ]
     },
     "execution_count": 76,
     "metadata": {},
     "output_type": "execute_result"
    }
   ],
   "execution_count": 76
  },
  {
   "cell_type": "code",
   "source": [
    "os.listdir(checkpoint_dir)"
   ],
   "metadata": {
    "colab": {
     "base_uri": "https://localhost:8080/"
    },
    "id": "j2nJ-4R0MGoX",
    "outputId": "3a192d53-7663-4e93-83be-399192689ca5",
    "ExecuteTime": {
     "end_time": "2024-10-11T11:16:25.944320Z",
     "start_time": "2024-10-11T11:16:25.940220Z"
    }
   },
   "outputs": [
    {
     "data": {
      "text/plain": [
       "['cp-0005.weights.h5',\n",
       " 'cp-0010.weights.h5',\n",
       " 'cp-0015.weights.h5',\n",
       " 'cp-0020.weights.h5',\n",
       " 'cp-0025.weights.h5',\n",
       " 'cp-0030.weights.h5',\n",
       " 'cp-0035.weights.h5',\n",
       " 'cp-0040.weights.h5',\n",
       " 'cp-0045.weights.h5',\n",
       " 'cp-0050.weights.h5']"
      ]
     },
     "execution_count": 77,
     "metadata": {},
     "output_type": "execute_result"
    }
   ],
   "execution_count": 77
  },
  {
   "cell_type": "code",
   "source": [
    "# List all files in the checkpoint directory\n",
    "all_files = os.listdir(checkpoint_dir)\n",
    "print(\"All files in directory:\", all_files)\n",
    "\n",
    "# Filter out files that match the pattern '.weights.h5'\n",
    "checkpoints = [ckpt for ckpt in all_files if ckpt.endswith('.weights.h5')]\n",
    "print(\"Filtered checkpoint files:\", checkpoints)\n",
    "\n",
    "# Get the latest checkpoint file if available\n",
    "latest_with_extension = os.path.join(checkpoint_dir, checkpoints[0]) if checkpoints else None\n",
    "\n",
    "print(f\"Latest checkpoint: {latest_with_extension}\")\n",
    "\n",
    "# Now you can load the weights if a checkpoint was found\n",
    "model = create_model()\n",
    "if latest_with_extension:\n",
    "    model.load_weights(latest_with_extension)\n",
    "    print(f\"Loaded weights from: {latest_with_extension}\")\n",
    "else:\n",
    "    print(\"No checkpoint found to load.\")"
   ],
   "metadata": {
    "colab": {
     "base_uri": "https://localhost:8080/",
     "height": 35
    },
    "id": "Y7pItBZxLoQJ",
    "outputId": "cc6cfd1b-8cab-4a5b-87bb-0e06eb41e9b6",
    "ExecuteTime": {
     "end_time": "2024-10-11T11:37:47.861605Z",
     "start_time": "2024-10-11T11:37:47.836446Z"
    }
   },
   "outputs": [
    {
     "name": "stdout",
     "output_type": "stream",
     "text": [
      "All files in directory: ['my_checkpoints.weights.h5']\n",
      "Filtered checkpoint files: ['my_checkpoints.weights.h5']\n",
      "Latest checkpoint: training_3\\my_checkpoints.weights.h5\n",
      "Loaded weights from: training_3\\my_checkpoints.weights.h5\n"
     ]
    }
   ],
   "execution_count": 105
  },
  {
   "cell_type": "code",
   "source": [
    "model = create_model()\n",
    "if latest_with_extension:\n",
    "    model.load_weights(latest_with_extension) # Load the weights from the latest checkpoint file to the model. Latest weights is the one with the highest epoch number\n",
    "else:\n",
    "    print(\"No checkpoint found.\")"
   ],
   "metadata": {
    "colab": {
     "base_uri": "https://localhost:8080/"
    },
    "id": "TjE1ySO2M1Jg",
    "outputId": "d98c0e98-ef7c-48b1-8be2-53e2128945db",
    "ExecuteTime": {
     "end_time": "2024-10-11T11:33:32.471997Z",
     "start_time": "2024-10-11T11:33:32.448174Z"
    }
   },
   "outputs": [],
   "execution_count": 103
  },
  {
   "cell_type": "code",
   "source": [
    "loss, acc = model.evaluate(test_images, test_labels, verbose=2)\n",
    "print(f\"Restored model, accuracy: {100 * acc:5.2f}%\")"
   ],
   "metadata": {
    "colab": {
     "base_uri": "https://localhost:8080/"
    },
    "id": "QNHGp0-BM6UO",
    "outputId": "da8d1674-9ccb-4a94-c327-3d8146b016f8",
    "ExecuteTime": {
     "end_time": "2024-10-11T11:33:35.397674Z",
     "start_time": "2024-10-11T11:33:35.280669Z"
    }
   },
   "outputs": [
    {
     "name": "stdout",
     "output_type": "stream",
     "text": [
      "32/32 - 0s - 3ms/step - loss: 0.4077 - sparse_categorical_accuracy: 0.8800\n",
      "Restored model, accuracy: 88.00%\n"
     ]
    }
   ],
   "execution_count": 104
  },
  {
   "cell_type": "markdown",
   "source": [
    "# EarlyStopping Callback\n",
    "\n",
    "If the model's performance on the validation data doesn't improve for a number of epochs (patience), training will stop early."
   ],
   "metadata": {
    "id": "Ksd_oXJTNGR0"
   }
  },
  {
   "cell_type": "code",
   "source": [
    "early_stopping_cb = tf.keras.callbacks.EarlyStopping(patience=5,\n",
    "                                                     restore_best_weights=True) # Restore the best weights when training stops\n",
    "checkpoint_path = \"training_3/my_checkpoints.weights.h5\"\n",
    "checkpoint_dir = os.path.dirname(checkpoint_path)\n",
    "checkpoint_cb = tf.keras.callbacks.ModelCheckpoint(filepath=checkpoint_path, \n",
    "                                                 save_weights_only=True)\n",
    "history = model.fit(\n",
    "    train_images, \n",
    "    train_labels,\n",
    "    epochs=50,\n",
    "    validation_data=(test_images, test_labels),\n",
    "    callbacks=[checkpoint_cb, early_stopping_cb])"
   ],
   "metadata": {
    "colab": {
     "base_uri": "https://localhost:8080/"
    },
    "id": "OFPC-oOQNH5i",
    "outputId": "680d6e4c-10f2-4e3f-90d5-9935f2962ea8",
    "ExecuteTime": {
     "end_time": "2024-10-11T11:16:28.560174Z",
     "start_time": "2024-10-11T11:16:26.082994Z"
    }
   },
   "outputs": [
    {
     "name": "stdout",
     "output_type": "stream",
     "text": [
      "Epoch 1/50\n",
      "\u001B[1m32/32\u001B[0m \u001B[32m━━━━━━━━━━━━━━━━━━━━\u001B[0m\u001B[37m\u001B[0m \u001B[1m1s\u001B[0m 5ms/step - loss: 1.6090 - sparse_categorical_accuracy: 0.4683 - val_loss: 0.7518 - val_sparse_categorical_accuracy: 0.7690\n",
      "Epoch 2/50\n",
      "\u001B[1m32/32\u001B[0m \u001B[32m━━━━━━━━━━━━━━━━━━━━\u001B[0m\u001B[37m\u001B[0m \u001B[1m0s\u001B[0m 4ms/step - loss: 0.4315 - sparse_categorical_accuracy: 0.8707 - val_loss: 0.5591 - val_sparse_categorical_accuracy: 0.8290\n",
      "Epoch 3/50\n",
      "\u001B[1m32/32\u001B[0m \u001B[32m━━━━━━━━━━━━━━━━━━━━\u001B[0m\u001B[37m\u001B[0m \u001B[1m0s\u001B[0m 4ms/step - loss: 0.2915 - sparse_categorical_accuracy: 0.9284 - val_loss: 0.4621 - val_sparse_categorical_accuracy: 0.8540\n",
      "Epoch 4/50\n",
      "\u001B[1m32/32\u001B[0m \u001B[32m━━━━━━━━━━━━━━━━━━━━\u001B[0m\u001B[37m\u001B[0m \u001B[1m0s\u001B[0m 4ms/step - loss: 0.2151 - sparse_categorical_accuracy: 0.9458 - val_loss: 0.4445 - val_sparse_categorical_accuracy: 0.8610\n",
      "Epoch 5/50\n",
      "\u001B[1m32/32\u001B[0m \u001B[32m━━━━━━━━━━━━━━━━━━━━\u001B[0m\u001B[37m\u001B[0m \u001B[1m0s\u001B[0m 4ms/step - loss: 0.1525 - sparse_categorical_accuracy: 0.9711 - val_loss: 0.4655 - val_sparse_categorical_accuracy: 0.8500\n",
      "Epoch 6/50\n",
      "\u001B[1m32/32\u001B[0m \u001B[32m━━━━━━━━━━━━━━━━━━━━\u001B[0m\u001B[37m\u001B[0m \u001B[1m0s\u001B[0m 4ms/step - loss: 0.1140 - sparse_categorical_accuracy: 0.9797 - val_loss: 0.4049 - val_sparse_categorical_accuracy: 0.8680\n",
      "Epoch 7/50\n",
      "\u001B[1m32/32\u001B[0m \u001B[32m━━━━━━━━━━━━━━━━━━━━\u001B[0m\u001B[37m\u001B[0m \u001B[1m0s\u001B[0m 4ms/step - loss: 0.0908 - sparse_categorical_accuracy: 0.9823 - val_loss: 0.4016 - val_sparse_categorical_accuracy: 0.8700\n",
      "Epoch 8/50\n",
      "\u001B[1m32/32\u001B[0m \u001B[32m━━━━━━━━━━━━━━━━━━━━\u001B[0m\u001B[37m\u001B[0m \u001B[1m0s\u001B[0m 4ms/step - loss: 0.0619 - sparse_categorical_accuracy: 0.9898 - val_loss: 0.4229 - val_sparse_categorical_accuracy: 0.8660\n",
      "Epoch 9/50\n",
      "\u001B[1m32/32\u001B[0m \u001B[32m━━━━━━━━━━━━━━━━━━━━\u001B[0m\u001B[37m\u001B[0m \u001B[1m0s\u001B[0m 3ms/step - loss: 0.0479 - sparse_categorical_accuracy: 0.9988 - val_loss: 0.3992 - val_sparse_categorical_accuracy: 0.8770\n",
      "Epoch 10/50\n",
      "\u001B[1m32/32\u001B[0m \u001B[32m━━━━━━━━━━━━━━━━━━━━\u001B[0m\u001B[37m\u001B[0m \u001B[1m0s\u001B[0m 4ms/step - loss: 0.0403 - sparse_categorical_accuracy: 1.0000 - val_loss: 0.3935 - val_sparse_categorical_accuracy: 0.8750\n",
      "Epoch 11/50\n",
      "\u001B[1m32/32\u001B[0m \u001B[32m━━━━━━━━━━━━━━━━━━━━\u001B[0m\u001B[37m\u001B[0m \u001B[1m0s\u001B[0m 4ms/step - loss: 0.0294 - sparse_categorical_accuracy: 1.0000 - val_loss: 0.4059 - val_sparse_categorical_accuracy: 0.8720\n",
      "Epoch 12/50\n",
      "\u001B[1m32/32\u001B[0m \u001B[32m━━━━━━━━━━━━━━━━━━━━\u001B[0m\u001B[37m\u001B[0m \u001B[1m0s\u001B[0m 4ms/step - loss: 0.0263 - sparse_categorical_accuracy: 1.0000 - val_loss: 0.4032 - val_sparse_categorical_accuracy: 0.8710\n",
      "Epoch 13/50\n",
      "\u001B[1m32/32\u001B[0m \u001B[32m━━━━━━━━━━━━━━━━━━━━\u001B[0m\u001B[37m\u001B[0m \u001B[1m0s\u001B[0m 4ms/step - loss: 0.0176 - sparse_categorical_accuracy: 1.0000 - val_loss: 0.4275 - val_sparse_categorical_accuracy: 0.8730\n",
      "Epoch 14/50\n",
      "\u001B[1m32/32\u001B[0m \u001B[32m━━━━━━━━━━━━━━━━━━━━\u001B[0m\u001B[37m\u001B[0m \u001B[1m0s\u001B[0m 4ms/step - loss: 0.0174 - sparse_categorical_accuracy: 1.0000 - val_loss: 0.4068 - val_sparse_categorical_accuracy: 0.8790\n",
      "Epoch 15/50\n",
      "\u001B[1m32/32\u001B[0m \u001B[32m━━━━━━━━━━━━━━━━━━━━\u001B[0m\u001B[37m\u001B[0m \u001B[1m0s\u001B[0m 4ms/step - loss: 0.0139 - sparse_categorical_accuracy: 1.0000 - val_loss: 0.4077 - val_sparse_categorical_accuracy: 0.8800\n"
     ]
    }
   ],
   "execution_count": 81
  },
  {
   "cell_type": "markdown",
   "source": [
    "# Save the entire model"
   ],
   "metadata": {
    "id": "-UMS8CRmQgVJ"
   }
  },
  {
   "cell_type": "code",
   "source": [
    "!mkdir saved_model"
   ],
   "metadata": {
    "id": "YdnBlh-XQhVl",
    "ExecuteTime": {
     "end_time": "2024-10-11T11:16:28.590006Z",
     "start_time": "2024-10-11T11:16:28.561177Z"
    }
   },
   "outputs": [],
   "execution_count": 82
  },
  {
   "cell_type": "code",
   "source": "model.save('saved_model/my_model.keras')",
   "metadata": {
    "id": "U9Q1oiOsQv8m",
    "ExecuteTime": {
     "end_time": "2024-10-11T11:16:59.006545Z",
     "start_time": "2024-10-11T11:16:58.979485Z"
    }
   },
   "outputs": [],
   "execution_count": 84
  },
  {
   "cell_type": "code",
   "source": "!dir saved_model\\my_model.keras",
   "metadata": {
    "colab": {
     "base_uri": "https://localhost:8080/"
    },
    "id": "7_7PRekAQyTF",
    "outputId": "7b174661-3b1c-4364-e610-c34906626d0f",
    "ExecuteTime": {
     "end_time": "2024-10-11T11:18:55.897897Z",
     "start_time": "2024-10-11T11:18:55.880112Z"
    }
   },
   "outputs": [
    {
     "name": "stdout",
     "output_type": "stream",
     "text": [
      " Volume in drive C has no label.\n",
      " Volume Serial Number is C4CE-7798\n",
      "\n",
      " Directory of C:\\Users\\yasin\\Documents\\Github\\deep-learning-tutorial\\Practical-Keras-Tutorials\\saved_model\n",
      "\n",
      "11.10.2024  14:16         4.902.575 my_model.keras\n",
      "               1 File(s)      4.902.575 bytes\n",
      "               0 Dir(s)  562.049.961.984 bytes free\n"
     ]
    }
   ],
   "execution_count": 97
  },
  {
   "cell_type": "code",
   "source": [
    "new_model = create_model()\n",
    "new_model = tf.keras.models.load_model('saved_model/my_model.keras')"
   ],
   "metadata": {
    "id": "o0M7k4gfQ_6N",
    "ExecuteTime": {
     "end_time": "2024-10-11T11:17:47.394742Z",
     "start_time": "2024-10-11T11:17:47.322045Z"
    }
   },
   "outputs": [],
   "execution_count": 87
  },
  {
   "cell_type": "code",
   "source": [
    "new_model.summary()"
   ],
   "metadata": {
    "colab": {
     "base_uri": "https://localhost:8080/"
    },
    "id": "Q9rdWkMMRB93",
    "outputId": "534f34ad-fc14-4a5c-9005-178491436769",
    "ExecuteTime": {
     "end_time": "2024-10-11T11:17:49.052317Z",
     "start_time": "2024-10-11T11:17:49.041908Z"
    }
   },
   "outputs": [
    {
     "data": {
      "text/plain": [
       "\u001B[1mModel: \"sequential_12\"\u001B[0m\n"
      ],
      "text/html": [
       "<pre style=\"white-space:pre;overflow-x:auto;line-height:normal;font-family:Menlo,'DejaVu Sans Mono',consolas,'Courier New',monospace\"><span style=\"font-weight: bold\">Model: \"sequential_12\"</span>\n",
       "</pre>\n"
      ]
     },
     "metadata": {},
     "output_type": "display_data"
    },
    {
     "data": {
      "text/plain": [
       "┏━━━━━━━━━━━━━━━━━━━━━━━━━━━━━━━━━┳━━━━━━━━━━━━━━━━━━━━━━━━┳━━━━━━━━━━━━━━━┓\n",
       "┃\u001B[1m \u001B[0m\u001B[1mLayer (type)                   \u001B[0m\u001B[1m \u001B[0m┃\u001B[1m \u001B[0m\u001B[1mOutput Shape          \u001B[0m\u001B[1m \u001B[0m┃\u001B[1m \u001B[0m\u001B[1m      Param #\u001B[0m\u001B[1m \u001B[0m┃\n",
       "┡━━━━━━━━━━━━━━━━━━━━━━━━━━━━━━━━━╇━━━━━━━━━━━━━━━━━━━━━━━━╇━━━━━━━━━━━━━━━┩\n",
       "│ dense_24 (\u001B[38;5;33mDense\u001B[0m)                │ (\u001B[38;5;45mNone\u001B[0m, \u001B[38;5;34m512\u001B[0m)            │       \u001B[38;5;34m401,920\u001B[0m │\n",
       "├─────────────────────────────────┼────────────────────────┼───────────────┤\n",
       "│ dropout_12 (\u001B[38;5;33mDropout\u001B[0m)            │ (\u001B[38;5;45mNone\u001B[0m, \u001B[38;5;34m512\u001B[0m)            │             \u001B[38;5;34m0\u001B[0m │\n",
       "├─────────────────────────────────┼────────────────────────┼───────────────┤\n",
       "│ dense_25 (\u001B[38;5;33mDense\u001B[0m)                │ (\u001B[38;5;45mNone\u001B[0m, \u001B[38;5;34m10\u001B[0m)             │         \u001B[38;5;34m5,130\u001B[0m │\n",
       "└─────────────────────────────────┴────────────────────────┴───────────────┘\n"
      ],
      "text/html": [
       "<pre style=\"white-space:pre;overflow-x:auto;line-height:normal;font-family:Menlo,'DejaVu Sans Mono',consolas,'Courier New',monospace\">┏━━━━━━━━━━━━━━━━━━━━━━━━━━━━━━━━━┳━━━━━━━━━━━━━━━━━━━━━━━━┳━━━━━━━━━━━━━━━┓\n",
       "┃<span style=\"font-weight: bold\"> Layer (type)                    </span>┃<span style=\"font-weight: bold\"> Output Shape           </span>┃<span style=\"font-weight: bold\">       Param # </span>┃\n",
       "┡━━━━━━━━━━━━━━━━━━━━━━━━━━━━━━━━━╇━━━━━━━━━━━━━━━━━━━━━━━━╇━━━━━━━━━━━━━━━┩\n",
       "│ dense_24 (<span style=\"color: #0087ff; text-decoration-color: #0087ff\">Dense</span>)                │ (<span style=\"color: #00d7ff; text-decoration-color: #00d7ff\">None</span>, <span style=\"color: #00af00; text-decoration-color: #00af00\">512</span>)            │       <span style=\"color: #00af00; text-decoration-color: #00af00\">401,920</span> │\n",
       "├─────────────────────────────────┼────────────────────────┼───────────────┤\n",
       "│ dropout_12 (<span style=\"color: #0087ff; text-decoration-color: #0087ff\">Dropout</span>)            │ (<span style=\"color: #00d7ff; text-decoration-color: #00d7ff\">None</span>, <span style=\"color: #00af00; text-decoration-color: #00af00\">512</span>)            │             <span style=\"color: #00af00; text-decoration-color: #00af00\">0</span> │\n",
       "├─────────────────────────────────┼────────────────────────┼───────────────┤\n",
       "│ dense_25 (<span style=\"color: #0087ff; text-decoration-color: #0087ff\">Dense</span>)                │ (<span style=\"color: #00d7ff; text-decoration-color: #00d7ff\">None</span>, <span style=\"color: #00af00; text-decoration-color: #00af00\">10</span>)             │         <span style=\"color: #00af00; text-decoration-color: #00af00\">5,130</span> │\n",
       "└─────────────────────────────────┴────────────────────────┴───────────────┘\n",
       "</pre>\n"
      ]
     },
     "metadata": {},
     "output_type": "display_data"
    },
    {
     "data": {
      "text/plain": [
       "\u001B[1m Total params: \u001B[0m\u001B[38;5;34m1,221,152\u001B[0m (4.66 MB)\n"
      ],
      "text/html": [
       "<pre style=\"white-space:pre;overflow-x:auto;line-height:normal;font-family:Menlo,'DejaVu Sans Mono',consolas,'Courier New',monospace\"><span style=\"font-weight: bold\"> Total params: </span><span style=\"color: #00af00; text-decoration-color: #00af00\">1,221,152</span> (4.66 MB)\n",
       "</pre>\n"
      ]
     },
     "metadata": {},
     "output_type": "display_data"
    },
    {
     "data": {
      "text/plain": [
       "\u001B[1m Trainable params: \u001B[0m\u001B[38;5;34m407,050\u001B[0m (1.55 MB)\n"
      ],
      "text/html": [
       "<pre style=\"white-space:pre;overflow-x:auto;line-height:normal;font-family:Menlo,'DejaVu Sans Mono',consolas,'Courier New',monospace\"><span style=\"font-weight: bold\"> Trainable params: </span><span style=\"color: #00af00; text-decoration-color: #00af00\">407,050</span> (1.55 MB)\n",
       "</pre>\n"
      ]
     },
     "metadata": {},
     "output_type": "display_data"
    },
    {
     "data": {
      "text/plain": [
       "\u001B[1m Non-trainable params: \u001B[0m\u001B[38;5;34m0\u001B[0m (0.00 B)\n"
      ],
      "text/html": [
       "<pre style=\"white-space:pre;overflow-x:auto;line-height:normal;font-family:Menlo,'DejaVu Sans Mono',consolas,'Courier New',monospace\"><span style=\"font-weight: bold\"> Non-trainable params: </span><span style=\"color: #00af00; text-decoration-color: #00af00\">0</span> (0.00 B)\n",
       "</pre>\n"
      ]
     },
     "metadata": {},
     "output_type": "display_data"
    },
    {
     "data": {
      "text/plain": [
       "\u001B[1m Optimizer params: \u001B[0m\u001B[38;5;34m814,102\u001B[0m (3.11 MB)\n"
      ],
      "text/html": [
       "<pre style=\"white-space:pre;overflow-x:auto;line-height:normal;font-family:Menlo,'DejaVu Sans Mono',consolas,'Courier New',monospace\"><span style=\"font-weight: bold\"> Optimizer params: </span><span style=\"color: #00af00; text-decoration-color: #00af00\">814,102</span> (3.11 MB)\n",
       "</pre>\n"
      ]
     },
     "metadata": {},
     "output_type": "display_data"
    }
   ],
   "execution_count": 88
  },
  {
   "cell_type": "code",
   "source": [
    "loss, acc = new_model.evaluate(test_images, test_labels, verbose=2)\n",
    "print(f'Restored model, accuracy: {100 * acc:5.2f}%')"
   ],
   "metadata": {
    "colab": {
     "base_uri": "https://localhost:8080/"
    },
    "id": "xiv9UbpxRd1a",
    "outputId": "3e5805e0-86e0-4109-b7a3-21b5bfb84d90",
    "ExecuteTime": {
     "end_time": "2024-10-11T11:17:51.526176Z",
     "start_time": "2024-10-11T11:17:51.280611Z"
    }
   },
   "outputs": [
    {
     "name": "stdout",
     "output_type": "stream",
     "text": [
      "32/32 - 0s - 7ms/step - loss: 0.3935 - sparse_categorical_accuracy: 0.8750\n",
      "Restored model, accuracy: 87.50%\n"
     ]
    }
   ],
   "execution_count": 89
  }
 ]
}
