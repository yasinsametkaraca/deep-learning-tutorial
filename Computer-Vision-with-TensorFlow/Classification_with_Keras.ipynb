{
 "nbformat": 4,
 "nbformat_minor": 0,
 "metadata": {
  "colab": {
   "provenance": [],
   "authorship_tag": "ABX9TyMJaMfvAyHvFhgSfPZ7bDMc",
   "include_colab_link": true
  },
  "kernelspec": {
   "name": "python3",
   "display_name": "Python 3 (ipykernel)",
   "language": "python"
  },
  "language_info": {
   "name": "python"
  },
  "accelerator": "GPU",
  "gpuClass": "standard"
 },
 "cells": [
  {
   "cell_type": "markdown",
   "source": [
    "# Image Classification with Keras"
   ],
   "metadata": {
    "id": "sfsJ_Cc4MjyS"
   }
  },
  {
   "cell_type": "code",
   "execution_count": 1,
   "metadata": {
    "id": "nyunR5jD7T98"
   },
   "outputs": [],
   "source": [
    "import tensorflow as tf "
   ]
  },
  {
   "cell_type": "markdown",
   "source": [
    "# Loading Dataset"
   ],
   "metadata": {
    "id": "_GTXFnRtMp7a"
   }
  },
  {
   "cell_type": "code",
   "source": [
    "fashion_mnist = tf.keras.datasets.fashion_mnist.load_data()"
   ],
   "metadata": {
    "colab": {
     "base_uri": "https://localhost:8080/"
    },
    "id": "Nxvox5r79PWr",
    "outputId": "74a5830b-f218-4af9-8736-0554b1dd1a72"
   },
   "execution_count": 2,
   "outputs": [
    {
     "output_type": "stream",
     "name": "stdout",
     "text": [
      "Downloading data from https://storage.googleapis.com/tensorflow/tf-keras-datasets/train-labels-idx1-ubyte.gz\n",
      "29515/29515 [==============================] - 0s 0us/step\n",
      "Downloading data from https://storage.googleapis.com/tensorflow/tf-keras-datasets/train-images-idx3-ubyte.gz\n",
      "26421880/26421880 [==============================] - 0s 0us/step\n",
      "Downloading data from https://storage.googleapis.com/tensorflow/tf-keras-datasets/t10k-labels-idx1-ubyte.gz\n",
      "5148/5148 [==============================] - 0s 0us/step\n",
      "Downloading data from https://storage.googleapis.com/tensorflow/tf-keras-datasets/t10k-images-idx3-ubyte.gz\n",
      "4422102/4422102 [==============================] - 0s 0us/step\n"
     ]
    }
   ]
  },
  {
   "cell_type": "markdown",
   "source": [
    "# Data Preprocessing"
   ],
   "metadata": {
    "id": "1U0BYXnsMtti"
   }
  },
  {
   "cell_type": "code",
   "source": [
    "(X_train_full, y_train_full), (X_test, y_test) = fashion_mnist"
   ],
   "metadata": {
    "id": "-9PGeHhf9eU6"
   },
   "execution_count": 3,
   "outputs": []
  },
  {
   "cell_type": "code",
   "source": [
    "X_train, y_train = X_train_full[:-5000], y_train_full[:-5000]\n",
    "X_valid, y_valid = X_train_full[-5000:], y_train_full[-5000:]"
   ],
   "metadata": {
    "id": "CMYnl_Uk-ATL"
   },
   "execution_count": 4,
   "outputs": []
  },
  {
   "cell_type": "code",
   "source": [
    "X_train.shape"
   ],
   "metadata": {
    "colab": {
     "base_uri": "https://localhost:8080/"
    },
    "id": "vqIoaaMb-pfy",
    "outputId": "2e832c06-2bf7-4abc-d871-34fc5d9a6c43"
   },
   "execution_count": 5,
   "outputs": [
    {
     "output_type": "execute_result",
     "data": {
      "text/plain": [
       "(55000, 28, 28)"
      ]
     },
     "metadata": {},
     "execution_count": 5
    }
   ]
  },
  {
   "cell_type": "code",
   "source": [
    "X_train.dtype"
   ],
   "metadata": {
    "colab": {
     "base_uri": "https://localhost:8080/"
    },
    "id": "2ru_HG_r-tvK",
    "outputId": "77af3fef-fc09-4efd-e670-2c3bc12efed9"
   },
   "execution_count": 6,
   "outputs": [
    {
     "output_type": "execute_result",
     "data": {
      "text/plain": [
       "dtype('uint8')"
      ]
     },
     "metadata": {},
     "execution_count": 6
    }
   ]
  },
  {
   "cell_type": "code",
   "source": "X_train, X_valid, X_test = X_train/255., X_valid/255., X_test/255. # 255 is the maximum value of the pixel intensity in the image. So, we are normalizing the pixel values between 0 and 1.",
   "metadata": {
    "id": "jpfLrjvS-1ma"
   },
   "execution_count": 7,
   "outputs": []
  },
  {
   "cell_type": "code",
   "source": [
    "class_names = [\"T-shirt/top\", \"Trouser\", \"Pullover\", \"Dress\", \"Coat\", \"Sandal\", \n",
    "               \"Shirt\", \"Sneaker\", \"Bag\", \"Ankle boot\"]"
   ],
   "metadata": {
    "id": "CSlHbIDW_QFK"
   },
   "execution_count": 8,
   "outputs": []
  },
  {
   "cell_type": "code",
   "source": [
    "class_names[y_train[0]]"
   ],
   "metadata": {
    "colab": {
     "base_uri": "https://localhost:8080/",
     "height": 35
    },
    "id": "By2sho3m_jgz",
    "outputId": "9502215c-7f8f-46c9-93f2-d4a23c6684bf"
   },
   "execution_count": 9,
   "outputs": [
    {
     "output_type": "execute_result",
     "data": {
      "text/plain": [
       "'Ankle boot'"
      ],
      "application/vnd.google.colaboratory.intrinsic+json": {
       "type": "string"
      }
     },
     "metadata": {},
     "execution_count": 9
    }
   ]
  },
  {
   "cell_type": "markdown",
   "source": [
    "#Modeling"
   ],
   "metadata": {
    "id": "ZMmjMv4sMx2C"
   }
  },
  {
   "cell_type": "code",
   "source": [
    "tf.random.set_seed(42)\n",
    "model = tf.keras.Sequential()\n",
    "model.add(tf.keras.layers.Input(shape=[28,28])) # Input Layer. 28x28 is the shape of the image.\n",
    "model.add(tf.keras.layers.Flatten()) # Flatten Layer. It converts the 2D image into 1D array.\n",
    "model.add(tf.keras.layers.Dense(300, activation=\"relu\")) # Hidden Layer 1. 300 is the number of neurons in the layer.\n",
    "model.add(tf.keras.layers.Dense(100, activation=\"relu\"))\n",
    "model.add(tf.keras.layers.Dense(10, activation=\"softmax\")) # Output Layer. 10 is the number of classes in the dataset. 10 categories of clothing."
   ],
   "metadata": {
    "id": "hdbRKMtT_p2a"
   },
   "execution_count": 10,
   "outputs": []
  },
  {
   "cell_type": "code",
   "source": [
    "model = tf.keras.Sequential([\n",
    "    tf.keras.layers.Flatten(input_shape=[28,28]),\n",
    "    tf.keras.layers.Dense(300, activation=\"relu\"),\n",
    "    tf.keras.layers.Dense(100, activation=\"relu\"),\n",
    "    tf.keras.layers.Dense(10, activation=\"softmax\")\n",
    "])"
   ],
   "metadata": {
    "id": "uGFm_J7TBwhZ"
   },
   "execution_count": 11,
   "outputs": []
  },
  {
   "cell_type": "code",
   "source": [
    "model.summary()"
   ],
   "metadata": {
    "colab": {
     "base_uri": "https://localhost:8080/"
    },
    "id": "LLOo_gagCrmz",
    "outputId": "47e8a76f-dd12-4a15-a2a7-43caf28f3786"
   },
   "execution_count": 12,
   "outputs": [
    {
     "output_type": "stream",
     "name": "stdout",
     "text": [
      "Model: \"sequential_1\"\n",
      "_________________________________________________________________\n",
      " Layer (type)                Output Shape              Param #   \n",
      "=================================================================\n",
      " flatten_1 (Flatten)         (None, 784)               0         \n",
      "                                                                 \n",
      " dense_3 (Dense)             (None, 300)               235500    \n",
      "                                                                 \n",
      " dense_4 (Dense)             (None, 100)               30100     \n",
      "                                                                 \n",
      " dense_5 (Dense)             (None, 10)                1010      \n",
      "                                                                 \n",
      "=================================================================\n",
      "Total params: 266,610\n",
      "Trainable params: 266,610\n",
      "Non-trainable params: 0\n",
      "_________________________________________________________________\n"
     ]
    }
   ]
  },
  {
   "cell_type": "code",
   "source": [
    "model.layers"
   ],
   "metadata": {
    "colab": {
     "base_uri": "https://localhost:8080/"
    },
    "id": "gjJHRR-fC0D7",
    "outputId": "62a1313f-d985-40a2-acc2-f02dcef28846"
   },
   "execution_count": 13,
   "outputs": [
    {
     "output_type": "execute_result",
     "data": {
      "text/plain": [
       "[<keras.layers.reshaping.flatten.Flatten at 0x7f00abc14430>,\n",
       " <keras.layers.core.dense.Dense at 0x7f00b04d8b20>,\n",
       " <keras.layers.core.dense.Dense at 0x7f00b04d8e50>,\n",
       " <keras.layers.core.dense.Dense at 0x7f008013d1f0>]"
      ]
     },
     "metadata": {},
     "execution_count": 13
    }
   ]
  },
  {
   "cell_type": "code",
   "source": [
    "hidden1 = model.layers[1]"
   ],
   "metadata": {
    "id": "vGGbh7AODQIK"
   },
   "execution_count": 14,
   "outputs": []
  },
  {
   "cell_type": "code",
   "source": [
    "weights, biases = hidden1.get_weights()"
   ],
   "metadata": {
    "id": "KB8fmw4nDZZC"
   },
   "execution_count": 15,
   "outputs": []
  },
  {
   "cell_type": "code",
   "source": "weights # Randomly initialized weights",
   "metadata": {
    "colab": {
     "base_uri": "https://localhost:8080/"
    },
    "id": "IXwcXaEuDqXD",
    "outputId": "a1bc2215-9c38-4e18-e803-b1dce3d25a46"
   },
   "execution_count": 16,
   "outputs": [
    {
     "output_type": "execute_result",
     "data": {
      "text/plain": [
       "array([[ 0.06289439, -0.04692959,  0.0528551 , ..., -0.02063239,\n",
       "         0.01951737, -0.02631843],\n",
       "       [-0.06903721, -0.06568455, -0.03906401, ...,  0.07302679,\n",
       "        -0.04208592,  0.05439059],\n",
       "       [-0.02190606, -0.05081407,  0.00902523, ...,  0.00875244,\n",
       "        -0.01108527,  0.06836887],\n",
       "       ...,\n",
       "       [-0.01916545,  0.06969522,  0.04721475, ..., -0.00150057,\n",
       "         0.05928464,  0.03610313],\n",
       "       [ 0.01732479, -0.0475333 , -0.05330248, ..., -0.03352116,\n",
       "        -0.03903133,  0.00785265],\n",
       "       [-0.02276586, -0.02371317,  0.05915888, ...,  0.04667468,\n",
       "        -0.05148886,  0.04071529]], dtype=float32)"
      ]
     },
     "metadata": {},
     "execution_count": 16
    }
   ]
  },
  {
   "cell_type": "code",
   "source": "biases # Randomly initialized biases. Zero initialized.",
   "metadata": {
    "colab": {
     "base_uri": "https://localhost:8080/"
    },
    "id": "5o0dI1TKDuNx",
    "outputId": "7f9b365d-60be-4f35-8a5a-ab88e50e8cbc"
   },
   "execution_count": 17,
   "outputs": [
    {
     "output_type": "execute_result",
     "data": {
      "text/plain": [
       "array([0., 0., 0., 0., 0., 0., 0., 0., 0., 0., 0., 0., 0., 0., 0., 0., 0.,\n",
       "       0., 0., 0., 0., 0., 0., 0., 0., 0., 0., 0., 0., 0., 0., 0., 0., 0.,\n",
       "       0., 0., 0., 0., 0., 0., 0., 0., 0., 0., 0., 0., 0., 0., 0., 0., 0.,\n",
       "       0., 0., 0., 0., 0., 0., 0., 0., 0., 0., 0., 0., 0., 0., 0., 0., 0.,\n",
       "       0., 0., 0., 0., 0., 0., 0., 0., 0., 0., 0., 0., 0., 0., 0., 0., 0.,\n",
       "       0., 0., 0., 0., 0., 0., 0., 0., 0., 0., 0., 0., 0., 0., 0., 0., 0.,\n",
       "       0., 0., 0., 0., 0., 0., 0., 0., 0., 0., 0., 0., 0., 0., 0., 0., 0.,\n",
       "       0., 0., 0., 0., 0., 0., 0., 0., 0., 0., 0., 0., 0., 0., 0., 0., 0.,\n",
       "       0., 0., 0., 0., 0., 0., 0., 0., 0., 0., 0., 0., 0., 0., 0., 0., 0.,\n",
       "       0., 0., 0., 0., 0., 0., 0., 0., 0., 0., 0., 0., 0., 0., 0., 0., 0.,\n",
       "       0., 0., 0., 0., 0., 0., 0., 0., 0., 0., 0., 0., 0., 0., 0., 0., 0.,\n",
       "       0., 0., 0., 0., 0., 0., 0., 0., 0., 0., 0., 0., 0., 0., 0., 0., 0.,\n",
       "       0., 0., 0., 0., 0., 0., 0., 0., 0., 0., 0., 0., 0., 0., 0., 0., 0.,\n",
       "       0., 0., 0., 0., 0., 0., 0., 0., 0., 0., 0., 0., 0., 0., 0., 0., 0.,\n",
       "       0., 0., 0., 0., 0., 0., 0., 0., 0., 0., 0., 0., 0., 0., 0., 0., 0.,\n",
       "       0., 0., 0., 0., 0., 0., 0., 0., 0., 0., 0., 0., 0., 0., 0., 0., 0.,\n",
       "       0., 0., 0., 0., 0., 0., 0., 0., 0., 0., 0., 0., 0., 0., 0., 0., 0.,\n",
       "       0., 0., 0., 0., 0., 0., 0., 0., 0., 0., 0.], dtype=float32)"
      ]
     },
     "metadata": {},
     "execution_count": 17
    }
   ]
  },
  {
   "cell_type": "code",
   "source": [
    "model.compile(\n",
    "    loss = \"sparse_categorical_crossentropy\",\n",
    "    optimizer = \"sgd\", # Stochastic Gradient Descent optimizer for bias and weights optimization.\n",
    "    metrics = [\"accuracy\"]\n",
    ")"
   ],
   "metadata": {
    "id": "ryz3D4BOD3WS"
   },
   "execution_count": 18,
   "outputs": []
  },
  {
   "cell_type": "markdown",
   "source": [
    "#Training"
   ],
   "metadata": {
    "id": "vJ-59AnnM2SL"
   }
  },
  {
   "cell_type": "code",
   "source": [
    "history = model.fit(X_train, y_train, epochs=30, # 30 epochs is the number of times the model will see the data.\n",
    "                    validation_data = (X_valid, y_valid))"
   ],
   "metadata": {
    "colab": {
     "base_uri": "https://localhost:8080/"
    },
    "id": "TV9pZDa8GTZ7",
    "outputId": "7d7970e8-c25f-40f3-e892-5a3db2565883"
   },
   "execution_count": 19,
   "outputs": [
    {
     "output_type": "stream",
     "name": "stdout",
     "text": [
      "Epoch 1/30\n",
      "1719/1719 [==============================] - 11s 4ms/step - loss: 0.7062 - accuracy: 0.7677 - val_loss: 0.5082 - val_accuracy: 0.8300\n",
      "Epoch 2/30\n",
      "1719/1719 [==============================] - 6s 3ms/step - loss: 0.4890 - accuracy: 0.8297 - val_loss: 0.4621 - val_accuracy: 0.8366\n",
      "Epoch 3/30\n",
      "1719/1719 [==============================] - 6s 3ms/step - loss: 0.4441 - accuracy: 0.8434 - val_loss: 0.4296 - val_accuracy: 0.8484\n",
      "Epoch 4/30\n",
      "1719/1719 [==============================] - 6s 3ms/step - loss: 0.4195 - accuracy: 0.8527 - val_loss: 0.4013 - val_accuracy: 0.8608\n",
      "Epoch 5/30\n",
      "1719/1719 [==============================] - 5s 3ms/step - loss: 0.3981 - accuracy: 0.8607 - val_loss: 0.3940 - val_accuracy: 0.8586\n",
      "Epoch 6/30\n",
      "1719/1719 [==============================] - 6s 3ms/step - loss: 0.3818 - accuracy: 0.8663 - val_loss: 0.4007 - val_accuracy: 0.8618\n",
      "Epoch 7/30\n",
      "1719/1719 [==============================] - 5s 3ms/step - loss: 0.3688 - accuracy: 0.8699 - val_loss: 0.3735 - val_accuracy: 0.8700\n",
      "Epoch 8/30\n",
      "1719/1719 [==============================] - 6s 3ms/step - loss: 0.3567 - accuracy: 0.8741 - val_loss: 0.3739 - val_accuracy: 0.8642\n",
      "Epoch 9/30\n",
      "1719/1719 [==============================] - 7s 4ms/step - loss: 0.3455 - accuracy: 0.8781 - val_loss: 0.3511 - val_accuracy: 0.8740\n",
      "Epoch 10/30\n",
      "1719/1719 [==============================] - 6s 3ms/step - loss: 0.3354 - accuracy: 0.8809 - val_loss: 0.3517 - val_accuracy: 0.8732\n",
      "Epoch 11/30\n",
      "1719/1719 [==============================] - 5s 3ms/step - loss: 0.3260 - accuracy: 0.8845 - val_loss: 0.3704 - val_accuracy: 0.8650\n",
      "Epoch 12/30\n",
      "1719/1719 [==============================] - 6s 3ms/step - loss: 0.3183 - accuracy: 0.8853 - val_loss: 0.3480 - val_accuracy: 0.8720\n",
      "Epoch 13/30\n",
      "1719/1719 [==============================] - 5s 3ms/step - loss: 0.3108 - accuracy: 0.8892 - val_loss: 0.3314 - val_accuracy: 0.8784\n",
      "Epoch 14/30\n",
      "1719/1719 [==============================] - 5s 3ms/step - loss: 0.3036 - accuracy: 0.8911 - val_loss: 0.3395 - val_accuracy: 0.8774\n",
      "Epoch 15/30\n",
      "1719/1719 [==============================] - 6s 3ms/step - loss: 0.2971 - accuracy: 0.8943 - val_loss: 0.3329 - val_accuracy: 0.8810\n",
      "Epoch 16/30\n",
      "1719/1719 [==============================] - 5s 3ms/step - loss: 0.2905 - accuracy: 0.8959 - val_loss: 0.3300 - val_accuracy: 0.8818\n",
      "Epoch 17/30\n",
      "1719/1719 [==============================] - 6s 3ms/step - loss: 0.2849 - accuracy: 0.8977 - val_loss: 0.3369 - val_accuracy: 0.8766\n",
      "Epoch 18/30\n",
      "1719/1719 [==============================] - 5s 3ms/step - loss: 0.2794 - accuracy: 0.8995 - val_loss: 0.3229 - val_accuracy: 0.8808\n",
      "Epoch 19/30\n",
      "1719/1719 [==============================] - 6s 3ms/step - loss: 0.2740 - accuracy: 0.9013 - val_loss: 0.3435 - val_accuracy: 0.8696\n",
      "Epoch 20/30\n",
      "1719/1719 [==============================] - 5s 3ms/step - loss: 0.2692 - accuracy: 0.9034 - val_loss: 0.3196 - val_accuracy: 0.8824\n",
      "Epoch 21/30\n",
      "1719/1719 [==============================] - 6s 3ms/step - loss: 0.2640 - accuracy: 0.9042 - val_loss: 0.3153 - val_accuracy: 0.8838\n",
      "Epoch 22/30\n",
      "1719/1719 [==============================] - 5s 3ms/step - loss: 0.2588 - accuracy: 0.9068 - val_loss: 0.3144 - val_accuracy: 0.8864\n",
      "Epoch 23/30\n",
      "1719/1719 [==============================] - 5s 3ms/step - loss: 0.2547 - accuracy: 0.9086 - val_loss: 0.3393 - val_accuracy: 0.8724\n",
      "Epoch 24/30\n",
      "1719/1719 [==============================] - 5s 3ms/step - loss: 0.2494 - accuracy: 0.9107 - val_loss: 0.3152 - val_accuracy: 0.8834\n",
      "Epoch 25/30\n",
      "1719/1719 [==============================] - 5s 3ms/step - loss: 0.2454 - accuracy: 0.9112 - val_loss: 0.3156 - val_accuracy: 0.8836\n",
      "Epoch 26/30\n",
      "1719/1719 [==============================] - 6s 3ms/step - loss: 0.2420 - accuracy: 0.9131 - val_loss: 0.3101 - val_accuracy: 0.8860\n",
      "Epoch 27/30\n",
      "1719/1719 [==============================] - 5s 3ms/step - loss: 0.2369 - accuracy: 0.9139 - val_loss: 0.3179 - val_accuracy: 0.8858\n",
      "Epoch 28/30\n",
      "1719/1719 [==============================] - 6s 3ms/step - loss: 0.2340 - accuracy: 0.9163 - val_loss: 0.3133 - val_accuracy: 0.8858\n",
      "Epoch 29/30\n",
      "1719/1719 [==============================] - 5s 3ms/step - loss: 0.2297 - accuracy: 0.9172 - val_loss: 0.3151 - val_accuracy: 0.8868\n",
      "Epoch 30/30\n",
      "1719/1719 [==============================] - 6s 3ms/step - loss: 0.2260 - accuracy: 0.9191 - val_loss: 0.3072 - val_accuracy: 0.8868\n"
     ]
    }
   ]
  },
  {
   "cell_type": "code",
   "source": [
    "import matplotlib.pyplot as plt\n",
    "import pandas as pd\n",
    "pd.DataFrame(history.history).plot(figsize=(8,5), \n",
    "                                   xlim=[0,29],\n",
    "                                   ylim=[0,1],\n",
    "                                   grid= True,\n",
    "                                   xlabel= \"Epoch\",\n",
    "                                   style = [\"r--\",\"r--.\",\"b-\",\"b-*\"])\n",
    "plt.show()"
   ],
   "metadata": {
    "colab": {
     "base_uri": "https://localhost:8080/",
     "height": 338
    },
    "id": "9hpvPCgaG1d8",
    "outputId": "2bdc9141-f1b3-45d2-8da0-4df7de8dde86"
   },
   "execution_count": 20,
   "outputs": [
    {
     "output_type": "display_data",
     "data": {
      "text/plain": [
       "<Figure size 576x360 with 1 Axes>"
      ],
      "image/png": "[encoded data removed]"
     },
     "metadata": {
      "needs_background": "light"
     }
    }
   ]
  },
  {
   "cell_type": "markdown",
   "source": [
    "# Model Evaluation"
   ],
   "metadata": {
    "id": "Y2Z--09dM5qR"
   }
  },
  {
   "cell_type": "code",
   "source": "model.evaluate(X_test, y_test)",
   "metadata": {
    "colab": {
     "base_uri": "https://localhost:8080/"
    },
    "id": "teoJ2VxPI_zJ",
    "outputId": "964f652d-4051-457f-bf60-881ef2c8edaf"
   },
   "execution_count": 21,
   "outputs": [
    {
     "output_type": "stream",
     "name": "stdout",
     "text": [
      "313/313 [==============================] - 1s 2ms/step - loss: 0.3261 - accuracy: 0.8848\n"
     ]
    },
    {
     "output_type": "execute_result",
     "data": {
      "text/plain": [
       "[0.32611843943595886, 0.8848000168800354]"
      ]
     },
     "metadata": {},
     "execution_count": 21
    }
   ]
  },
  {
   "cell_type": "markdown",
   "source": [
    "# Data Prediction"
   ],
   "metadata": {
    "id": "8wA5wQKsM9cz"
   }
  },
  {
   "cell_type": "code",
   "source": [
    "X_new = X_test[:3]\n",
    "y_proba = model.predict(X_new)"
   ],
   "metadata": {
    "colab": {
     "base_uri": "https://localhost:8080/"
    },
    "id": "PFzdJykmJxLe",
    "outputId": "60c168b4-8b1f-4ef0-8c11-9a83479c3a42"
   },
   "execution_count": 22,
   "outputs": [
    {
     "output_type": "stream",
     "name": "stdout",
     "text": [
      "1/1 [==============================] - 0s 270ms/step\n"
     ]
    }
   ]
  },
  {
   "cell_type": "code",
   "source": [
    "y_proba.round(2)"
   ],
   "metadata": {
    "colab": {
     "base_uri": "https://localhost:8080/"
    },
    "id": "BzDdi3n0KSj8",
    "outputId": "f0e84613-7150-4937-c471-cdc4ee113357"
   },
   "execution_count": 23,
   "outputs": [
    {
     "output_type": "execute_result",
     "data": {
      "text/plain": [
       "array([[0.  , 0.  , 0.  , 0.  , 0.  , 0.01, 0.  , 0.01, 0.  , 0.98],\n",
       "       [0.  , 0.  , 1.  , 0.  , 0.  , 0.  , 0.  , 0.  , 0.  , 0.  ],\n",
       "       [0.  , 1.  , 0.  , 0.  , 0.  , 0.  , 0.  , 0.  , 0.  , 0.  ]],\n",
       "      dtype=float32)"
      ]
     },
     "metadata": {},
     "execution_count": 23
    }
   ]
  },
  {
   "cell_type": "code",
   "source": [
    "import numpy as np\n",
    "y_pred = y_proba.argmax(axis=-1)\n",
    "y_pred"
   ],
   "metadata": {
    "colab": {
     "base_uri": "https://localhost:8080/"
    },
    "id": "wGt7HpRDKX4a",
    "outputId": "30838d52-9362-4dce-b597-ec62f92e2d68"
   },
   "execution_count": 24,
   "outputs": [
    {
     "output_type": "execute_result",
     "data": {
      "text/plain": [
       "array([9, 2, 1])"
      ]
     },
     "metadata": {},
     "execution_count": 24
    }
   ]
  },
  {
   "cell_type": "code",
   "source": [
    "np.array(class_names)[y_pred]"
   ],
   "metadata": {
    "colab": {
     "base_uri": "https://localhost:8080/"
    },
    "id": "2ph8ctbIL36a",
    "outputId": "44f6468e-7444-47f9-bd3a-a3f5aab9043d"
   },
   "execution_count": 25,
   "outputs": [
    {
     "output_type": "execute_result",
     "data": {
      "text/plain": [
       "array(['Ankle boot', 'Pullover', 'Trouser'], dtype='<U11')"
      ]
     },
     "metadata": {},
     "execution_count": 25
    }
   ]
  }
 ]
}
