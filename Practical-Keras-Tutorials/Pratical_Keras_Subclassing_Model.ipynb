{
 "nbformat": 4,
 "nbformat_minor": 0,
 "metadata": {
  "colab": {
   "provenance": []
  },
  "kernelspec": {
   "name": "python3",
   "display_name": "Python 3"
  },
  "language_info": {
   "name": "python"
  }
 },
 "cells": [
  {
   "cell_type": "markdown",
   "source": [
    "# Model Loading"
   ],
   "metadata": {
    "id": "8afHp_wMCO5m"
   }
  },
  {
   "cell_type": "code",
   "execution_count": 1,
   "metadata": {
    "id": "3qqCjl1m7j4t"
   },
   "outputs": [],
   "source": [
    "from sklearn.datasets import fetch_california_housing\n",
    "housing = fetch_california_housing()"
   ]
  },
  {
   "cell_type": "code",
   "source": [
    "from sklearn.model_selection import train_test_split\n",
    "X_train, X_test, y_train, y_test = train_test_split(\n",
    "    housing.data, housing.target, random_state = 42\n",
    ")"
   ],
   "metadata": {
    "id": "ANd56EJ38pUW"
   },
   "execution_count": 2,
   "outputs": []
  },
  {
   "cell_type": "markdown",
   "source": [
    "# Model Building"
   ],
   "metadata": {
    "id": "IET2qSiXCSnN"
   }
  },
  {
   "cell_type": "code",
   "source": [
    "import tensorflow as tf \n",
    "from tensorflow import keras"
   ],
   "metadata": {
    "id": "oD80o9p08-oO"
   },
   "execution_count": 3,
   "outputs": []
  },
  {
   "cell_type": "code",
   "source": [
    "class My_Model(tf.keras.Model):\n",
    "  def __init__(self, units=30, activation=\"relu\"):\n",
    "    super().__init__()\n",
    "    self.norm_layer_wide = tf.keras.layers.Normalization()\n",
    "    self.norm_layer_deep = tf.keras.layers.Normalization()\n",
    "    self.hidden1 = tf.keras.layers.Dense(units, activation=activation)\n",
    "    self.hidden2 = tf.keras.layers.Dense(units, activation=activation)\n",
    "    self.main_output = tf.keras.layers.Dense(1)\n",
    "  def call(self, inputs):\n",
    "    input_wide, input_deep = inputs\n",
    "    norm_wide = self.norm_layer_wide(input_wide)\n",
    "    norm_deep = self.norm_layer_deep(input_deep)\n",
    "    hidden1 = self.hidden1(norm_deep)\n",
    "    hidden2 = self.hidden2(hidden1)\n",
    "    concat = tf.keras.layers.concatenate([norm_wide, hidden2])\n",
    "    output = self.main_output(concat)\n",
    "    return output"
   ],
   "metadata": {
    "id": "-TgjbrUO9JmB"
   },
   "execution_count": 4,
   "outputs": []
  },
  {
   "cell_type": "code",
   "source": [
    "tf.random.set_seed(42)\n",
    "model = My_Model(30, activation=\"relu\")"
   ],
   "metadata": {
    "id": "AHPCq9wq_PNB"
   },
   "execution_count": 5,
   "outputs": []
  },
  {
   "cell_type": "code",
   "source": [
    "optimizer = tf.keras.optimizers.Adam(learning_rate=1e-3)\n",
    "model.compile(\n",
    "    loss = \"mse\",\n",
    "    optimizer=optimizer,\n",
    "    metrics = [\"RootMeanSquaredError\"]\n",
    ")"
   ],
   "metadata": {
    "id": "byOe-W0R_eiw"
   },
   "execution_count": 6,
   "outputs": []
  },
  {
   "cell_type": "code",
   "source": [
    "X_train_wide, X_train_deep = X_train[:,:5], X_train[:,2:]\n",
    "X_test_wide, X_test_deep = X_test[:, :5], X_test[:,2:]"
   ],
   "metadata": {
    "id": "_Ui52WZG_25h"
   },
   "execution_count": 7,
   "outputs": []
  },
  {
   "cell_type": "code",
   "source": [
    "model.norm_layer_wide.adapt(X_train_wide)\n",
    "model.norm_layer_deep.adapt(X_train_deep)"
   ],
   "metadata": {
    "id": "luujWfAKANjI"
   },
   "execution_count": 8,
   "outputs": []
  },
  {
   "cell_type": "markdown",
   "source": [
    "# Model Training"
   ],
   "metadata": {
    "id": "_P4bY54-CVwp"
   }
  },
  {
   "cell_type": "code",
   "source": [
    "history = model.fit((X_train_wide, X_train_deep),\n",
    "                    y_train,\n",
    "                    validation_split=0.1,\n",
    "                    epochs = 10)"
   ],
   "metadata": {
    "colab": {
     "base_uri": "https://localhost:8080/"
    },
    "id": "QoxB0BJaAa1X",
    "outputId": "466eb181-c109-4df3-85e2-c657be749ee4"
   },
   "execution_count": 9,
   "outputs": [
    {
     "output_type": "stream",
     "name": "stdout",
     "text": [
      "Epoch 1/10\n",
      "436/436 [==============================] - 3s 3ms/step - loss: 1.6177 - root_mean_squared_error: 1.2719 - val_loss: 0.7565 - val_root_mean_squared_error: 0.8698\n",
      "Epoch 2/10\n",
      "436/436 [==============================] - 1s 3ms/step - loss: 0.5975 - root_mean_squared_error: 0.7730 - val_loss: 0.5613 - val_root_mean_squared_error: 0.7492\n",
      "Epoch 3/10\n",
      "436/436 [==============================] - 2s 4ms/step - loss: 0.4757 - root_mean_squared_error: 0.6897 - val_loss: 0.4721 - val_root_mean_squared_error: 0.6871\n",
      "Epoch 4/10\n",
      "436/436 [==============================] - 1s 3ms/step - loss: 0.4390 - root_mean_squared_error: 0.6626 - val_loss: 0.4627 - val_root_mean_squared_error: 0.6802\n",
      "Epoch 5/10\n",
      "436/436 [==============================] - 1s 2ms/step - loss: 0.4025 - root_mean_squared_error: 0.6345 - val_loss: 0.4151 - val_root_mean_squared_error: 0.6443\n",
      "Epoch 6/10\n",
      "436/436 [==============================] - 1s 3ms/step - loss: 0.3789 - root_mean_squared_error: 0.6155 - val_loss: 0.3955 - val_root_mean_squared_error: 0.6289\n",
      "Epoch 7/10\n",
      "436/436 [==============================] - 1s 2ms/step - loss: 0.3657 - root_mean_squared_error: 0.6048 - val_loss: 0.3862 - val_root_mean_squared_error: 0.6214\n",
      "Epoch 8/10\n",
      "436/436 [==============================] - 1s 2ms/step - loss: 0.3578 - root_mean_squared_error: 0.5981 - val_loss: 0.3848 - val_root_mean_squared_error: 0.6203\n",
      "Epoch 9/10\n",
      "436/436 [==============================] - 1s 2ms/step - loss: 0.3519 - root_mean_squared_error: 0.5932 - val_loss: 0.3707 - val_root_mean_squared_error: 0.6088\n",
      "Epoch 10/10\n",
      "436/436 [==============================] - 1s 3ms/step - loss: 0.3471 - root_mean_squared_error: 0.5891 - val_loss: 0.3691 - val_root_mean_squared_error: 0.6076\n"
     ]
    }
   ]
  },
  {
   "cell_type": "markdown",
   "source": [
    "# Model Evaluation"
   ],
   "metadata": {
    "id": "7CFzA8-HCY0E"
   }
  },
  {
   "cell_type": "code",
   "source": [
    "eval_results = model.evaluate((X_test_wide, X_test_deep), y_test)"
   ],
   "metadata": {
    "colab": {
     "base_uri": "https://localhost:8080/"
    },
    "id": "_ESjbhqRAvA3",
    "outputId": "6bc541a5-83f3-46aa-dc5a-a60f81fdb322"
   },
   "execution_count": 10,
   "outputs": [
    {
     "output_type": "stream",
     "name": "stdout",
     "text": [
      "162/162 [==============================] - 0s 3ms/step - loss: 0.3496 - root_mean_squared_error: 0.5913\n"
     ]
    }
   ]
  },
  {
   "cell_type": "code",
   "source": [
    "eval_results"
   ],
   "metadata": {
    "colab": {
     "base_uri": "https://localhost:8080/"
    },
    "id": "PF3Mn-hoBMTX",
    "outputId": "1ff36572-5309-44c9-f52e-472a9a56bc33"
   },
   "execution_count": 11,
   "outputs": [
    {
     "output_type": "execute_result",
     "data": {
      "text/plain": [
       "[0.34964966773986816, 0.5913118124008179]"
      ]
     },
     "metadata": {},
     "execution_count": 11
    }
   ]
  },
  {
   "cell_type": "markdown",
   "source": [
    "# Prediction"
   ],
   "metadata": {
    "id": "o4G39jS_CcBj"
   }
  },
  {
   "cell_type": "code",
   "source": [
    "X_new_wide, X_new_deep = X_test_wide[:3], X_test_deep[:3]"
   ],
   "metadata": {
    "id": "WKzixXt4BPuY"
   },
   "execution_count": 12,
   "outputs": []
  },
  {
   "cell_type": "code",
   "source": [
    "y_pred = model.predict((X_new_wide, X_new_deep))\n",
    "y_pred "
   ],
   "metadata": {
    "colab": {
     "base_uri": "https://localhost:8080/"
    },
    "id": "07cc-u27Bt8A",
    "outputId": "4adfcd4a-52d2-42d0-8e30-801ce350c046"
   },
   "execution_count": 13,
   "outputs": [
    {
     "output_type": "stream",
     "name": "stdout",
     "text": [
      "1/1 [==============================] - 0s 192ms/step\n"
     ]
    },
    {
     "output_type": "execute_result",
     "data": {
      "text/plain": [
       "array([[0.36844897],\n",
       "       [1.4869882 ],\n",
       "       [3.3377788 ]], dtype=float32)"
      ]
     },
     "metadata": {},
     "execution_count": 13
    }
   ]
  },
  {
   "cell_type": "code",
   "source": [
    "y_test[:3]"
   ],
   "metadata": {
    "colab": {
     "base_uri": "https://localhost:8080/"
    },
    "id": "_j8ml8VMB4fo",
    "outputId": "4c330d23-eb15-4e28-9fd9-b384442b66b6"
   },
   "execution_count": 14,
   "outputs": [
    {
     "output_type": "execute_result",
     "data": {
      "text/plain": [
       "array([0.477  , 0.458  , 5.00001])"
      ]
     },
     "metadata": {},
     "execution_count": 14
    }
   ]
  }
 ]
}
