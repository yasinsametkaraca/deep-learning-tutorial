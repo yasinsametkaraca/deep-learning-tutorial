{
 "nbformat": 4,
 "nbformat_minor": 0,
 "metadata": {
  "colab": {
   "provenance": [],
   "authorship_tag": "ABX9TyMld+eudNW0BcJhTlzITce6",
   "include_colab_link": true
  },
  "kernelspec": {
   "name": "python3",
   "display_name": "Python 3 (ipykernel)",
   "language": "python"
  },
  "language_info": {
   "name": "python"
  }
 },
 "cells": [
  {
   "cell_type": "markdown",
   "source": [
    "# Data Loading"
   ],
   "metadata": {
    "id": "lGamVoAkrk-C"
   }
  },
  {
   "cell_type": "code",
   "execution_count": 1,
   "metadata": {
    "id": "X7fgNhOKeqGo"
   },
   "outputs": [],
   "source": [
    "from sklearn.datasets import  fetch_california_housing\n",
    "housing = fetch_california_housing()"
   ]
  },
  {
   "cell_type": "code",
   "source": [
    "for i in housing:\n",
    "  print(i)"
   ],
   "metadata": {
    "colab": {
     "base_uri": "https://localhost:8080/"
    },
    "id": "cfU8zi3apUvF",
    "outputId": "91067fcd-db4d-4fca-a377-7dad89c4eab8"
   },
   "execution_count": 2,
   "outputs": [
    {
     "output_type": "stream",
     "name": "stdout",
     "text": [
      "data\n",
      "target\n",
      "frame\n",
      "target_names\n",
      "feature_names\n",
      "DESCR\n"
     ]
    }
   ]
  },
  {
   "cell_type": "markdown",
   "source": [
    "# Data preprocessing"
   ],
   "metadata": {
    "id": "YoNeVGZmrnoq"
   }
  },
  {
   "cell_type": "code",
   "source": [
    "from sklearn.model_selection import train_test_split\n",
    "X_train_full, X_test, y_train_full, y_test = train_test_split(\n",
    "    housing.data, housing.target, random_state=42)\n",
    "X_train, X_valid, y_train, y_valid = train_test_split(\n",
    "    X_train_full, y_train_full, random_state=42)"
   ],
   "metadata": {
    "id": "cVzn2g2GpfkC"
   },
   "execution_count": 3,
   "outputs": []
  },
  {
   "cell_type": "markdown",
   "source": [
    "# Model Building"
   ],
   "metadata": {
    "id": "uAgeANJYsHMt"
   }
  },
  {
   "cell_type": "code",
   "source": [
    "import tensorflow as tf\n",
    "from tensorflow import keras"
   ],
   "metadata": {
    "id": "hLFF3saQrjir",
    "ExecuteTime": {
     "end_time": "2024-10-08T07:54:28.670176Z",
     "start_time": "2024-10-08T07:54:19.697901Z"
    }
   },
   "outputs": [],
   "execution_count": 1
  },
  {
   "metadata": {},
   "cell_type": "markdown",
   "source": "![Wide and Deep Model](custom_model.png)"
  },
  {
   "cell_type": "code",
   "source": [
    "class WideAndDeepModel(tf.keras.Model):\n",
    "    def __init__(self, units=30, activation=\"relu\", **kwargs): # **kwargs needed for naming the model. Units is the number of neurons in the hidden layer. \n",
    "        super().__init__(**kwargs)  # needed to support naming the model\n",
    "        self.norm_layer_wide = tf.keras.layers.Normalization()\n",
    "        self.norm_layer_deep = tf.keras.layers.Normalization()\n",
    "        self.hidden1 = tf.keras.layers.Dense(units, activation=activation)\n",
    "        self.hidden2 = tf.keras.layers.Dense(units, activation=activation)\n",
    "        self.main_output = tf.keras.layers.Dense(1)    \n",
    "    def call(self, inputs): # inputs is a tuple containing the wide and deep inputs\n",
    "        input_wide, input_deep = inputs # unpack the tuple\n",
    "        norm_wide = self.norm_layer_wide(input_wide) # normalize the wide input\n",
    "        norm_deep = self.norm_layer_deep(input_deep) # normalize the deep input\n",
    "        hidden1 = self.hidden1(norm_deep) # pass the normalized deep input through the first hidden layer\n",
    "        hidden2 = self.hidden2(hidden1) # pass the output of the first hidden layer through the second hidden layer\n",
    "        concat = tf.keras.layers.concatenate([norm_wide, hidden2]) # concatenate the wide input and the output of the second hidden layer. Mixing wide and deep input. \n",
    "        output = self.main_output(concat) # pass the concatenated input through the output layer.\n",
    "        return output"
   ],
   "metadata": {
    "id": "ZwaxkSXy4YKq"
   },
   "execution_count": 5,
   "outputs": []
  },
  {
   "cell_type": "code",
   "source": [
    "tf.random.set_seed(42)\n",
    "model = WideAndDeepModel(30, activation=\"relu\", name=\"my_model\") # create an instance of the model. 30 is the number of neurons in the hidden layer. input shape is inferred from the input data."
   ],
   "metadata": {
    "id": "a3V1pUW0BBHg"
   },
   "execution_count": 6,
   "outputs": []
  },
  {
   "cell_type": "code",
   "source": [
    "optimizer = tf.keras.optimizers.Adam(learning_rate=1e-3)\n",
    "model.compile(loss=\"mse\", optimizer=optimizer, \n",
    "              metrics=[\"RootMeanSquaredError\"])"
   ],
   "metadata": {
    "id": "9DXrV61gBIkK"
   },
   "execution_count": 7,
   "outputs": []
  },
  {
   "cell_type": "code",
   "source": [
    "# We have 7 features. The first 5 are wide features and the last 5 are deep features.\n",
    "X_train_wide, X_train_deep = X_train[:, :5], X_train[:, 2:]\n",
    "X_valid_wide, X_valid_deep = X_valid[:, :5], X_valid[:, 2:]\n",
    "X_test_wide, X_test_deep = X_test[:, :5], X_test[:, 2:]"
   ],
   "metadata": {
    "id": "gBXXf1PyBNtV"
   },
   "execution_count": 10,
   "outputs": []
  },
  {
   "cell_type": "markdown",
   "source": [
    "# Model Training"
   ],
   "metadata": {
    "id": "ZiDPy-OpB3n7"
   }
  },
  {
   "cell_type": "code",
   "source": [
    "model.norm_layer_wide.adapt(X_train_wide) # normalize the wide input. Adapt is used to calculate the mean and standard deviation of the train data. We use this to normalize the validation and test data.\n",
    "model.norm_layer_deep.adapt(X_train_deep) # normalize the deep input. \n",
    "\n",
    "history = model.fit((X_train_wide, X_train_deep), # pass the wide and deep input as a tuple \n",
    "                    y_train, # target\n",
    "                    validation_data=((X_valid_wide, X_valid_deep), y_valid), \n",
    "                    epochs=10) "
   ],
   "metadata": {
    "id": "qHyPS_UVBQ5R",
    "colab": {
     "base_uri": "https://localhost:8080/"
    },
    "outputId": "58060fba-1474-43ba-a042-3e72554b799b"
   },
   "execution_count": 11,
   "outputs": [
    {
     "output_type": "stream",
     "name": "stdout",
     "text": [
      "Epoch 1/10\n",
      "363/363 [==============================] - 3s 4ms/step - loss: 2.0211 - root_mean_squared_error: 1.4217 - val_loss: 2.0318 - val_root_mean_squared_error: 1.4254\n",
      "Epoch 2/10\n",
      "363/363 [==============================] - 1s 4ms/step - loss: 0.6697 - root_mean_squared_error: 0.8183 - val_loss: 3.4732 - val_root_mean_squared_error: 1.8637\n",
      "Epoch 3/10\n",
      "363/363 [==============================] - 1s 3ms/step - loss: 0.5667 - root_mean_squared_error: 0.7528 - val_loss: 1.2420 - val_root_mean_squared_error: 1.1145\n",
      "Epoch 4/10\n",
      "363/363 [==============================] - 1s 3ms/step - loss: 0.4724 - root_mean_squared_error: 0.6873 - val_loss: 1.1187 - val_root_mean_squared_error: 1.0577\n",
      "Epoch 5/10\n",
      "363/363 [==============================] - 1s 4ms/step - loss: 0.4237 - root_mean_squared_error: 0.6510 - val_loss: 2.4028 - val_root_mean_squared_error: 1.5501\n",
      "Epoch 6/10\n",
      "363/363 [==============================] - 1s 3ms/step - loss: 0.4154 - root_mean_squared_error: 0.6445 - val_loss: 2.0498 - val_root_mean_squared_error: 1.4317\n",
      "Epoch 7/10\n",
      "363/363 [==============================] - 1s 3ms/step - loss: 0.4013 - root_mean_squared_error: 0.6335 - val_loss: 5.8771 - val_root_mean_squared_error: 2.4243\n",
      "Epoch 8/10\n",
      "363/363 [==============================] - 1s 3ms/step - loss: 0.3792 - root_mean_squared_error: 0.6158 - val_loss: 11.0327 - val_root_mean_squared_error: 3.3216\n",
      "Epoch 9/10\n",
      "363/363 [==============================] - 1s 2ms/step - loss: 0.4108 - root_mean_squared_error: 0.6410 - val_loss: 9.7388 - val_root_mean_squared_error: 3.1207\n",
      "Epoch 10/10\n",
      "363/363 [==============================] - 1s 3ms/step - loss: 0.4330 - root_mean_squared_error: 0.6580 - val_loss: 3.0698 - val_root_mean_squared_error: 1.7521\n"
     ]
    }
   ]
  },
  {
   "cell_type": "markdown",
   "source": [
    "# Model Evaluation\n",
    "\n",
    "Model evaluation is done using the evaluate method. The evaluate method returns the loss and the metrics specified in the compile method. Evaluate method takes the input and target as arguments."
   ],
   "metadata": {
    "id": "7FC5ybFm3LNd"
   }
  },
  {
   "cell_type": "code",
   "source": [
    "eval_results = model.evaluate((X_test_wide, X_test_deep), (y_test, y_test))\n",
    "eval_results"
   ],
   "metadata": {
    "id": "fO4jS5DqcPje",
    "colab": {
     "base_uri": "https://localhost:8080/"
    },
    "outputId": "b6998495-2262-4d55-cc26-72d6363836e1"
   },
   "execution_count": 12,
   "outputs": [
    {
     "output_type": "stream",
     "name": "stdout",
     "text": [
      "162/162 [==============================] - 0s 2ms/step - loss: 0.3589 - root_mean_squared_error: 0.5991\n"
     ]
    },
    {
     "output_type": "execute_result",
     "data": {
      "text/plain": [
       "[0.35890090465545654, 0.5990833640098572]"
      ]
     },
     "metadata": {},
     "execution_count": 12
    }
   ]
  },
  {
   "cell_type": "markdown",
   "source": [
    "# Prediction"
   ],
   "metadata": {
    "id": "DFlLfCfj3PNN"
   }
  },
  {
   "cell_type": "code",
   "source": "X_new_wide, X_new_deep = X_test_wide[:3], X_test_deep[:3] # get the first 3 instances of the wide and deep input",
   "metadata": {
    "id": "bmE2XK2g3Szq"
   },
   "execution_count": 13,
   "outputs": []
  },
  {
   "cell_type": "code",
   "source": [
    "y_pred = model.predict((X_new_wide, X_new_deep))\n",
    "y_pred"
   ],
   "metadata": {
    "colab": {
     "base_uri": "https://localhost:8080/"
    },
    "id": "5wtr-Hax4QmE",
    "outputId": "684e32e7-8a27-4bc7-dbdd-f37142fa00af"
   },
   "execution_count": 14,
   "outputs": [
    {
     "output_type": "stream",
     "name": "stdout",
     "text": [
      "1/1 [==============================] - 0s 113ms/step\n"
     ]
    },
    {
     "output_type": "execute_result",
     "data": {
      "text/plain": [
       "array([[0.4832632],\n",
       "       [1.6469457],\n",
       "       [3.5325484]], dtype=float32)"
      ]
     },
     "metadata": {},
     "execution_count": 14
    }
   ]
  },
  {
   "cell_type": "code",
   "source": [
    "y_test[:3]"
   ],
   "metadata": {
    "colab": {
     "base_uri": "https://localhost:8080/"
    },
    "id": "tC-1WIYm4jWt",
    "outputId": "d3feeefb-4d05-43bb-ca61-cd3b98bb0b72"
   },
   "execution_count": 15,
   "outputs": [
    {
     "output_type": "execute_result",
     "data": {
      "text/plain": [
       "array([0.477  , 0.458  , 5.00001])"
      ]
     },
     "metadata": {},
     "execution_count": 15
    }
   ]
  }
 ]
}
