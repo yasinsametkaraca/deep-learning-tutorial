{
 "nbformat": 4,
 "nbformat_minor": 0,
 "metadata": {
  "colab": {
   "provenance": [],
   "authorship_tag": "ABX9TyOWvowyyes8fTLI7gyPke4N",
   "include_colab_link": true
  },
  "kernelspec": {
   "name": "python3",
   "display_name": "Python 3"
  },
  "language_info": {
   "name": "python"
  },
  "accelerator": "GPU",
  "gpuClass": "standard"
 },
 "cells": [
  {
   "cell_type": "markdown",
   "source": [
    "# Building the Model for One Input & Output\n",
    "\n",
    "Functional API is used to build complex models such as multi-input and multi-output models, models with shared layers, etc. The functional API can handle models with non-linear topology, models with shared layers, and models with multiple inputs or outputs. The functional API is more flexible than the Sequential API. The functional API can be used to build complex models such as multi-input and multi-output models, models with shared layers, etc. The functional API can handle models with non-linear topology, models with shared layers, and models with multiple inputs or outputs. The functional API is more flexible than the Sequential API. The functional API can be used to build complex models such as multi-input and multi-output models, models with shared layers, etc. The functional API can handle models with non-linear topology, models with shared layers, and models with multiple inputs or outputs. The functional API is more flexible than the Sequential API. The functional API can be used to build complex models such as multi-input and multi-output models, models with shared layers, etc. The functional API can handle models with non-linear topology, models with shared layers, and models with multiple inputs or outputs. The functional API is more flexible than the Sequential API. The functional API can be used to build complex models such as multi-input and multi-output models, models with shared layers, etc. The functional API can handle models with non-linear topology, models with shared layers, and models with multiple inputs or outputs. The functional API is more flexible than the Sequential API. The functional API can be used to build complex models such as multi-input and multi-output models, models with shared layers, etc. The functional API can handle models with non-linear topology, models with shared layers, and models with multiple inputs or outputs. The functional API is more flexible than the Sequential API. The functional API can be used to build complex models such as multi-input and multi-output models, models with shared layers, etc. The functional API can handle models with non-linear topology, models with shared layers, and models with multiple inputs or outputs. The functional API is more flexible than the Sequential API. The functional API can be used to build complex models such as multi-input and multi-output models, models with shared layers, etc. The functional API can handle models with non-linear topology, models with shared layers, and models with multiple inputs or outputs. The functional API is more flexible than the Sequential API. \n",
    "\n",
    "https://i.ytimg.com/vi/ittokQvuNg8/maxresdefault.jpg"
   ],
   "metadata": {
    "id": "bnLpyrkB-XI1"
   }
  },
  {
   "cell_type": "markdown",
   "source": [
    "## Loading dataset"
   ],
   "metadata": {
    "id": "Jk7gF2ns1nzN"
   }
  },
  {
   "cell_type": "code",
   "execution_count": 1,
   "metadata": {
    "id": "Ajs8Q7r9xn3h"
   },
   "outputs": [],
   "source": [
    "from sklearn.datasets import fetch_california_housing\n",
    "housing = fetch_california_housing()"
   ]
  },
  {
   "cell_type": "markdown",
   "source": [
    "## Data Preprocessing"
   ],
   "metadata": {
    "id": "xAMnEE1a3SC3"
   }
  },
  {
   "cell_type": "code",
   "source": [
    "from sklearn.model_selection import train_test_split\n",
    "X_train, X_test, y_train, y_test = train_test_split(\n",
    "    housing.data, housing.target, random_state=42\n",
    ")"
   ],
   "metadata": {
    "id": "IHtlYZlR10Xp"
   },
   "execution_count": 2,
   "outputs": []
  },
  {
   "cell_type": "code",
   "source": [
    "import tensorflow as tf\n",
    "tf.random.set_seed(42)"
   ],
   "metadata": {
    "id": "VL5VI1-f3YxS"
   },
   "execution_count": 3,
   "outputs": []
  },
  {
   "cell_type": "markdown",
   "source": [
    "## Modeling"
   ],
   "metadata": {
    "id": "OU9Yt6ak4bJA"
   }
  },
  {
   "cell_type": "markdown",
   "source": [
    "### Creating the layers"
   ],
   "metadata": {
    "id": "uFb_nK7H4rMA"
   }
  },
  {
   "cell_type": "code",
   "source": [
    "normalization_layer = tf.keras.layers.Normalization() # Normalization layer is used to normalize the input features\n",
    "hidden_layer1 = tf.keras.layers.Dense(30, activation=\"relu\")\n",
    "hidden_layer2 = tf.keras.layers.Dense(30, activation=\"relu\")\n",
    "concat_layer = tf.keras.layers.Concatenate() # Concatenation layer is used to concatenate the normalized input features and the output of the second hidden layer\n",
    "output_layer = tf.keras.layers.Dense(1) # Output layer is used to produce the output of the model. Regression models have one output node"
   ],
   "metadata": {
    "id": "417Z-Ixb4FRH"
   },
   "execution_count": 4,
   "outputs": []
  },
  {
   "cell_type": "markdown",
   "source": [
    "### Building the model"
   ],
   "metadata": {
    "id": "jqkDQQpn4vrl"
   }
  },
  {
   "cell_type": "code",
   "source": [
    "input_ = tf.keras.layers.Input(shape=X_train.shape[1:]) # Input layer is used to define the input shape of the model which is equal to the number of features in the dataset\n",
    "normalized = normalization_layer(input_)\n",
    "hidden1 = hidden_layer1(normalized)\n",
    "hidden2 = hidden_layer2(hidden1)\n",
    "concat = concat_layer([normalized, hidden2]) # Concatenation layer is used to concatenate the normalized input features and the output of the second hidden layer\n",
    "output = output_layer(concat)\n",
    "model = tf.keras.Model(inputs=[input_], outputs=[output])"
   ],
   "metadata": {
    "id": "lkAeHjSQ40YW"
   },
   "execution_count": 5,
   "outputs": []
  },
  {
   "cell_type": "code",
   "source": [
    "model.summary()"
   ],
   "metadata": {
    "colab": {
     "base_uri": "https://localhost:8080/"
    },
    "id": "6nt22ofB5SdW",
    "outputId": "0a4f300a-c3f0-4fc3-c7a5-d5e2b884bcf8"
   },
   "execution_count": 6,
   "outputs": [
    {
     "output_type": "stream",
     "name": "stdout",
     "text": [
      "Model: \"model\"\n",
      "__________________________________________________________________________________________________\n",
      " Layer (type)                   Output Shape         Param #     Connected to                     \n",
      "==================================================================================================\n",
      " input_1 (InputLayer)           [(None, 8)]          0           []                               \n",
      "                                                                                                  \n",
      " normalization (Normalization)  (None, 8)            17          ['input_1[0][0]']                \n",
      "                                                                                                  \n",
      " dense (Dense)                  (None, 30)           270         ['normalization[0][0]']          \n",
      "                                                                                                  \n",
      " dense_1 (Dense)                (None, 30)           930         ['dense[0][0]']                  \n",
      "                                                                                                  \n",
      " concatenate (Concatenate)      (None, 38)           0           ['normalization[0][0]',          \n",
      "                                                                  'dense_1[0][0]']                \n",
      "                                                                                                  \n",
      " dense_2 (Dense)                (None, 1)            39          ['concatenate[0][0]']            \n",
      "                                                                                                  \n",
      "==================================================================================================\n",
      "Total params: 1,256\n",
      "Trainable params: 1,239\n",
      "Non-trainable params: 17\n",
      "__________________________________________________________________________________________________\n"
     ]
    }
   ]
  },
  {
   "cell_type": "markdown",
   "source": [
    "## Model Training"
   ],
   "metadata": {
    "id": "18Jefsin6Ioz"
   }
  },
  {
   "cell_type": "code",
   "source": [
    "optimizer = tf.keras.optimizers.Adam(learning_rate=1e-3)\n",
    "model.compile(loss=\"mse\", optimizer=optimizer, metrics=[\"RootMeanSquaredError\"]) # metrics=[\"RootMeanSquaredError\"] is used to calculate the RMSE of the model during training\n",
    "normalization_layer.adapt(X_train) # normalization_layer.adapt(X_train) is used to calculate the mean and standard deviation of the input features. \n",
    "history = model.fit(X_train, y_train, epochs=20, validation_split=0.2)"
   ],
   "metadata": {
    "colab": {
     "base_uri": "https://localhost:8080/"
    },
    "id": "9ShvuBC658Zn",
    "outputId": "a369d108-eebb-4db3-e876-b629b98d1d86"
   },
   "execution_count": 7,
   "outputs": [
    {
     "output_type": "stream",
     "name": "stdout",
     "text": [
      "Epoch 1/20\n",
      "387/387 [==============================] - 8s 4ms/step - loss: 1.2202 - root_mean_squared_error: 1.1046 - val_loss: 0.5766 - val_root_mean_squared_error: 0.7593\n",
      "Epoch 2/20\n",
      "387/387 [==============================] - 1s 4ms/step - loss: 0.4747 - root_mean_squared_error: 0.6890 - val_loss: 0.4651 - val_root_mean_squared_error: 0.6820\n",
      "Epoch 3/20\n",
      "387/387 [==============================] - 1s 4ms/step - loss: 0.4065 - root_mean_squared_error: 0.6376 - val_loss: 0.4246 - val_root_mean_squared_error: 0.6516\n",
      "Epoch 4/20\n",
      "387/387 [==============================] - 2s 5ms/step - loss: 0.3821 - root_mean_squared_error: 0.6182 - val_loss: 0.3983 - val_root_mean_squared_error: 0.6311\n",
      "Epoch 5/20\n",
      "387/387 [==============================] - 2s 5ms/step - loss: 0.3711 - root_mean_squared_error: 0.6092 - val_loss: 0.3973 - val_root_mean_squared_error: 0.6303\n",
      "Epoch 6/20\n",
      "387/387 [==============================] - 2s 4ms/step - loss: 0.3706 - root_mean_squared_error: 0.6088 - val_loss: 0.3794 - val_root_mean_squared_error: 0.6160\n",
      "Epoch 7/20\n",
      "387/387 [==============================] - 2s 4ms/step - loss: 0.3532 - root_mean_squared_error: 0.5943 - val_loss: 0.3773 - val_root_mean_squared_error: 0.6142\n",
      "Epoch 8/20\n",
      "387/387 [==============================] - 1s 4ms/step - loss: 0.3437 - root_mean_squared_error: 0.5863 - val_loss: 0.3725 - val_root_mean_squared_error: 0.6104\n",
      "Epoch 9/20\n",
      "387/387 [==============================] - 2s 4ms/step - loss: 0.3438 - root_mean_squared_error: 0.5864 - val_loss: 0.3633 - val_root_mean_squared_error: 0.6027\n",
      "Epoch 10/20\n",
      "387/387 [==============================] - 1s 4ms/step - loss: 0.3340 - root_mean_squared_error: 0.5780 - val_loss: 0.3550 - val_root_mean_squared_error: 0.5958\n",
      "Epoch 11/20\n",
      "387/387 [==============================] - 1s 4ms/step - loss: 0.3281 - root_mean_squared_error: 0.5728 - val_loss: 0.3585 - val_root_mean_squared_error: 0.5987\n",
      "Epoch 12/20\n",
      "387/387 [==============================] - 2s 5ms/step - loss: 0.3211 - root_mean_squared_error: 0.5667 - val_loss: 0.3526 - val_root_mean_squared_error: 0.5938\n",
      "Epoch 13/20\n",
      "387/387 [==============================] - 2s 5ms/step - loss: 0.3165 - root_mean_squared_error: 0.5626 - val_loss: 0.3458 - val_root_mean_squared_error: 0.5881\n",
      "Epoch 14/20\n",
      "387/387 [==============================] - 2s 4ms/step - loss: 0.3319 - root_mean_squared_error: 0.5761 - val_loss: 0.3401 - val_root_mean_squared_error: 0.5832\n",
      "Epoch 15/20\n",
      "387/387 [==============================] - 2s 4ms/step - loss: 0.3079 - root_mean_squared_error: 0.5549 - val_loss: 0.3326 - val_root_mean_squared_error: 0.5767\n",
      "Epoch 16/20\n",
      "387/387 [==============================] - 2s 4ms/step - loss: 0.3103 - root_mean_squared_error: 0.5570 - val_loss: 0.3539 - val_root_mean_squared_error: 0.5949\n",
      "Epoch 17/20\n",
      "387/387 [==============================] - 2s 4ms/step - loss: 0.3057 - root_mean_squared_error: 0.5529 - val_loss: 0.3326 - val_root_mean_squared_error: 0.5767\n",
      "Epoch 18/20\n",
      "387/387 [==============================] - 2s 4ms/step - loss: 0.3022 - root_mean_squared_error: 0.5497 - val_loss: 0.3381 - val_root_mean_squared_error: 0.5815\n",
      "Epoch 19/20\n",
      "387/387 [==============================] - 2s 4ms/step - loss: 0.3058 - root_mean_squared_error: 0.5530 - val_loss: 0.3651 - val_root_mean_squared_error: 0.6042\n",
      "Epoch 20/20\n",
      "387/387 [==============================] - 2s 5ms/step - loss: 0.3043 - root_mean_squared_error: 0.5516 - val_loss: 0.3230 - val_root_mean_squared_error: 0.5683\n"
     ]
    }
   ]
  },
  {
   "cell_type": "markdown",
   "source": [
    "## Model Evaluation"
   ],
   "metadata": {
    "id": "cJ3Mew86--rd"
   }
  },
  {
   "cell_type": "code",
   "source": [
    "mse_test = model.evaluate(X_test, y_test)"
   ],
   "metadata": {
    "colab": {
     "base_uri": "https://localhost:8080/"
    },
    "id": "aY2eLxQc_BDV",
    "outputId": "6a1a37f9-3d48-4a29-a56b-3b99e7706fc5"
   },
   "execution_count": 8,
   "outputs": [
    {
     "output_type": "stream",
     "name": "stdout",
     "text": [
      "162/162 [==============================] - 0s 3ms/step - loss: 0.3089 - root_mean_squared_error: 0.5558\n"
     ]
    }
   ]
  },
  {
   "cell_type": "markdown",
   "source": [
    "## Prediction"
   ],
   "metadata": {
    "id": "z_fLuSEu_WOC"
   }
  },
  {
   "cell_type": "code",
   "source": [
    "import pandas as pd\n",
    "X_new = X_test[:3]\n",
    "pd.DataFrame(X_new)"
   ],
   "metadata": {
    "colab": {
     "base_uri": "https://localhost:8080/",
     "height": 143
    },
    "id": "FCH8Wrxm_YGc",
    "outputId": "691f1cce-d8d7-453f-c412-387d1ac66601"
   },
   "execution_count": 9,
   "outputs": [
    {
     "output_type": "execute_result",
     "data": {
      "text/plain": [
       "        0     1         2         3       4         5      6       7\n",
       "0  1.6812  25.0  4.192201  1.022284  1392.0  3.877437  36.06 -119.01\n",
       "1  2.5313  30.0  5.039384  1.193493  1565.0  2.679795  35.14 -119.46\n",
       "2  3.4801  52.0  3.977155  1.185877  1310.0  1.360332  37.80 -122.44"
      ],
      "text/html": [
       "\n",
       "  <div id=\"df-22d6c018-a704-4f5b-88d9-ef40eafe1084\">\n",
       "    <div class=\"colab-df-container\">\n",
       "      <div>\n",
       "<style scoped>\n",
       "    .dataframe tbody tr th:only-of-type {\n",
       "        vertical-align: middle;\n",
       "    }\n",
       "\n",
       "    .dataframe tbody tr th {\n",
       "        vertical-align: top;\n",
       "    }\n",
       "\n",
       "    .dataframe thead th {\n",
       "        text-align: right;\n",
       "    }\n",
       "</style>\n",
       "<table border=\"1\" class=\"dataframe\">\n",
       "  <thead>\n",
       "    <tr style=\"text-align: right;\">\n",
       "      <th></th>\n",
       "      <th>0</th>\n",
       "      <th>1</th>\n",
       "      <th>2</th>\n",
       "      <th>3</th>\n",
       "      <th>4</th>\n",
       "      <th>5</th>\n",
       "      <th>6</th>\n",
       "      <th>7</th>\n",
       "    </tr>\n",
       "  </thead>\n",
       "  <tbody>\n",
       "    <tr>\n",
       "      <th>0</th>\n",
       "      <td>1.6812</td>\n",
       "      <td>25.0</td>\n",
       "      <td>4.192201</td>\n",
       "      <td>1.022284</td>\n",
       "      <td>1392.0</td>\n",
       "      <td>3.877437</td>\n",
       "      <td>36.06</td>\n",
       "      <td>-119.01</td>\n",
       "    </tr>\n",
       "    <tr>\n",
       "      <th>1</th>\n",
       "      <td>2.5313</td>\n",
       "      <td>30.0</td>\n",
       "      <td>5.039384</td>\n",
       "      <td>1.193493</td>\n",
       "      <td>1565.0</td>\n",
       "      <td>2.679795</td>\n",
       "      <td>35.14</td>\n",
       "      <td>-119.46</td>\n",
       "    </tr>\n",
       "    <tr>\n",
       "      <th>2</th>\n",
       "      <td>3.4801</td>\n",
       "      <td>52.0</td>\n",
       "      <td>3.977155</td>\n",
       "      <td>1.185877</td>\n",
       "      <td>1310.0</td>\n",
       "      <td>1.360332</td>\n",
       "      <td>37.80</td>\n",
       "      <td>-122.44</td>\n",
       "    </tr>\n",
       "  </tbody>\n",
       "</table>\n",
       "</div>\n",
       "      <button class=\"colab-df-convert\" onclick=\"convertToInteractive('df-22d6c018-a704-4f5b-88d9-ef40eafe1084')\"\n",
       "              title=\"Convert this dataframe to an interactive table.\"\n",
       "              style=\"display:none;\">\n",
       "        \n",
       "  <svg xmlns=\"http://www.w3.org/2000/svg\" height=\"24px\"viewBox=\"0 0 24 24\"\n",
       "       width=\"24px\">\n",
       "    <path d=\"M0 0h24v24H0V0z\" fill=\"none\"/>\n",
       "    <path d=\"M18.56 5.44l.94 2.06.94-2.06 2.06-.94-2.06-.94-.94-2.06-.94 2.06-2.06.94zm-11 1L8.5 8.5l.94-2.06 2.06-.94-2.06-.94L8.5 2.5l-.94 2.06-2.06.94zm10 10l.94 2.06.94-2.06 2.06-.94-2.06-.94-.94-2.06-.94 2.06-2.06.94z\"/><path d=\"M17.41 7.96l-1.37-1.37c-.4-.4-.92-.59-1.43-.59-.52 0-1.04.2-1.43.59L10.3 9.45l-7.72 7.72c-.78.78-.78 2.05 0 2.83L4 21.41c.39.39.9.59 1.41.59.51 0 1.02-.2 1.41-.59l7.78-7.78 2.81-2.81c.8-.78.8-2.07 0-2.86zM5.41 20L4 18.59l7.72-7.72 1.47 1.35L5.41 20z\"/>\n",
       "  </svg>\n",
       "      </button>\n",
       "      \n",
       "  <style>\n",
       "    .colab-df-container {\n",
       "      display:flex;\n",
       "      flex-wrap:wrap;\n",
       "      gap: 12px;\n",
       "    }\n",
       "\n",
       "    .colab-df-convert {\n",
       "      background-color: #E8F0FE;\n",
       "      border: none;\n",
       "      border-radius: 50%;\n",
       "      cursor: pointer;\n",
       "      display: none;\n",
       "      fill: #1967D2;\n",
       "      height: 32px;\n",
       "      padding: 0 0 0 0;\n",
       "      width: 32px;\n",
       "    }\n",
       "\n",
       "    .colab-df-convert:hover {\n",
       "      background-color: #E2EBFA;\n",
       "      box-shadow: 0px 1px 2px rgba(60, 64, 67, 0.3), 0px 1px 3px 1px rgba(60, 64, 67, 0.15);\n",
       "      fill: #174EA6;\n",
       "    }\n",
       "\n",
       "    [theme=dark] .colab-df-convert {\n",
       "      background-color: #3B4455;\n",
       "      fill: #D2E3FC;\n",
       "    }\n",
       "\n",
       "    [theme=dark] .colab-df-convert:hover {\n",
       "      background-color: #434B5C;\n",
       "      box-shadow: 0px 1px 3px 1px rgba(0, 0, 0, 0.15);\n",
       "      filter: drop-shadow(0px 1px 2px rgba(0, 0, 0, 0.3));\n",
       "      fill: #FFFFFF;\n",
       "    }\n",
       "  </style>\n",
       "\n",
       "      <script>\n",
       "        const buttonEl =\n",
       "          document.querySelector('#df-22d6c018-a704-4f5b-88d9-ef40eafe1084 button.colab-df-convert');\n",
       "        buttonEl.style.display =\n",
       "          google.colab.kernel.accessAllowed ? 'block' : 'none';\n",
       "\n",
       "        async function convertToInteractive(key) {\n",
       "          const element = document.querySelector('#df-22d6c018-a704-4f5b-88d9-ef40eafe1084');\n",
       "          const dataTable =\n",
       "            await google.colab.kernel.invokeFunction('convertToInteractive',\n",
       "                                                     [key], {});\n",
       "          if (!dataTable) return;\n",
       "\n",
       "          const docLinkHtml = 'Like what you see? Visit the ' +\n",
       "            '<a target=\"_blank\" href=https://colab.research.google.com/notebooks/data_table.ipynb>data table notebook</a>'\n",
       "            + ' to learn more about interactive tables.';\n",
       "          element.innerHTML = '';\n",
       "          dataTable['output_type'] = 'display_data';\n",
       "          await google.colab.output.renderOutput(dataTable, element);\n",
       "          const docLink = document.createElement('div');\n",
       "          docLink.innerHTML = docLinkHtml;\n",
       "          element.appendChild(docLink);\n",
       "        }\n",
       "      </script>\n",
       "    </div>\n",
       "  </div>\n",
       "  "
      ]
     },
     "metadata": {},
     "execution_count": 9
    }
   ]
  },
  {
   "cell_type": "code",
   "source": [
    "y_pred = model.predict(X_new)\n",
    "pd.DataFrame(y_pred)"
   ],
   "metadata": {
    "colab": {
     "base_uri": "https://localhost:8080/",
     "height": 161
    },
    "id": "jrsWXXsA_qiZ",
    "outputId": "3e069c2f-2be9-4d16-9265-5d3388570524"
   },
   "execution_count": 10,
   "outputs": [
    {
     "output_type": "stream",
     "name": "stdout",
     "text": [
      "1/1 [==============================] - 0s 107ms/step\n"
     ]
    },
    {
     "output_type": "execute_result",
     "data": {
      "text/plain": [
       "          0\n",
       "0  0.631996\n",
       "1  1.136796\n",
       "2  4.315046"
      ],
      "text/html": [
       "\n",
       "  <div id=\"df-a9bfd22a-64af-4609-9a19-cc0ec94f85a6\">\n",
       "    <div class=\"colab-df-container\">\n",
       "      <div>\n",
       "<style scoped>\n",
       "    .dataframe tbody tr th:only-of-type {\n",
       "        vertical-align: middle;\n",
       "    }\n",
       "\n",
       "    .dataframe tbody tr th {\n",
       "        vertical-align: top;\n",
       "    }\n",
       "\n",
       "    .dataframe thead th {\n",
       "        text-align: right;\n",
       "    }\n",
       "</style>\n",
       "<table border=\"1\" class=\"dataframe\">\n",
       "  <thead>\n",
       "    <tr style=\"text-align: right;\">\n",
       "      <th></th>\n",
       "      <th>0</th>\n",
       "    </tr>\n",
       "  </thead>\n",
       "  <tbody>\n",
       "    <tr>\n",
       "      <th>0</th>\n",
       "      <td>0.631996</td>\n",
       "    </tr>\n",
       "    <tr>\n",
       "      <th>1</th>\n",
       "      <td>1.136796</td>\n",
       "    </tr>\n",
       "    <tr>\n",
       "      <th>2</th>\n",
       "      <td>4.315046</td>\n",
       "    </tr>\n",
       "  </tbody>\n",
       "</table>\n",
       "</div>\n",
       "      <button class=\"colab-df-convert\" onclick=\"convertToInteractive('df-a9bfd22a-64af-4609-9a19-cc0ec94f85a6')\"\n",
       "              title=\"Convert this dataframe to an interactive table.\"\n",
       "              style=\"display:none;\">\n",
       "        \n",
       "  <svg xmlns=\"http://www.w3.org/2000/svg\" height=\"24px\"viewBox=\"0 0 24 24\"\n",
       "       width=\"24px\">\n",
       "    <path d=\"M0 0h24v24H0V0z\" fill=\"none\"/>\n",
       "    <path d=\"M18.56 5.44l.94 2.06.94-2.06 2.06-.94-2.06-.94-.94-2.06-.94 2.06-2.06.94zm-11 1L8.5 8.5l.94-2.06 2.06-.94-2.06-.94L8.5 2.5l-.94 2.06-2.06.94zm10 10l.94 2.06.94-2.06 2.06-.94-2.06-.94-.94-2.06-.94 2.06-2.06.94z\"/><path d=\"M17.41 7.96l-1.37-1.37c-.4-.4-.92-.59-1.43-.59-.52 0-1.04.2-1.43.59L10.3 9.45l-7.72 7.72c-.78.78-.78 2.05 0 2.83L4 21.41c.39.39.9.59 1.41.59.51 0 1.02-.2 1.41-.59l7.78-7.78 2.81-2.81c.8-.78.8-2.07 0-2.86zM5.41 20L4 18.59l7.72-7.72 1.47 1.35L5.41 20z\"/>\n",
       "  </svg>\n",
       "      </button>\n",
       "      \n",
       "  <style>\n",
       "    .colab-df-container {\n",
       "      display:flex;\n",
       "      flex-wrap:wrap;\n",
       "      gap: 12px;\n",
       "    }\n",
       "\n",
       "    .colab-df-convert {\n",
       "      background-color: #E8F0FE;\n",
       "      border: none;\n",
       "      border-radius: 50%;\n",
       "      cursor: pointer;\n",
       "      display: none;\n",
       "      fill: #1967D2;\n",
       "      height: 32px;\n",
       "      padding: 0 0 0 0;\n",
       "      width: 32px;\n",
       "    }\n",
       "\n",
       "    .colab-df-convert:hover {\n",
       "      background-color: #E2EBFA;\n",
       "      box-shadow: 0px 1px 2px rgba(60, 64, 67, 0.3), 0px 1px 3px 1px rgba(60, 64, 67, 0.15);\n",
       "      fill: #174EA6;\n",
       "    }\n",
       "\n",
       "    [theme=dark] .colab-df-convert {\n",
       "      background-color: #3B4455;\n",
       "      fill: #D2E3FC;\n",
       "    }\n",
       "\n",
       "    [theme=dark] .colab-df-convert:hover {\n",
       "      background-color: #434B5C;\n",
       "      box-shadow: 0px 1px 3px 1px rgba(0, 0, 0, 0.15);\n",
       "      filter: drop-shadow(0px 1px 2px rgba(0, 0, 0, 0.3));\n",
       "      fill: #FFFFFF;\n",
       "    }\n",
       "  </style>\n",
       "\n",
       "      <script>\n",
       "        const buttonEl =\n",
       "          document.querySelector('#df-a9bfd22a-64af-4609-9a19-cc0ec94f85a6 button.colab-df-convert');\n",
       "        buttonEl.style.display =\n",
       "          google.colab.kernel.accessAllowed ? 'block' : 'none';\n",
       "\n",
       "        async function convertToInteractive(key) {\n",
       "          const element = document.querySelector('#df-a9bfd22a-64af-4609-9a19-cc0ec94f85a6');\n",
       "          const dataTable =\n",
       "            await google.colab.kernel.invokeFunction('convertToInteractive',\n",
       "                                                     [key], {});\n",
       "          if (!dataTable) return;\n",
       "\n",
       "          const docLinkHtml = 'Like what you see? Visit the ' +\n",
       "            '<a target=\"_blank\" href=https://colab.research.google.com/notebooks/data_table.ipynb>data table notebook</a>'\n",
       "            + ' to learn more about interactive tables.';\n",
       "          element.innerHTML = '';\n",
       "          dataTable['output_type'] = 'display_data';\n",
       "          await google.colab.output.renderOutput(dataTable, element);\n",
       "          const docLink = document.createElement('div');\n",
       "          docLink.innerHTML = docLinkHtml;\n",
       "          element.appendChild(docLink);\n",
       "        }\n",
       "      </script>\n",
       "    </div>\n",
       "  </div>\n",
       "  "
      ]
     },
     "metadata": {},
     "execution_count": 10
    }
   ]
  },
  {
   "cell_type": "code",
   "source": [
    "pd.DataFrame(y_test[:3])"
   ],
   "metadata": {
    "colab": {
     "base_uri": "https://localhost:8080/",
     "height": 143
    },
    "id": "qGoO-dLgALi-",
    "outputId": "a70f6341-56d8-45d5-c8b8-ef98d264a71a"
   },
   "execution_count": 11,
   "outputs": [
    {
     "output_type": "execute_result",
     "data": {
      "text/plain": [
       "         0\n",
       "0  0.47700\n",
       "1  0.45800\n",
       "2  5.00001"
      ],
      "text/html": [
       "\n",
       "  <div id=\"df-f9cdd59b-f12c-45f9-ad67-75d0aef00325\">\n",
       "    <div class=\"colab-df-container\">\n",
       "      <div>\n",
       "<style scoped>\n",
       "    .dataframe tbody tr th:only-of-type {\n",
       "        vertical-align: middle;\n",
       "    }\n",
       "\n",
       "    .dataframe tbody tr th {\n",
       "        vertical-align: top;\n",
       "    }\n",
       "\n",
       "    .dataframe thead th {\n",
       "        text-align: right;\n",
       "    }\n",
       "</style>\n",
       "<table border=\"1\" class=\"dataframe\">\n",
       "  <thead>\n",
       "    <tr style=\"text-align: right;\">\n",
       "      <th></th>\n",
       "      <th>0</th>\n",
       "    </tr>\n",
       "  </thead>\n",
       "  <tbody>\n",
       "    <tr>\n",
       "      <th>0</th>\n",
       "      <td>0.47700</td>\n",
       "    </tr>\n",
       "    <tr>\n",
       "      <th>1</th>\n",
       "      <td>0.45800</td>\n",
       "    </tr>\n",
       "    <tr>\n",
       "      <th>2</th>\n",
       "      <td>5.00001</td>\n",
       "    </tr>\n",
       "  </tbody>\n",
       "</table>\n",
       "</div>\n",
       "      <button class=\"colab-df-convert\" onclick=\"convertToInteractive('df-f9cdd59b-f12c-45f9-ad67-75d0aef00325')\"\n",
       "              title=\"Convert this dataframe to an interactive table.\"\n",
       "              style=\"display:none;\">\n",
       "        \n",
       "  <svg xmlns=\"http://www.w3.org/2000/svg\" height=\"24px\"viewBox=\"0 0 24 24\"\n",
       "       width=\"24px\">\n",
       "    <path d=\"M0 0h24v24H0V0z\" fill=\"none\"/>\n",
       "    <path d=\"M18.56 5.44l.94 2.06.94-2.06 2.06-.94-2.06-.94-.94-2.06-.94 2.06-2.06.94zm-11 1L8.5 8.5l.94-2.06 2.06-.94-2.06-.94L8.5 2.5l-.94 2.06-2.06.94zm10 10l.94 2.06.94-2.06 2.06-.94-2.06-.94-.94-2.06-.94 2.06-2.06.94z\"/><path d=\"M17.41 7.96l-1.37-1.37c-.4-.4-.92-.59-1.43-.59-.52 0-1.04.2-1.43.59L10.3 9.45l-7.72 7.72c-.78.78-.78 2.05 0 2.83L4 21.41c.39.39.9.59 1.41.59.51 0 1.02-.2 1.41-.59l7.78-7.78 2.81-2.81c.8-.78.8-2.07 0-2.86zM5.41 20L4 18.59l7.72-7.72 1.47 1.35L5.41 20z\"/>\n",
       "  </svg>\n",
       "      </button>\n",
       "      \n",
       "  <style>\n",
       "    .colab-df-container {\n",
       "      display:flex;\n",
       "      flex-wrap:wrap;\n",
       "      gap: 12px;\n",
       "    }\n",
       "\n",
       "    .colab-df-convert {\n",
       "      background-color: #E8F0FE;\n",
       "      border: none;\n",
       "      border-radius: 50%;\n",
       "      cursor: pointer;\n",
       "      display: none;\n",
       "      fill: #1967D2;\n",
       "      height: 32px;\n",
       "      padding: 0 0 0 0;\n",
       "      width: 32px;\n",
       "    }\n",
       "\n",
       "    .colab-df-convert:hover {\n",
       "      background-color: #E2EBFA;\n",
       "      box-shadow: 0px 1px 2px rgba(60, 64, 67, 0.3), 0px 1px 3px 1px rgba(60, 64, 67, 0.15);\n",
       "      fill: #174EA6;\n",
       "    }\n",
       "\n",
       "    [theme=dark] .colab-df-convert {\n",
       "      background-color: #3B4455;\n",
       "      fill: #D2E3FC;\n",
       "    }\n",
       "\n",
       "    [theme=dark] .colab-df-convert:hover {\n",
       "      background-color: #434B5C;\n",
       "      box-shadow: 0px 1px 3px 1px rgba(0, 0, 0, 0.15);\n",
       "      filter: drop-shadow(0px 1px 2px rgba(0, 0, 0, 0.3));\n",
       "      fill: #FFFFFF;\n",
       "    }\n",
       "  </style>\n",
       "\n",
       "      <script>\n",
       "        const buttonEl =\n",
       "          document.querySelector('#df-f9cdd59b-f12c-45f9-ad67-75d0aef00325 button.colab-df-convert');\n",
       "        buttonEl.style.display =\n",
       "          google.colab.kernel.accessAllowed ? 'block' : 'none';\n",
       "\n",
       "        async function convertToInteractive(key) {\n",
       "          const element = document.querySelector('#df-f9cdd59b-f12c-45f9-ad67-75d0aef00325');\n",
       "          const dataTable =\n",
       "            await google.colab.kernel.invokeFunction('convertToInteractive',\n",
       "                                                     [key], {});\n",
       "          if (!dataTable) return;\n",
       "\n",
       "          const docLinkHtml = 'Like what you see? Visit the ' +\n",
       "            '<a target=\"_blank\" href=https://colab.research.google.com/notebooks/data_table.ipynb>data table notebook</a>'\n",
       "            + ' to learn more about interactive tables.';\n",
       "          element.innerHTML = '';\n",
       "          dataTable['output_type'] = 'display_data';\n",
       "          await google.colab.output.renderOutput(dataTable, element);\n",
       "          const docLink = document.createElement('div');\n",
       "          docLink.innerHTML = docLinkHtml;\n",
       "          element.appendChild(docLink);\n",
       "        }\n",
       "      </script>\n",
       "    </div>\n",
       "  </div>\n",
       "  "
      ]
     },
     "metadata": {},
     "execution_count": 11
    }
   ]
  },
  {
   "cell_type": "markdown",
   "source": [
    "# Building the Model with Two Inputs & One Output"
   ],
   "metadata": {
    "id": "DOBjU7D17Maq"
   }
  },
  {
   "cell_type": "markdown",
   "source": [
    "## Creating the layers"
   ],
   "metadata": {
    "id": "EW78KlyH7ey7"
   }
  },
  {
   "cell_type": "code",
   "source": [
    "# Input layers\n",
    "input_wide = tf.keras.layers.Input(shape=[5])\n",
    "input_deep = tf.keras.layers.Input(shape=[6])\n",
    "\n",
    "# Normalization layers\n",
    "norm_layer_wide = tf.keras.layers.Normalization()\n",
    "norm_layer_deep = tf.keras.layers.Normalization()"
   ],
   "metadata": {
    "id": "fTarBLbN7VVO"
   },
   "execution_count": 12,
   "outputs": []
  },
  {
   "cell_type": "markdown",
   "source": [
    "## Modeling"
   ],
   "metadata": {
    "id": "w-nT99Sv8-yi"
   }
  },
  {
   "cell_type": "code",
   "source": [
    "norm_wide = norm_layer_wide(input_wide)\n",
    "norm_deep = norm_layer_deep(input_deep)\n",
    "\n",
    "# Hidden layers\n",
    "hidden1 = tf.keras.layers.Dense(30, activation=\"relu\")(norm_deep)\n",
    "hidden2 = tf.keras.layers.Dense(30, activation=\"relu\")(hidden1)\n",
    "\n",
    "# Concatenation layer\n",
    "concat = tf.keras.layers.concatenate([norm_wide, hidden2])\n",
    "\n",
    "#Output layer\n",
    "output = tf.keras.layers.Dense(1)(concat)\n",
    "\n",
    "# Model building\n",
    "model = tf.keras.Model(inputs=[input_wide, input_deep], outputs=[output])"
   ],
   "metadata": {
    "id": "ZvZKs8mC83HK"
   },
   "execution_count": 13,
   "outputs": []
  },
  {
   "cell_type": "markdown",
   "source": [
    "## Model Compiling"
   ],
   "metadata": {
    "id": "8__lWWb_9EM3"
   }
  },
  {
   "cell_type": "code",
   "source": [
    "optimizer = tf.keras.optimizers.Adam(learning_rate=1e-3)\n",
    "model.compile(loss=\"mse\", optimizer=optimizer, metrics=[\"RootMeanSquaredError\"])\n",
    "X_train_wide, X_train_deep = X_train[:, :5], X_train[:, 2:]\n",
    "X_test_wide, X_test_deep = X_test[:, :5], X_test[:, 2:]\n",
    "\n",
    "norm_layer_wide.adapt(X_train_wide)\n",
    "norm_layer_deep.adapt(X_train_deep)\n",
    "\n",
    "history = model.fit((X_train_wide, X_train_deep), y_train, epochs=20, validation_split=0.2)"
   ],
   "metadata": {
    "colab": {
     "base_uri": "https://localhost:8080/"
    },
    "id": "8fNeYlOC9Bnq",
    "outputId": "2184ccac-b595-449d-8965-17bce2fa8de5"
   },
   "execution_count": 14,
   "outputs": [
    {
     "output_type": "stream",
     "name": "stdout",
     "text": [
      "Epoch 1/20\n",
      "387/387 [==============================] - 3s 4ms/step - loss: 1.3652 - root_mean_squared_error: 1.1684 - val_loss: 0.5692 - val_root_mean_squared_error: 0.7544\n",
      "Epoch 2/20\n",
      "387/387 [==============================] - 2s 4ms/step - loss: 0.4803 - root_mean_squared_error: 0.6930 - val_loss: 0.4685 - val_root_mean_squared_error: 0.6845\n",
      "Epoch 3/20\n",
      "387/387 [==============================] - 2s 4ms/step - loss: 0.4262 - root_mean_squared_error: 0.6528 - val_loss: 0.4444 - val_root_mean_squared_error: 0.6667\n",
      "Epoch 4/20\n",
      "387/387 [==============================] - 2s 4ms/step - loss: 0.4051 - root_mean_squared_error: 0.6365 - val_loss: 0.4323 - val_root_mean_squared_error: 0.6575\n",
      "Epoch 5/20\n",
      "387/387 [==============================] - 3s 7ms/step - loss: 0.3968 - root_mean_squared_error: 0.6299 - val_loss: 0.4270 - val_root_mean_squared_error: 0.6535\n",
      "Epoch 6/20\n",
      "387/387 [==============================] - 2s 6ms/step - loss: 0.3916 - root_mean_squared_error: 0.6258 - val_loss: 0.4039 - val_root_mean_squared_error: 0.6355\n",
      "Epoch 7/20\n",
      "387/387 [==============================] - 2s 4ms/step - loss: 0.3720 - root_mean_squared_error: 0.6099 - val_loss: 0.3970 - val_root_mean_squared_error: 0.6301\n",
      "Epoch 8/20\n",
      "387/387 [==============================] - 2s 4ms/step - loss: 0.3595 - root_mean_squared_error: 0.5996 - val_loss: 0.3843 - val_root_mean_squared_error: 0.6200\n",
      "Epoch 9/20\n",
      "387/387 [==============================] - 2s 4ms/step - loss: 0.3538 - root_mean_squared_error: 0.5948 - val_loss: 0.3838 - val_root_mean_squared_error: 0.6195\n",
      "Epoch 10/20\n",
      "387/387 [==============================] - 2s 4ms/step - loss: 0.3448 - root_mean_squared_error: 0.5872 - val_loss: 0.3686 - val_root_mean_squared_error: 0.6071\n",
      "Epoch 11/20\n",
      "387/387 [==============================] - 2s 5ms/step - loss: 0.3384 - root_mean_squared_error: 0.5817 - val_loss: 0.3807 - val_root_mean_squared_error: 0.6170\n",
      "Epoch 12/20\n",
      "387/387 [==============================] - 2s 5ms/step - loss: 0.3474 - root_mean_squared_error: 0.5894 - val_loss: 0.3681 - val_root_mean_squared_error: 0.6067\n",
      "Epoch 13/20\n",
      "387/387 [==============================] - 2s 4ms/step - loss: 0.3313 - root_mean_squared_error: 0.5756 - val_loss: 0.3622 - val_root_mean_squared_error: 0.6019\n",
      "Epoch 14/20\n",
      "387/387 [==============================] - 2s 4ms/step - loss: 0.3273 - root_mean_squared_error: 0.5721 - val_loss: 0.3565 - val_root_mean_squared_error: 0.5971\n",
      "Epoch 15/20\n",
      "387/387 [==============================] - 2s 4ms/step - loss: 0.3254 - root_mean_squared_error: 0.5704 - val_loss: 0.3626 - val_root_mean_squared_error: 0.6021\n",
      "Epoch 16/20\n",
      "387/387 [==============================] - 1s 4ms/step - loss: 0.3352 - root_mean_squared_error: 0.5789 - val_loss: 0.3573 - val_root_mean_squared_error: 0.5978\n",
      "Epoch 17/20\n",
      "387/387 [==============================] - 2s 4ms/step - loss: 0.3251 - root_mean_squared_error: 0.5702 - val_loss: 0.3542 - val_root_mean_squared_error: 0.5952\n",
      "Epoch 18/20\n",
      "387/387 [==============================] - 2s 4ms/step - loss: 0.3242 - root_mean_squared_error: 0.5694 - val_loss: 0.3548 - val_root_mean_squared_error: 0.5956\n",
      "Epoch 19/20\n",
      "387/387 [==============================] - 2s 6ms/step - loss: 0.3195 - root_mean_squared_error: 0.5652 - val_loss: 0.3580 - val_root_mean_squared_error: 0.5984\n",
      "Epoch 20/20\n",
      "387/387 [==============================] - 1s 4ms/step - loss: 0.3201 - root_mean_squared_error: 0.5657 - val_loss: 0.3802 - val_root_mean_squared_error: 0.6166\n"
     ]
    }
   ]
  },
  {
   "cell_type": "markdown",
   "source": [
    "## Model Evaluation"
   ],
   "metadata": {
    "id": "ME6KeVYC-ss4"
   }
  },
  {
   "cell_type": "code",
   "source": [
    "mse_test = model.evaluate((X_test_wide, X_test_deep), y_test)"
   ],
   "metadata": {
    "colab": {
     "base_uri": "https://localhost:8080/"
    },
    "id": "2b2sBq-u92HF",
    "outputId": "746621b7-3aa8-4044-e172-689d61a211dd"
   },
   "execution_count": 15,
   "outputs": [
    {
     "output_type": "stream",
     "name": "stdout",
     "text": [
      "162/162 [==============================] - 0s 3ms/step - loss: 0.3282 - root_mean_squared_error: 0.5729\n"
     ]
    }
   ]
  },
  {
   "cell_type": "code",
   "source": [
    "X_new_wide, X_new_deep = X_test_wide[:3], X_test_deep[:3]\n",
    "y_pred = model.predict((X_new_wide, X_new_deep))\n",
    "pd.DataFrame(y_pred)"
   ],
   "metadata": {
    "colab": {
     "base_uri": "https://localhost:8080/",
     "height": 161
    },
    "id": "Q9-mFJ9PCLyh",
    "outputId": "a9f737d2-1440-4b9f-bfa8-01b5f91017d5"
   },
   "execution_count": 16,
   "outputs": [
    {
     "output_type": "stream",
     "name": "stdout",
     "text": [
      "1/1 [==============================] - 0s 83ms/step\n"
     ]
    },
    {
     "output_type": "execute_result",
     "data": {
      "text/plain": [
       "          0\n",
       "0  0.494242\n",
       "1  1.256057\n",
       "2  3.799639"
      ],
      "text/html": [
       "\n",
       "  <div id=\"df-35e53a06-8e2e-4314-ab56-7aa1332f9059\">\n",
       "    <div class=\"colab-df-container\">\n",
       "      <div>\n",
       "<style scoped>\n",
       "    .dataframe tbody tr th:only-of-type {\n",
       "        vertical-align: middle;\n",
       "    }\n",
       "\n",
       "    .dataframe tbody tr th {\n",
       "        vertical-align: top;\n",
       "    }\n",
       "\n",
       "    .dataframe thead th {\n",
       "        text-align: right;\n",
       "    }\n",
       "</style>\n",
       "<table border=\"1\" class=\"dataframe\">\n",
       "  <thead>\n",
       "    <tr style=\"text-align: right;\">\n",
       "      <th></th>\n",
       "      <th>0</th>\n",
       "    </tr>\n",
       "  </thead>\n",
       "  <tbody>\n",
       "    <tr>\n",
       "      <th>0</th>\n",
       "      <td>0.494242</td>\n",
       "    </tr>\n",
       "    <tr>\n",
       "      <th>1</th>\n",
       "      <td>1.256057</td>\n",
       "    </tr>\n",
       "    <tr>\n",
       "      <th>2</th>\n",
       "      <td>3.799639</td>\n",
       "    </tr>\n",
       "  </tbody>\n",
       "</table>\n",
       "</div>\n",
       "      <button class=\"colab-df-convert\" onclick=\"convertToInteractive('df-35e53a06-8e2e-4314-ab56-7aa1332f9059')\"\n",
       "              title=\"Convert this dataframe to an interactive table.\"\n",
       "              style=\"display:none;\">\n",
       "        \n",
       "  <svg xmlns=\"http://www.w3.org/2000/svg\" height=\"24px\"viewBox=\"0 0 24 24\"\n",
       "       width=\"24px\">\n",
       "    <path d=\"M0 0h24v24H0V0z\" fill=\"none\"/>\n",
       "    <path d=\"M18.56 5.44l.94 2.06.94-2.06 2.06-.94-2.06-.94-.94-2.06-.94 2.06-2.06.94zm-11 1L8.5 8.5l.94-2.06 2.06-.94-2.06-.94L8.5 2.5l-.94 2.06-2.06.94zm10 10l.94 2.06.94-2.06 2.06-.94-2.06-.94-.94-2.06-.94 2.06-2.06.94z\"/><path d=\"M17.41 7.96l-1.37-1.37c-.4-.4-.92-.59-1.43-.59-.52 0-1.04.2-1.43.59L10.3 9.45l-7.72 7.72c-.78.78-.78 2.05 0 2.83L4 21.41c.39.39.9.59 1.41.59.51 0 1.02-.2 1.41-.59l7.78-7.78 2.81-2.81c.8-.78.8-2.07 0-2.86zM5.41 20L4 18.59l7.72-7.72 1.47 1.35L5.41 20z\"/>\n",
       "  </svg>\n",
       "      </button>\n",
       "      \n",
       "  <style>\n",
       "    .colab-df-container {\n",
       "      display:flex;\n",
       "      flex-wrap:wrap;\n",
       "      gap: 12px;\n",
       "    }\n",
       "\n",
       "    .colab-df-convert {\n",
       "      background-color: #E8F0FE;\n",
       "      border: none;\n",
       "      border-radius: 50%;\n",
       "      cursor: pointer;\n",
       "      display: none;\n",
       "      fill: #1967D2;\n",
       "      height: 32px;\n",
       "      padding: 0 0 0 0;\n",
       "      width: 32px;\n",
       "    }\n",
       "\n",
       "    .colab-df-convert:hover {\n",
       "      background-color: #E2EBFA;\n",
       "      box-shadow: 0px 1px 2px rgba(60, 64, 67, 0.3), 0px 1px 3px 1px rgba(60, 64, 67, 0.15);\n",
       "      fill: #174EA6;\n",
       "    }\n",
       "\n",
       "    [theme=dark] .colab-df-convert {\n",
       "      background-color: #3B4455;\n",
       "      fill: #D2E3FC;\n",
       "    }\n",
       "\n",
       "    [theme=dark] .colab-df-convert:hover {\n",
       "      background-color: #434B5C;\n",
       "      box-shadow: 0px 1px 3px 1px rgba(0, 0, 0, 0.15);\n",
       "      filter: drop-shadow(0px 1px 2px rgba(0, 0, 0, 0.3));\n",
       "      fill: #FFFFFF;\n",
       "    }\n",
       "  </style>\n",
       "\n",
       "      <script>\n",
       "        const buttonEl =\n",
       "          document.querySelector('#df-35e53a06-8e2e-4314-ab56-7aa1332f9059 button.colab-df-convert');\n",
       "        buttonEl.style.display =\n",
       "          google.colab.kernel.accessAllowed ? 'block' : 'none';\n",
       "\n",
       "        async function convertToInteractive(key) {\n",
       "          const element = document.querySelector('#df-35e53a06-8e2e-4314-ab56-7aa1332f9059');\n",
       "          const dataTable =\n",
       "            await google.colab.kernel.invokeFunction('convertToInteractive',\n",
       "                                                     [key], {});\n",
       "          if (!dataTable) return;\n",
       "\n",
       "          const docLinkHtml = 'Like what you see? Visit the ' +\n",
       "            '<a target=\"_blank\" href=https://colab.research.google.com/notebooks/data_table.ipynb>data table notebook</a>'\n",
       "            + ' to learn more about interactive tables.';\n",
       "          element.innerHTML = '';\n",
       "          dataTable['output_type'] = 'display_data';\n",
       "          await google.colab.output.renderOutput(dataTable, element);\n",
       "          const docLink = document.createElement('div');\n",
       "          docLink.innerHTML = docLinkHtml;\n",
       "          element.appendChild(docLink);\n",
       "        }\n",
       "      </script>\n",
       "    </div>\n",
       "  </div>\n",
       "  "
      ]
     },
     "metadata": {},
     "execution_count": 16
    }
   ]
  },
  {
   "cell_type": "markdown",
   "source": [
    "# Building the Model with Two Inputs & Two Outputs"
   ],
   "metadata": {
    "id": "tPwa1PQdC9Tl"
   }
  },
  {
   "cell_type": "markdown",
   "source": [
    "### Model Building"
   ],
   "metadata": {
    "id": "OS7f72RbD3w-"
   }
  },
  {
   "cell_type": "code",
   "source": [
    "norm_wide = norm_layer_wide(input_wide)\n",
    "norm_deep = norm_layer_deep(input_deep)\n",
    "\n",
    "# Hidden layers\n",
    "hidden1 = tf.keras.layers.Dense(30, activation=\"relu\")(norm_deep)\n",
    "hidden2 = tf.keras.layers.Dense(30, activation=\"relu\")(hidden1)\n",
    "\n",
    "# Concatenation layer\n",
    "concat = tf.keras.layers.concatenate([norm_wide, hidden2])\n",
    "\n",
    "#Output layers\n",
    "output = tf.keras.layers.Dense(1)(concat)\n",
    "aux_output = tf.keras.layers.Dense(1)(hidden2)\n",
    "\n",
    "model = tf.keras.Model(inputs=[input_wide, input_deep],outputs=[output, aux_output])"
   ],
   "metadata": {
    "id": "1L8nuLm-DJw8"
   },
   "execution_count": 17,
   "outputs": []
  },
  {
   "cell_type": "markdown",
   "source": [
    "## Model Compiling"
   ],
   "metadata": {
    "id": "97N3Pk4TD7go"
   }
  },
  {
   "cell_type": "code",
   "source": [
    "optimizer = tf.keras.optimizers.Adam(learning_rate=1e-3)\n",
    "model.compile(loss=(\"mse\", \"mse\"), loss_weights=(0.9, 0.1), optimizer=optimizer,metrics=[\"RootMeanSquaredError\"])"
   ],
   "metadata": {
    "id": "uiHOdp-4DzBO"
   },
   "execution_count": 18,
   "outputs": []
  },
  {
   "cell_type": "markdown",
   "source": [
    "### Model Training"
   ],
   "metadata": {
    "id": "pY9Yvk_CEQaa"
   }
  },
  {
   "cell_type": "code",
   "source": [
    "norm_layer_wide.adapt(X_train_wide)\n",
    "norm_layer_deep.adapt(X_train_deep)\n",
    "\n",
    "history = model.fit((X_train_wide, X_train_deep), (y_train, y_train), epochs=20, validation_split=0.2)"
   ],
   "metadata": {
    "colab": {
     "base_uri": "https://localhost:8080/"
    },
    "id": "s1HFf_CwESlT",
    "outputId": "6755bbbb-4f60-4c4c-c6e6-7853a7d812f8"
   },
   "execution_count": 19,
   "outputs": [
    {
     "output_type": "stream",
     "name": "stdout",
     "text": [
      "Epoch 1/20\n",
      "387/387 [==============================] - 4s 6ms/step - loss: 1.6741 - dense_8_loss: 1.6575 - dense_9_loss: 1.8238 - dense_8_root_mean_squared_error: 1.2874 - dense_9_root_mean_squared_error: 1.3505 - val_loss: 0.7913 - val_dense_8_loss: 0.7826 - val_dense_9_loss: 0.8696 - val_dense_8_root_mean_squared_error: 0.8847 - val_dense_9_root_mean_squared_error: 0.9325\n",
      "Epoch 2/20\n",
      "387/387 [==============================] - 2s 5ms/step - loss: 0.6648 - dense_8_loss: 0.6548 - dense_9_loss: 0.7548 - dense_8_root_mean_squared_error: 0.8092 - dense_9_root_mean_squared_error: 0.8688 - val_loss: 0.6075 - val_dense_8_loss: 0.5973 - val_dense_9_loss: 0.6998 - val_dense_8_root_mean_squared_error: 0.7728 - val_dense_9_root_mean_squared_error: 0.8365\n",
      "Epoch 3/20\n",
      "387/387 [==============================] - 3s 7ms/step - loss: 0.5277 - dense_8_loss: 0.5165 - dense_9_loss: 0.6289 - dense_8_root_mean_squared_error: 0.7187 - dense_9_root_mean_squared_error: 0.7930 - val_loss: 0.5061 - val_dense_8_loss: 0.4942 - val_dense_9_loss: 0.6135 - val_dense_8_root_mean_squared_error: 0.7030 - val_dense_9_root_mean_squared_error: 0.7832\n",
      "Epoch 4/20\n",
      "387/387 [==============================] - 2s 5ms/step - loss: 0.4466 - dense_8_loss: 0.4345 - dense_9_loss: 0.5556 - dense_8_root_mean_squared_error: 0.6591 - dense_9_root_mean_squared_error: 0.7454 - val_loss: 0.4383 - val_dense_8_loss: 0.4262 - val_dense_9_loss: 0.5475 - val_dense_8_root_mean_squared_error: 0.6528 - val_dense_9_root_mean_squared_error: 0.7400\n",
      "Epoch 5/20\n",
      "387/387 [==============================] - 2s 5ms/step - loss: 0.4084 - dense_8_loss: 0.3971 - dense_9_loss: 0.5107 - dense_8_root_mean_squared_error: 0.6301 - dense_9_root_mean_squared_error: 0.7146 - val_loss: 0.4116 - val_dense_8_loss: 0.4000 - val_dense_9_loss: 0.5160 - val_dense_8_root_mean_squared_error: 0.6324 - val_dense_9_root_mean_squared_error: 0.7183\n",
      "Epoch 6/20\n",
      "387/387 [==============================] - 2s 5ms/step - loss: 0.3903 - dense_8_loss: 0.3805 - dense_9_loss: 0.4787 - dense_8_root_mean_squared_error: 0.6169 - dense_9_root_mean_squared_error: 0.6919 - val_loss: 0.3878 - val_dense_8_loss: 0.3772 - val_dense_9_loss: 0.4827 - val_dense_8_root_mean_squared_error: 0.6142 - val_dense_9_root_mean_squared_error: 0.6948\n",
      "Epoch 7/20\n",
      "387/387 [==============================] - 2s 5ms/step - loss: 0.3641 - dense_8_loss: 0.3542 - dense_9_loss: 0.4534 - dense_8_root_mean_squared_error: 0.5952 - dense_9_root_mean_squared_error: 0.6733 - val_loss: 0.3788 - val_dense_8_loss: 0.3688 - val_dense_9_loss: 0.4683 - val_dense_8_root_mean_squared_error: 0.6073 - val_dense_9_root_mean_squared_error: 0.6843\n",
      "Epoch 8/20\n",
      "387/387 [==============================] - 2s 5ms/step - loss: 0.3549 - dense_8_loss: 0.3456 - dense_9_loss: 0.4391 - dense_8_root_mean_squared_error: 0.5878 - dense_9_root_mean_squared_error: 0.6627 - val_loss: 0.3732 - val_dense_8_loss: 0.3641 - val_dense_9_loss: 0.4556 - val_dense_8_root_mean_squared_error: 0.6034 - val_dense_9_root_mean_squared_error: 0.6750\n",
      "Epoch 9/20\n",
      "387/387 [==============================] - 3s 7ms/step - loss: 0.3486 - dense_8_loss: 0.3399 - dense_9_loss: 0.4276 - dense_8_root_mean_squared_error: 0.5830 - dense_9_root_mean_squared_error: 0.6539 - val_loss: 0.3653 - val_dense_8_loss: 0.3561 - val_dense_9_loss: 0.4479 - val_dense_8_root_mean_squared_error: 0.5968 - val_dense_9_root_mean_squared_error: 0.6693\n",
      "Epoch 10/20\n",
      "387/387 [==============================] - 2s 5ms/step - loss: 0.3421 - dense_8_loss: 0.3338 - dense_9_loss: 0.4169 - dense_8_root_mean_squared_error: 0.5778 - dense_9_root_mean_squared_error: 0.6457 - val_loss: 0.3609 - val_dense_8_loss: 0.3527 - val_dense_9_loss: 0.4352 - val_dense_8_root_mean_squared_error: 0.5939 - val_dense_9_root_mean_squared_error: 0.6597\n",
      "Epoch 11/20\n",
      "387/387 [==============================] - 2s 5ms/step - loss: 0.3379 - dense_8_loss: 0.3302 - dense_9_loss: 0.4077 - dense_8_root_mean_squared_error: 0.5746 - dense_9_root_mean_squared_error: 0.6385 - val_loss: 0.3697 - val_dense_8_loss: 0.3622 - val_dense_9_loss: 0.4376 - val_dense_8_root_mean_squared_error: 0.6018 - val_dense_9_root_mean_squared_error: 0.6615\n",
      "Epoch 12/20\n",
      "387/387 [==============================] - 2s 5ms/step - loss: 0.3414 - dense_8_loss: 0.3344 - dense_9_loss: 0.4045 - dense_8_root_mean_squared_error: 0.5783 - dense_9_root_mean_squared_error: 0.6360 - val_loss: 0.3717 - val_dense_8_loss: 0.3641 - val_dense_9_loss: 0.4397 - val_dense_8_root_mean_squared_error: 0.6034 - val_dense_9_root_mean_squared_error: 0.6631\n",
      "Epoch 13/20\n",
      "387/387 [==============================] - 2s 5ms/step - loss: 0.3306 - dense_8_loss: 0.3234 - dense_9_loss: 0.3958 - dense_8_root_mean_squared_error: 0.5687 - dense_9_root_mean_squared_error: 0.6291 - val_loss: 0.3571 - val_dense_8_loss: 0.3496 - val_dense_9_loss: 0.4248 - val_dense_8_root_mean_squared_error: 0.5913 - val_dense_9_root_mean_squared_error: 0.6518\n",
      "Epoch 14/20\n",
      "387/387 [==============================] - 2s 5ms/step - loss: 0.3289 - dense_8_loss: 0.3219 - dense_9_loss: 0.3924 - dense_8_root_mean_squared_error: 0.5674 - dense_9_root_mean_squared_error: 0.6264 - val_loss: 0.3635 - val_dense_8_loss: 0.3556 - val_dense_9_loss: 0.4349 - val_dense_8_root_mean_squared_error: 0.5963 - val_dense_9_root_mean_squared_error: 0.6595\n",
      "Epoch 15/20\n",
      "387/387 [==============================] - 2s 6ms/step - loss: 0.3261 - dense_8_loss: 0.3192 - dense_9_loss: 0.3881 - dense_8_root_mean_squared_error: 0.5650 - dense_9_root_mean_squared_error: 0.6230 - val_loss: 0.3516 - val_dense_8_loss: 0.3443 - val_dense_9_loss: 0.4173 - val_dense_8_root_mean_squared_error: 0.5868 - val_dense_9_root_mean_squared_error: 0.6460\n",
      "Epoch 16/20\n",
      "387/387 [==============================] - 2s 6ms/step - loss: 0.3332 - dense_8_loss: 0.3267 - dense_9_loss: 0.3917 - dense_8_root_mean_squared_error: 0.5716 - dense_9_root_mean_squared_error: 0.6259 - val_loss: 0.3555 - val_dense_8_loss: 0.3487 - val_dense_9_loss: 0.4173 - val_dense_8_root_mean_squared_error: 0.5905 - val_dense_9_root_mean_squared_error: 0.6460\n",
      "Epoch 17/20\n",
      "387/387 [==============================] - 2s 5ms/step - loss: 0.3282 - dense_8_loss: 0.3216 - dense_9_loss: 0.3873 - dense_8_root_mean_squared_error: 0.5671 - dense_9_root_mean_squared_error: 0.6223 - val_loss: 0.3510 - val_dense_8_loss: 0.3437 - val_dense_9_loss: 0.4168 - val_dense_8_root_mean_squared_error: 0.5862 - val_dense_9_root_mean_squared_error: 0.6456\n",
      "Epoch 18/20\n",
      "387/387 [==============================] - 2s 5ms/step - loss: 0.3252 - dense_8_loss: 0.3191 - dense_9_loss: 0.3806 - dense_8_root_mean_squared_error: 0.5649 - dense_9_root_mean_squared_error: 0.6170 - val_loss: 0.3473 - val_dense_8_loss: 0.3404 - val_dense_9_loss: 0.4088 - val_dense_8_root_mean_squared_error: 0.5835 - val_dense_9_root_mean_squared_error: 0.6394\n",
      "Epoch 19/20\n",
      "387/387 [==============================] - 2s 5ms/step - loss: 0.3194 - dense_8_loss: 0.3128 - dense_9_loss: 0.3784 - dense_8_root_mean_squared_error: 0.5593 - dense_9_root_mean_squared_error: 0.6151 - val_loss: 0.3534 - val_dense_8_loss: 0.3470 - val_dense_9_loss: 0.4109 - val_dense_8_root_mean_squared_error: 0.5890 - val_dense_9_root_mean_squared_error: 0.6410\n",
      "Epoch 20/20\n",
      "387/387 [==============================] - 2s 5ms/step - loss: 0.3182 - dense_8_loss: 0.3118 - dense_9_loss: 0.3753 - dense_8_root_mean_squared_error: 0.5584 - dense_9_root_mean_squared_error: 0.6126 - val_loss: 0.3463 - val_dense_8_loss: 0.3395 - val_dense_9_loss: 0.4075 - val_dense_8_root_mean_squared_error: 0.5826 - val_dense_9_root_mean_squared_error: 0.6383\n"
     ]
    }
   ]
  },
  {
   "cell_type": "markdown",
   "source": [
    "### Model Evaluation"
   ],
   "metadata": {
    "id": "GGJnmDqXEiPY"
   }
  },
  {
   "cell_type": "code",
   "source": [
    "eval_results = model.evaluate((X_test_wide, X_test_deep), (y_test, y_test))\n",
    "weighted_sum_of_losses, main_loss, aux_loss, main_rmse, aux_rmse = eval_results"
   ],
   "metadata": {
    "colab": {
     "base_uri": "https://localhost:8080/"
    },
    "id": "kvapbOukEhim",
    "outputId": "7ae85781-0f58-439d-9ba3-87607e1878e1"
   },
   "execution_count": 20,
   "outputs": [
    {
     "output_type": "stream",
     "name": "stdout",
     "text": [
      "162/162 [==============================] - 1s 4ms/step - loss: 0.3283 - dense_8_loss: 0.3221 - dense_9_loss: 0.3838 - dense_8_root_mean_squared_error: 0.5675 - dense_9_root_mean_squared_error: 0.6195\n"
     ]
    }
   ]
  },
  {
   "cell_type": "markdown",
   "source": [
    "### Model Prediction"
   ],
   "metadata": {
    "id": "ivhGCjHOGIxf"
   }
  },
  {
   "cell_type": "code",
   "source": [
    "y_pred_main, y_pred_aux = model.predict((X_new_wide, X_new_deep))"
   ],
   "metadata": {
    "colab": {
     "base_uri": "https://localhost:8080/"
    },
    "id": "lDZnRO1AEvot",
    "outputId": "b5e274f4-3d75-47e2-f86a-acaa773da39e"
   },
   "execution_count": 21,
   "outputs": [
    {
     "output_type": "stream",
     "name": "stdout",
     "text": [
      "1/1 [==============================] - 0s 99ms/step\n"
     ]
    }
   ]
  },
  {
   "cell_type": "code",
   "source": [
    "y_pred_main"
   ],
   "metadata": {
    "colab": {
     "base_uri": "https://localhost:8080/"
    },
    "id": "HE1V5V8dE7QZ",
    "outputId": "e226f211-58af-4597-e0f7-2f825a41cf1a"
   },
   "execution_count": 22,
   "outputs": [
    {
     "output_type": "execute_result",
     "data": {
      "text/plain": [
       "array([[0.55358607],\n",
       "       [1.0681849 ],\n",
       "       [3.742366  ]], dtype=float32)"
      ]
     },
     "metadata": {},
     "execution_count": 22
    }
   ]
  },
  {
   "cell_type": "code",
   "source": [
    "y_pred_aux"
   ],
   "metadata": {
    "colab": {
     "base_uri": "https://localhost:8080/"
    },
    "id": "CTYzKy_WE7pH",
    "outputId": "0bcdbf48-e68d-46fc-ef42-a2b071494d1e"
   },
   "execution_count": 23,
   "outputs": [
    {
     "output_type": "execute_result",
     "data": {
      "text/plain": [
       "array([[0.5900813],\n",
       "       [0.9094662],\n",
       "       [3.6510856]], dtype=float32)"
      ]
     },
     "metadata": {},
     "execution_count": 23
    }
   ]
  },
  {
   "cell_type": "code",
   "source": [
    "y_pred_tuple = model.predict((X_new_wide, X_new_deep))\n",
    "y_pred = dict(zip(model.output_names, y_pred_tuple))"
   ],
   "metadata": {
    "colab": {
     "base_uri": "https://localhost:8080/"
    },
    "id": "6m_2yAorFDLJ",
    "outputId": "6ef95d57-2d4f-44d1-a7e1-651a6d377784"
   },
   "execution_count": 24,
   "outputs": [
    {
     "output_type": "stream",
     "name": "stdout",
     "text": [
      "1/1 [==============================] - 0s 33ms/step\n"
     ]
    }
   ]
  },
  {
   "cell_type": "code",
   "source": [
    "y_pred"
   ],
   "metadata": {
    "colab": {
     "base_uri": "https://localhost:8080/"
    },
    "id": "PVW0BEUvIY6c",
    "outputId": "58811ba3-a578-4dc5-f39e-364c93627502"
   },
   "execution_count": 25,
   "outputs": [
    {
     "output_type": "execute_result",
     "data": {
      "text/plain": [
       "{'dense_8': array([[0.55358607],\n",
       "        [1.0681849 ],\n",
       "        [3.742366  ]], dtype=float32), 'dense_9': array([[0.5900813],\n",
       "        [0.9094662],\n",
       "        [3.6510856]], dtype=float32)}"
      ]
     },
     "metadata": {},
     "execution_count": 25
    }
   ]
  }
 ]
}
