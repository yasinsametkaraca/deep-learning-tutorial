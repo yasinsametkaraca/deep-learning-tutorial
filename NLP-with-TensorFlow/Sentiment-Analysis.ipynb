{
 "nbformat": 4,
 "nbformat_minor": 0,
 "metadata": {
  "colab": {
   "provenance": [],
   "gpuType": "T4",
   "authorship_tag": "ABX9TyMlD40xNW+y6F31iHqzHMXc",
   "include_colab_link": true
  },
  "kernelspec": {
   "name": "python3",
   "display_name": "Python 3 (ipykernel)",
   "language": "python"
  },
  "language_info": {
   "name": "python"
  },
  "accelerator": "GPU"
 },
 "cells": [
  {
   "cell_type": "markdown",
   "source": [
    "# Sentiment Analysis with TensorFlow"
   ],
   "metadata": {
    "id": "r1NGOcDYpDnq"
   }
  },
  {
   "cell_type": "code",
   "source": [
    "import tensorflow as tf\n",
    "import re\n",
    "import string"
   ],
   "metadata": {
    "id": "Z7a25KDAYJR_",
    "ExecuteTime": {
     "end_time": "2024-10-16T14:17:46.137867Z",
     "start_time": "2024-10-16T14:17:46.134262Z"
    }
   },
   "outputs": [],
   "execution_count": 10
  },
  {
   "cell_type": "markdown",
   "source": [
    "# Data Loading"
   ],
   "metadata": {
    "id": "eT-fVnRvpLe-"
   }
  },
  {
   "cell_type": "code",
   "source": [
    "url = \"https://ai.stanford.edu/~amaas/data/sentiment/aclImdb_v1.tar.gz\""
   ],
   "metadata": {
    "id": "c7SqerAhbuSH",
    "ExecuteTime": {
     "end_time": "2024-10-16T14:03:22.363687Z",
     "start_time": "2024-10-16T14:03:22.360653Z"
    }
   },
   "outputs": [],
   "execution_count": 2
  },
  {
   "cell_type": "code",
   "source": [
    "dataset = tf.keras.utils.get_file(\n",
    "    \"aclImdb_v1\",\n",
    "    url,\n",
    "    extract=True,\n",
    "    cache_dir=\".\"\n",
    ")"
   ],
   "metadata": {
    "colab": {
     "base_uri": "https://localhost:8080/"
    },
    "id": "is9s_bBub24a",
    "outputId": "e4a365a4-e54c-4752-9973-8d76d1b9028a",
    "ExecuteTime": {
     "end_time": "2024-10-16T14:07:03.058432Z",
     "start_time": "2024-10-16T14:03:23.371642Z"
    }
   },
   "outputs": [
    {
     "name": "stdout",
     "output_type": "stream",
     "text": [
      "Downloading data from https://ai.stanford.edu/~amaas/data/sentiment/aclImdb_v1.tar.gz\n",
      "\u001B[1m84125825/84125825\u001B[0m \u001B[32m━━━━━━━━━━━━━━━━━━━━\u001B[0m\u001B[37m\u001B[0m \u001B[1m120s\u001B[0m 1us/step\n"
     ]
    }
   ],
   "execution_count": 3
  },
  {
   "cell_type": "markdown",
   "source": [
    "# Understanding the Dataset"
   ],
   "metadata": {
    "id": "3plp5vVGpQbu"
   }
  },
  {
   "cell_type": "code",
   "source": [
    "import os\n",
    "dataset_dir = os.path.join(os.path.dirname(dataset), \"aclImdb\")\n",
    "os.listdir(dataset_dir)"
   ],
   "metadata": {
    "id": "088s5tVAcUKP",
    "colab": {
     "base_uri": "https://localhost:8080/"
    },
    "outputId": "54a11f85-e60c-4678-80a2-5d195166af31",
    "ExecuteTime": {
     "end_time": "2024-10-16T14:10:25.288746Z",
     "start_time": "2024-10-16T14:10:25.282850Z"
    }
   },
   "outputs": [
    {
     "data": {
      "text/plain": [
       "['imdb.vocab', 'imdbEr.txt', 'README', 'test', 'train']"
      ]
     },
     "execution_count": 4,
     "metadata": {},
     "output_type": "execute_result"
    }
   ],
   "execution_count": 4
  },
  {
   "cell_type": "code",
   "source": [
    "train_dir = os.path.join(dataset_dir, \"train\")\n",
    "os.listdir(train_dir)"
   ],
   "metadata": {
    "colab": {
     "base_uri": "https://localhost:8080/"
    },
    "id": "mxVWCGq2dINA",
    "outputId": "48afc828-b7e6-477b-8b80-2970a0bee3f8",
    "ExecuteTime": {
     "end_time": "2024-10-16T14:10:26.793522Z",
     "start_time": "2024-10-16T14:10:26.788276Z"
    }
   },
   "outputs": [
    {
     "data": {
      "text/plain": [
       "['labeledBow.feat',\n",
       " 'neg',\n",
       " 'pos',\n",
       " 'unsup',\n",
       " 'unsupBow.feat',\n",
       " 'urls_neg.txt',\n",
       " 'urls_pos.txt',\n",
       " 'urls_unsup.txt']"
      ]
     },
     "execution_count": 5,
     "metadata": {},
     "output_type": "execute_result"
    }
   ],
   "execution_count": 5
  },
  {
   "cell_type": "code",
   "source": [
    "sample_file = os.path.join(train_dir, \"pos/0_9.txt\") # Positive review sample. \n",
    "with open(sample_file) as f:\n",
    "  print(f.read())"
   ],
   "metadata": {
    "colab": {
     "base_uri": "https://localhost:8080/"
    },
    "id": "cg5bH_pSdfIh",
    "outputId": "aad57fc4-367f-49cf-f3a6-3e16440561a8",
    "ExecuteTime": {
     "end_time": "2024-10-16T14:10:28.379816Z",
     "start_time": "2024-10-16T14:10:28.376505Z"
    }
   },
   "outputs": [
    {
     "name": "stdout",
     "output_type": "stream",
     "text": [
      "Bromwell High is a cartoon comedy. It ran at the same time as some other programs about school life, such as \"Teachers\". My 35 years in the teaching profession lead me to believe that Bromwell High's satire is much closer to reality than is \"Teachers\". The scramble to survive financially, the insightful students who can see right through their pathetic teachers' pomp, the pettiness of the whole situation, all remind me of the schools I knew and their students. When I saw the episode in which a student repeatedly tried to burn down the school, I immediately recalled ......... at .......... High. A classic line: INSPECTOR: I'm here to sack one of your teachers. STUDENT: Welcome to Bromwell High. I expect that many adults of my age think that Bromwell High is far fetched. What a pity that it isn't!\n"
     ]
    }
   ],
   "execution_count": 6
  },
  {
   "cell_type": "markdown",
   "source": [
    "# Data Preprocessing"
   ],
   "metadata": {
    "id": "hyGwhez9pWvz"
   }
  },
  {
   "cell_type": "code",
   "source": [
    "import shutil # For removing the unsupervised data. Shutil is a utility module in Python that comes with many operations on files and collections of files.\n",
    "remove_dir = os.path.join(train_dir, \"unsup\")\n",
    "shutil.rmtree(remove_dir)"
   ],
   "metadata": {
    "id": "yPMnJnDDd7uA",
    "ExecuteTime": {
     "end_time": "2024-10-16T14:10:33.863522Z",
     "start_time": "2024-10-16T14:10:30.426327Z"
    }
   },
   "outputs": [],
   "execution_count": 7
  },
  {
   "cell_type": "code",
   "source": [
    "raw_train_ds = tf.keras.utils.text_dataset_from_directory( # This function creates a tf.data.Dataset from text files in a directory. Folders must be named as classes to be able to use this function. For example, if we have a folder named \"pos\" and another folder named \"neg\", we can use this function to create a dataset from these folders.\n",
    "    \"datasets/aclImdb/train\",\n",
    "    batch_size=32,\n",
    "    validation_split=0.2,\n",
    "    subset=\"training\",\n",
    "    seed=42,\n",
    ")"
   ],
   "metadata": {
    "colab": {
     "base_uri": "https://localhost:8080/"
    },
    "id": "ua-1z1gWeuHQ",
    "outputId": "5d44f753-e8a4-467b-ca7d-6e984e7887b9",
    "ExecuteTime": {
     "end_time": "2024-10-16T14:10:36.198295Z",
     "start_time": "2024-10-16T14:10:35.044975Z"
    }
   },
   "outputs": [
    {
     "name": "stdout",
     "output_type": "stream",
     "text": [
      "Found 25000 files belonging to 2 classes.\n",
      "Using 20000 files for training.\n"
     ]
    }
   ],
   "execution_count": 8
  },
  {
   "cell_type": "code",
   "source": [
    "for text_batch, label_batch in raw_train_ds.take(1): # The take method takes the first 1 group from the dataset. The group size is 32 because we defined the batch size as 32.\n",
    "  for i in range(3):\n",
    "    print(\"Review:\", text_batch.numpy()[i])\n",
    "    print(\"Label:\", label_batch.numpy()[i])"
   ],
   "metadata": {
    "colab": {
     "base_uri": "https://localhost:8080/"
    },
    "id": "Ce9cFQe7fUbX",
    "outputId": "07a3abe1-3c5f-4a0c-b5d0-e57d3de86436",
    "ExecuteTime": {
     "end_time": "2024-10-16T14:10:41.665264Z",
     "start_time": "2024-10-16T14:10:41.558854Z"
    }
   },
   "outputs": [
    {
     "name": "stdout",
     "output_type": "stream",
     "text": [
      "Text: b'\"Pandemonium\" is a horror movie spoof that comes off more stupid than funny. Believe me when I tell you, I love comedies. Especially comedy spoofs. \"Airplane\", \"The Naked Gun\" trilogy, \"Blazing Saddles\", \"High Anxiety\", and \"Spaceballs\" are some of my favorite comedies that spoof a particular genre. \"Pandemonium\" is not up there with those films. Most of the scenes in this movie had me sitting there in stunned silence because the movie wasn\\'t all that funny. There are a few laughs in the film, but when you watch a comedy, you expect to laugh a lot more than a few times and that\\'s all this film has going for it. Geez, \"Scream\" had more laughs than this film and that was more of a horror film. How bizarre is that?<br /><br />*1/2 (out of four)'\n",
      "Label: 0\n",
      "Text: b\"David Mamet is a very interesting and a very un-equal director. His first movie 'House of Games' was the one I liked best, and it set a series of films with characters whose perspective of life changes as they get into complicated situations, and so does the perspective of the viewer.<br /><br />So is 'Homicide' which from the title tries to set the mind of the viewer to the usual crime drama. The principal characters are two cops, one Jewish and one Irish who deal with a racially charged area. The murder of an old Jewish shop owner who proves to be an ancient veteran of the Israeli Independence war triggers the Jewish identity in the mind and heart of the Jewish detective.<br /><br />This is were the flaws of the film are the more obvious. The process of awakening is theatrical and hard to believe, the group of Jewish militants is operatic, and the way the detective eventually walks to the final violent confrontation is pathetic. The end of the film itself is Mamet-like smart, but disappoints from a human emotional perspective.<br /><br />Joe Mantegna and William Macy give strong performances, but the flaws of the story are too evident to be easily compensated.\"\n",
      "Label: 0\n",
      "Text: b'Great documentary about the lives of NY firefighters during the worst terrorist attack of all time.. That reason alone is why this should be a must see collectors item.. What shocked me was not only the attacks, but the\"High Fat Diet\" and physical appearance of some of these firefighters. I think a lot of Doctors would agree with me that,in the physical shape they were in, some of these firefighters would NOT of made it to the 79th floor carrying over 60 lbs of gear. Having said that i now have a greater respect for firefighters and i realize becoming a firefighter is a life altering job. The French have a history of making great documentary\\'s and that is what this is, a Great Documentary.....'\n",
      "Label: 1\n"
     ]
    }
   ],
   "execution_count": 9
  },
  {
   "cell_type": "code",
   "source": [
    "raw_val_ds = tf.keras.utils.text_dataset_from_directory( # We created validation dataset\n",
    "    \"datasets/aclImdb/train\",\n",
    "    batch_size=32,\n",
    "    validation_split=0.2,\n",
    "    subset=\"validation\", # The subset parameter is used to specify whether the dataset is for training or validation.\n",
    "    seed=42, \n",
    ")"
   ],
   "metadata": {
    "colab": {
     "base_uri": "https://localhost:8080/"
    },
    "id": "BstE3lD_gBl_",
    "outputId": "63fda4a2-0943-4df3-bf05-a7cd0afdb8da"
   },
   "execution_count": 10,
   "outputs": [
    {
     "output_type": "stream",
     "name": "stdout",
     "text": [
      "Found 25000 files belonging to 2 classes.\n",
      "Using 5000 files for validation.\n"
     ]
    }
   ]
  },
  {
   "cell_type": "code",
   "source": [
    "raw_test_ds = tf.keras.utils.text_dataset_from_directory( # Test dataset\n",
    "    \"datasets/aclImdb/test\",\n",
    "    batch_size=32,\n",
    ")"
   ],
   "metadata": {
    "colab": {
     "base_uri": "https://localhost:8080/"
    },
    "id": "4YKDb7l_g0jg",
    "outputId": "3fe7aee3-d3f2-44a3-f2e5-cd82225bac54"
   },
   "execution_count": 11,
   "outputs": [
    {
     "output_type": "stream",
     "name": "stdout",
     "text": [
      "Found 25000 files belonging to 2 classes.\n"
     ]
    }
   ]
  },
  {
   "cell_type": "code",
   "source": [
    "def custom_standardization(input_data):\n",
    "  lowercase = tf.strings.lower(input_data)\n",
    "  stripped_html = tf.strings.regex_replace(lowercase, \"<br />\", \"\") # We removed the \"<br />\" tags from the text.\n",
    "  return tf.strings.regex_replace(\n",
    "      stripped_html, f\"[{re.escape(string.punctuation)}]\", \"\") # We removed the punctuations from the text."
   ],
   "metadata": {
    "id": "WUDuWboEhwFe"
   },
   "execution_count": 12,
   "outputs": []
  },
  {
   "cell_type": "code",
   "source": [
    "vectorize_layer = tf.keras.layers.TextVectorization( # We created a TextVectorization layer. This layer will be used to vectorize the text data. The vectorize_layer will convert the text data to numerical data.\n",
    "    standardize=custom_standardization,\n",
    "    max_tokens=10000, # We defined the maximum number of tokens as 10000. Why? Because we want to use the 10000 most frequent words in the dataset.\n",
    "    output_sequence_length=250 # We defined the output sequence length as 250. Sentence length is important in NLP tasks. We need to define a fixed length for the sentences. We can use padding for the sentences that are shorter than the defined length.\n",
    ")"
   ],
   "metadata": {
    "id": "GmJc_Nw2jWi6"
   },
   "execution_count": 13,
   "outputs": []
  },
  {
   "cell_type": "code",
   "source": "train_text = raw_train_ds.map(lambda x, y: x) # We created a dataset that contains only the text data. Because label data is also integer. (0: negative, 1: positive)",
   "metadata": {
    "id": "1hPjhrb-j95y"
   },
   "execution_count": 14,
   "outputs": []
  },
  {
   "cell_type": "code",
   "source": "vectorize_layer.adapt(train_text) # We adapted the vectorize_layer to the text data.",
   "metadata": {
    "id": "AMz-s-7DkQUK"
   },
   "execution_count": 15,
   "outputs": []
  },
  {
   "cell_type": "code",
   "source": [
    "def vectorize_text(text, label): # We defined a function to vectorize the text data.\n",
    "  text = tf.expand_dims(text, -1) # We expanded the dimensions of the text data. Why? Because the vectorize_layer expects a 2D input. We added a new dimension to the text data.\n",
    "  return vectorize_layer(text), label"
   ],
   "metadata": {
    "id": "_oY5m7siksbS"
   },
   "execution_count": 16,
   "outputs": []
  },
  {
   "cell_type": "code",
   "source": [
    "text_batch, label_batch = next(iter(raw_train_ds)) # We took the first group from the raw_train_ds dataset.\n",
    "first_review, first_label = text_batch[0], label_batch[0] # We took the first data and its label.\n",
    "print(\"Review: \", first_review)\n",
    "print(\"Label: \", raw_train_ds.class_names[first_label])\n",
    "print(\"Processed data: \", vectorize_text(first_review, first_label)) # We vectorized the first data."
   ],
   "metadata": {
    "colab": {
     "base_uri": "https://localhost:8080/"
    },
    "id": "AeUpQsXZl9hi",
    "outputId": "30a4c74e-aca0-4a58-facb-192afabd435f"
   },
   "execution_count": 17,
   "outputs": [
    {
     "output_type": "stream",
     "name": "stdout",
     "text": [
      "Review:  tf.Tensor(b'Great movie - especially the music - Etta James - \"At Last\". This speaks volumes when you have finally found that special someone.', shape=(), dtype=string)\n",
      "Label:  neg\n",
      "Processed data:  (<tf.Tensor: shape=(1, 250), dtype=int64, numpy=\n",
      "array([[  85,   17,  257,    2,  222,    1,  574,   30,  227,   10, 2401,\n",
      "           1,   52,   23,   25,  426,  248,   12,  306,  279,    0,    0,\n",
      "           0,    0,    0,    0,    0,    0,    0,    0,    0,    0,    0,\n",
      "           0,    0,    0,    0,    0,    0,    0,    0,    0,    0,    0,\n",
      "           0,    0,    0,    0,    0,    0,    0,    0,    0,    0,    0,\n",
      "           0,    0,    0,    0,    0,    0,    0,    0,    0,    0,    0,\n",
      "           0,    0,    0,    0,    0,    0,    0,    0,    0,    0,    0,\n",
      "           0,    0,    0,    0,    0,    0,    0,    0,    0,    0,    0,\n",
      "           0,    0,    0,    0,    0,    0,    0,    0,    0,    0,    0,\n",
      "           0,    0,    0,    0,    0,    0,    0,    0,    0,    0,    0,\n",
      "           0,    0,    0,    0,    0,    0,    0,    0,    0,    0,    0,\n",
      "           0,    0,    0,    0,    0,    0,    0,    0,    0,    0,    0,\n",
      "           0,    0,    0,    0,    0,    0,    0,    0,    0,    0,    0,\n",
      "           0,    0,    0,    0,    0,    0,    0,    0,    0,    0,    0,\n",
      "           0,    0,    0,    0,    0,    0,    0,    0,    0,    0,    0,\n",
      "           0,    0,    0,    0,    0,    0,    0,    0,    0,    0,    0,\n",
      "           0,    0,    0,    0,    0,    0,    0,    0,    0,    0,    0,\n",
      "           0,    0,    0,    0,    0,    0,    0,    0,    0,    0,    0,\n",
      "           0,    0,    0,    0,    0,    0,    0,    0,    0,    0,    0,\n",
      "           0,    0,    0,    0,    0,    0,    0,    0,    0,    0,    0,\n",
      "           0,    0,    0,    0,    0,    0,    0,    0,    0,    0,    0,\n",
      "           0,    0,    0,    0,    0,    0,    0,    0,    0,    0,    0,\n",
      "           0,    0,    0,    0,    0,    0,    0,    0]])>, <tf.Tensor: shape=(), dtype=int32, numpy=0>)\n"
     ]
    }
   ]
  },
  {
   "cell_type": "code",
   "source": [
    "print(\"345 --->\", vectorize_layer.get_vocabulary()[345]) # We printed the word corresponding to the index 345.\n",
    "print(\"999 --->\", vectorize_layer.get_vocabulary()[999])"
   ],
   "metadata": {
    "colab": {
     "base_uri": "https://localhost:8080/"
    },
    "id": "LE5msOBDmzcB",
    "outputId": "f853d6af-d2d5-4d9d-a36f-9346f37e8c4f"
   },
   "execution_count": 18,
   "outputs": [
    {
     "output_type": "stream",
     "name": "stdout",
     "text": [
      "345 ---> wrong\n",
      "999 ---> pay\n"
     ]
    }
   ]
  },
  {
   "cell_type": "code",
   "source": [
    "train_ds = raw_train_ds.map(vectorize_text) # We vectorized the raw_train_ds dataset. So, we converted the text data to numerical data.\n",
    "val_ds = raw_val_ds.map(vectorize_text) # We vectorized the raw_val_ds dataset. \n",
    "test_ds = raw_test_ds.map(vectorize_text)"
   ],
   "metadata": {
    "id": "LIWfP0YlncMR"
   },
   "execution_count": 19,
   "outputs": []
  },
  {
   "cell_type": "markdown",
   "source": [
    "# Configuring the dataset for performance\n",
    "\n",
    "For the best performance, we need to configure the dataset. We can use the cache and prefetch methods to improve the performance of the dataset.\n",
    "\n",
    "- cache: This method caches the data in memory. So, the data will be loaded from the memory instead of the disk. This will improve the performance of the dataset.\n",
    "- prefetch: This method overlaps the preprocessing and model execution of the data. So, while the model is executing training step s, the input pipeline is reading the data for the step s+1. This will improve the performance of the dataset."
   ],
   "metadata": {
    "id": "iyS5WPikp5Un"
   }
  },
  {
   "cell_type": "code",
   "source": [
    "train_ds = train_ds.cache().prefetch(buffer_size=tf.data.AUTOTUNE) # We cached and prefetched the train_ds dataset. AUTOTUNE is a special value that will delegate the decision about what level of parallelism to use to the tf.data runtime.\n",
    "val_ds = val_ds.cache().prefetch(buffer_size=tf.data.AUTOTUNE)\n",
    "test_ds = test_ds.cache().prefetch(buffer_size=tf.data.AUTOTUNE)"
   ],
   "metadata": {
    "id": "1vsFKgjQzAlA"
   },
   "execution_count": 20,
   "outputs": []
  },
  {
   "cell_type": "markdown",
   "source": [
    "# Building the Model"
   ],
   "metadata": {
    "id": "vKGqE8uFp_HA"
   }
  },
  {
   "metadata": {},
   "cell_type": "markdown",
   "source": [
    "## Embedding is a way to change words or sequences into numbers. It helps to understand the meaning of words better.\n",
    "\n",
    "### 1. Comparison with One-Hot Encoding:\n",
    "Let’s say we have these three words:\n",
    "- \"cat\"\n",
    "- \"dog\"\n",
    "- \"bird\"\n",
    "\n",
    "With one-hot encoding, the words look like this:\n",
    "- \"cat\" = `[1, 0, 0]`\n",
    "- \"dog\" = `[0, 1, 0]`\n",
    "- \"bird\" = `[0, 0, 1]`\n",
    "\n",
    "Each word is only 1 in one place, and 0 in the others. But this does not show any connection between the words. For example, \"cat\" and \"dog\" are similar, but their vectors are very different.\n",
    "\n",
    "### 2. Embedding Representation:\n",
    "Using the **Embedding Layer**, the words can be represented by vectors like these (in 2 dimensions):\n",
    "- \"cat\" = `[0.25, 0.80]`\n",
    "- \"dog\" = `[0.20, 0.85]`\n",
    "- \"bird\" = `[0.90, 0.10]`\n",
    "\n",
    "Here, \"cat\" and \"dog\" have similar vectors because they are similar words. \"bird\" is further away because it is not as similar.\n",
    "\n",
    "### 3. Semantic Similarity:\n",
    "Embedding helps to show the relationship between words. For example, if we have more words:\n",
    "- \"cat\" = `[0.25, 0.80, 0.50]`\n",
    "- \"dog\" = `[0.24, 0.78, 0.48]`\n",
    "- \"bird\" = `[0.80, 0.10, 0.20]`\n",
    "- \"car\" = `[0.10, 0.05, 0.95]`\n",
    "\n",
    "Now, \"cat\" and \"dog\" are close to each other because they are similar. \"bird\" is a bit further, but \"car\" is much further because it’s very different.\n",
    "\n",
    "### 4. Example with a Model:\n",
    "Here is an example in TensorFlow to show how embedding works:\n",
    "\n",
    "```python\n",
    "import tensorflow as tf\n",
    "\n",
    "# Number of unique words (for example, 10,000 words)\n",
    "vocab_size = 10000  \n",
    "# Size of the embedding vectors\n",
    "embedding_dim = 16  \n",
    "\n",
    "# Define the model\n",
    "model = tf.keras.Sequential([\n",
    "    tf.keras.layers.Embedding(input_dim=vocab_size+1, output_dim=embedding_dim),\n",
    "    tf.keras.layers.GlobalAveragePooling1D(),\n",
    "    tf.keras.layers.Dense(1)\n",
    "])\n",
    "\n",
    "# Model summary\n",
    "model.summary()\n",
    "```\n",
    "\n",
    "In this model:\n",
    "\n",
    "input_dim=vocab_size+1: This shows the number of unique words (for example, 10,000 words).\n",
    "output_dim=16: This means each word will have a vector with 16 numbers.\n",
    "\n",
    "### 5. Real-World Example:\n",
    "If we train a model with a lot of texts, it will learn that \"cat\" and \"dog\" are similar and place them close in the embedding space. For example:\n",
    "\n",
    "-\"cat\": [0.5, 0.1]\n",
    "-\"dog\": [0.49, 0.12]\n",
    "But if the word \"plane\" is not often used with \"cat\" and \"dog\", it will be further away:\n",
    "\n",
    "-\"plane\": [0.8, 0.9]\n",
    "These representations help the model to understand the relationship between words.\n",
    "\n",
    "Summary:\n",
    "The Embedding layer is used to represent words or sequences in a meaningful way with numbers. This helps the model understand relationships between words and perform better in tasks like text analysis or classification.\n"
   ]
  },
  {
   "cell_type": "code",
   "source": [
    "max_features=10000 # We defined the maximum number of features as 10000. We will use the 10000 most frequent words in the dataset.\n",
    "model = tf.keras.Sequential([\n",
    "    tf.keras.layers.Embedding(max_features+1, 16), # We created an Embedding layer. The input dimension is max_features+1 and the output dimension is 16.\n",
    "    tf.keras.layers.Dropout(0.2), # We added a Dropout layer. Dropout is a regularization technique that helps to prevent overfitting.\n",
    "    tf.keras.layers.GlobalAveragePooling1D(), # We added a GlobalAveragePooling1D layer. This layer will average the embeddings of all words in the sentence.\n",
    "    tf.keras.layers.Dropout(0.2),\n",
    "    tf.keras.layers.Dense(1), # We added a Dense layer. The output of this layer will be the prediction. Binary classification is a type of classification where the target variable has two possible values.\n",
    "])\n",
    "model.summary()"
   ],
   "metadata": {
    "id": "sdsDlcgOzqvK",
    "colab": {
     "base_uri": "https://localhost:8080/"
    },
    "outputId": "6a8050f7-0dbf-4997-9bd6-30face98615e"
   },
   "execution_count": 21,
   "outputs": [
    {
     "output_type": "stream",
     "name": "stdout",
     "text": [
      "Model: \"sequential\"\n",
      "_________________________________________________________________\n",
      " Layer (type)                Output Shape              Param #   \n",
      "=================================================================\n",
      " embedding (Embedding)       (None, None, 16)          160016    \n",
      "                                                                 \n",
      " dropout (Dropout)           (None, None, 16)          0         \n",
      "                                                                 \n",
      " global_average_pooling1d (G  (None, 16)               0         \n",
      " lobalAveragePooling1D)                                          \n",
      "                                                                 \n",
      " dropout_1 (Dropout)         (None, 16)                0         \n",
      "                                                                 \n",
      " dense (Dense)               (None, 1)                 17        \n",
      "                                                                 \n",
      "=================================================================\n",
      "Total params: 160,033\n",
      "Trainable params: 160,033\n",
      "Non-trainable params: 0\n",
      "_________________________________________________________________\n"
     ]
    }
   ]
  },
  {
   "cell_type": "code",
   "source": [
    "model.compile(\n",
    "    loss = tf.keras.losses.BinaryCrossentropy(from_logits=True), # We defined the loss function as BinaryCrossentropy. This loss function is used for binary classification tasks.\n",
    "    optimizer = \"adam\",\n",
    "    metrics = tf.metrics.BinaryAccuracy(threshold=0.0) # We defined the metric as BinaryAccuracy.\n",
    ")"
   ],
   "metadata": {
    "id": "FOCTHTe52xPc"
   },
   "execution_count": 22,
   "outputs": []
  },
  {
   "cell_type": "markdown",
   "source": [
    "# Model Training"
   ],
   "metadata": {
    "id": "NirTFFPGqFao"
   }
  },
  {
   "cell_type": "code",
   "source": [
    "history = model.fit(\n",
    "    train_ds,\n",
    "    validation_data=val_ds,\n",
    "    epochs=10\n",
    ")"
   ],
   "metadata": {
    "colab": {
     "base_uri": "https://localhost:8080/"
    },
    "id": "cI_MCmwZ3dW7",
    "outputId": "19cdc664-1d76-4eae-d9fd-338729ddc02a"
   },
   "execution_count": 23,
   "outputs": [
    {
     "output_type": "stream",
     "name": "stdout",
     "text": [
      "Epoch 1/10\n",
      "625/625 [==============================] - 72s 107ms/step - loss: 0.6656 - binary_accuracy: 0.6865 - val_loss: 0.6171 - val_binary_accuracy: 0.7720\n",
      "Epoch 2/10\n",
      "625/625 [==============================] - 3s 4ms/step - loss: 0.5512 - binary_accuracy: 0.7988 - val_loss: 0.5015 - val_binary_accuracy: 0.8220\n",
      "Epoch 3/10\n",
      "625/625 [==============================] - 4s 6ms/step - loss: 0.4487 - binary_accuracy: 0.8427 - val_loss: 0.4244 - val_binary_accuracy: 0.8478\n",
      "Epoch 4/10\n",
      "625/625 [==============================] - 3s 5ms/step - loss: 0.3829 - binary_accuracy: 0.8631 - val_loss: 0.3782 - val_binary_accuracy: 0.8596\n",
      "Epoch 5/10\n",
      "625/625 [==============================] - 3s 4ms/step - loss: 0.3408 - binary_accuracy: 0.8768 - val_loss: 0.3497 - val_binary_accuracy: 0.8676\n",
      "Epoch 6/10\n",
      "625/625 [==============================] - 3s 4ms/step - loss: 0.3098 - binary_accuracy: 0.8879 - val_loss: 0.3305 - val_binary_accuracy: 0.8714\n",
      "Epoch 7/10\n",
      "625/625 [==============================] - 4s 6ms/step - loss: 0.2867 - binary_accuracy: 0.8957 - val_loss: 0.3172 - val_binary_accuracy: 0.8714\n",
      "Epoch 8/10\n",
      "625/625 [==============================] - 3s 5ms/step - loss: 0.2667 - binary_accuracy: 0.9022 - val_loss: 0.3075 - val_binary_accuracy: 0.8750\n",
      "Epoch 9/10\n",
      "625/625 [==============================] - 3s 5ms/step - loss: 0.2513 - binary_accuracy: 0.9068 - val_loss: 0.3009 - val_binary_accuracy: 0.8784\n",
      "Epoch 10/10\n",
      "625/625 [==============================] - 3s 4ms/step - loss: 0.2360 - binary_accuracy: 0.9139 - val_loss: 0.2962 - val_binary_accuracy: 0.8798\n"
     ]
    }
   ]
  },
  {
   "cell_type": "markdown",
   "source": [
    "# Model Testing"
   ],
   "metadata": {
    "id": "6RixsHVQqJTW"
   }
  },
  {
   "cell_type": "code",
   "source": [
    "loss, accuracy = model.evaluate(test_ds)\n",
    "print(\"Loss: \", loss)\n",
    "print(\"Accuracy: \", accuracy)"
   ],
   "metadata": {
    "colab": {
     "base_uri": "https://localhost:8080/"
    },
    "id": "7_hGn9HW4zGJ",
    "outputId": "0c487b0d-26ce-4fd8-92db-29d761cae7ed"
   },
   "execution_count": 24,
   "outputs": [
    {
     "output_type": "stream",
     "name": "stdout",
     "text": [
      "782/782 [==============================] - 5s 6ms/step - loss: 0.3154 - binary_accuracy: 0.8701\n",
      "Loss:  0.3153642416000366\n",
      "Accuracy:  0.8701199889183044\n"
     ]
    }
   ]
  },
  {
   "cell_type": "code",
   "source": [
    "history_dict = history.history\n",
    "history_dict.keys()"
   ],
   "metadata": {
    "colab": {
     "base_uri": "https://localhost:8080/"
    },
    "id": "IORbHgWS5cmF",
    "outputId": "38b8ee18-2d6d-47e4-be92-bd329c84438b"
   },
   "execution_count": 25,
   "outputs": [
    {
     "output_type": "execute_result",
     "data": {
      "text/plain": [
       "dict_keys(['loss', 'binary_accuracy', 'val_loss', 'val_binary_accuracy'])"
      ]
     },
     "metadata": {},
     "execution_count": 25
    }
   ]
  },
  {
   "cell_type": "markdown",
   "source": [
    "# Data Visualization"
   ],
   "metadata": {
    "id": "bMfrsJnpqNz8"
   }
  },
  {
   "cell_type": "code",
   "source": [
    "acc = history_dict[\"binary_accuracy\"]\n",
    "val_acc = history_dict[\"val_binary_accuracy\"]\n",
    "loss = history_dict[\"loss\"]\n",
    "val_loss = history_dict[\"val_loss\"]"
   ],
   "metadata": {
    "id": "Zm1BISOq5nhl"
   },
   "execution_count": 26,
   "outputs": []
  },
  {
   "cell_type": "code",
   "source": [
    "import matplotlib.pyplot as plt\n",
    "epochs = range(1, len(acc)+1)\n",
    "plt.plot(epochs, loss, \"bo\", label=\"Training loss\")\n",
    "plt.plot(epochs, val_loss, \"b\", label=\"Validation loss\")\n",
    "plt.title(\"Training and validation loss\")\n",
    "plt.xlabel(\"Epochs\")\n",
    "plt.ylabel(\"Loss\")\n",
    "plt.legend()\n",
    "plt.show()"
   ],
   "metadata": {
    "colab": {
     "base_uri": "https://localhost:8080/",
     "height": 472
    },
    "id": "z9Kocvdb6Hr6",
    "outputId": "180863ee-9ba0-4563-81c9-c6f3fe54bdee"
   },
   "execution_count": 27,
   "outputs": [
    {
     "output_type": "display_data",
     "data": {
      "text/plain": [
       "<Figure size 640x480 with 1 Axes>"
      ],
      "image/png": "[encoded data removed]"
     },
     "metadata": {}
    }
   ]
  },
  {
   "metadata": {},
   "cell_type": "markdown",
   "source": "Above graph shows the training and validation loss. The training loss decreases as the number of epochs increases. However, the validation loss starts to increase after a certain number of epochs. This is a sign of overfitting. "
  },
  {
   "cell_type": "code",
   "source": [
    "plt.plot(epochs, acc, \"bo\", label=\"Training acc\")\n",
    "plt.plot(epochs, val_acc, \"b\", label=\"Validation acc\")\n",
    "plt.title(\"Training and validation accuracy\")\n",
    "plt.xlabel(\"Epochs\")\n",
    "plt.ylabel(\"Accuracy\")\n",
    "plt.legend()\n",
    "plt.show()"
   ],
   "metadata": {
    "colab": {
     "base_uri": "https://localhost:8080/",
     "height": 472
    },
    "id": "868B2mDD6y6a",
    "outputId": "7391d9e7-42ff-4ac2-a149-779bcbc8a983"
   },
   "execution_count": 28,
   "outputs": [
    {
     "output_type": "display_data",
     "data": {
      "text/plain": [
       "<Figure size 640x480 with 1 Axes>"
      ],
      "image/png": "[encoded data removed]"
     },
     "metadata": {}
    }
   ]
  },
  {
   "cell_type": "markdown",
   "source": [
    "# Model Export"
   ],
   "metadata": {
    "id": "ZtQChjpuqRIr"
   }
  },
  {
   "cell_type": "code",
   "source": [
    "export_model = tf.keras.Sequential([ # We created a new model for exporting. This model will be used for inferencing.\n",
    "    vectorize_layer,\n",
    "    model,\n",
    "    tf.keras.layers.Activation(\"sigmoid\")\n",
    "])"
   ],
   "metadata": {
    "id": "orYNXNfZ7ZHT"
   },
   "execution_count": 29,
   "outputs": []
  },
  {
   "cell_type": "code",
   "source": [
    "export_model.compile(\n",
    "    loss = tf.keras.losses.BinaryCrossentropy(from_logits = True),\n",
    "    optimizer=\"adam\",\n",
    "    metrics = [\"accuracy\"]\n",
    ")"
   ],
   "metadata": {
    "id": "FrU8H9_u7rPJ"
   },
   "execution_count": 30,
   "outputs": []
  },
  {
   "cell_type": "code",
   "source": [
    "loss, accuracy = export_model.evaluate(raw_test_ds)\n",
    "print(accuracy)"
   ],
   "metadata": {
    "colab": {
     "base_uri": "https://localhost:8080/"
    },
    "id": "X8V193ma78nW",
    "outputId": "ae6c7334-c313-4114-ec2c-133196a78d05"
   },
   "execution_count": 31,
   "outputs": [
    {
     "output_type": "stream",
     "name": "stderr",
     "text": [
      "/usr/local/lib/python3.10/dist-packages/keras/backend.py:5703: UserWarning: \"`binary_crossentropy` received `from_logits=True`, but the `output` argument was produced by a Sigmoid activation and thus does not represent logits. Was this intended?\n",
      "  output, from_logits = _get_logits(\n"
     ]
    },
    {
     "output_type": "stream",
     "name": "stdout",
     "text": [
      "782/782 [==============================] - 5s 6ms/step - loss: 0.3154 - accuracy: 0.8701\n",
      "0.8701199889183044\n"
     ]
    }
   ]
  },
  {
   "cell_type": "markdown",
   "source": [
    "# Inferencing on new data"
   ],
   "metadata": {
    "id": "Lgu4ojQoqXV_"
   }
  },
  {
   "cell_type": "code",
   "source": [
    "examples = [\n",
    "  \"The movie was awesome!\",\n",
    "  \"The movie was nice.\",\n",
    "  \"The movie was awful...\"\n",
    "]"
   ],
   "metadata": {
    "id": "ZnxWSCff8LGH"
   },
   "execution_count": 32,
   "outputs": []
  },
  {
   "cell_type": "code",
   "source": [
    "export_model.predict(examples)"
   ],
   "metadata": {
    "colab": {
     "base_uri": "https://localhost:8080/"
    },
    "id": "Sd72trFH8njB",
    "outputId": "222c08b9-af06-40e8-f5a0-c951b2534987"
   },
   "execution_count": 33,
   "outputs": [
    {
     "output_type": "stream",
     "name": "stdout",
     "text": [
      "1/1 [==============================] - 0s 141ms/step\n"
     ]
    },
    {
     "output_type": "execute_result",
     "data": {
      "text/plain": [
       "array([[0.5716059 ],\n",
       "       [0.53324556],\n",
       "       [0.3169158 ]], dtype=float32)"
      ]
     },
     "metadata": {},
     "execution_count": 33
    }
   ]
  },
  {
   "metadata": {},
   "cell_type": "markdown",
   "source": [
    "# Conclusion \n",
    "if the model is not good enough, we can try different hyperparameters, different architectures, or different preprocessing techniques. We can also use more data to improve the model.\n",
    "array([[0.5716059 ],\n",
    "       [0.53324556],\n",
    "       [0.3169158 ]], dtype=float32) \n",
    "The model predicts the sentiment of the examples. The first example is positive, the second example is positive, and the third example is negative."
   ]
  }
 ]
}
