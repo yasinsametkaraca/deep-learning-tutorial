{
 "nbformat": 4,
 "nbformat_minor": 0,
 "metadata": {
  "colab": {
   "provenance": [],
   "authorship_tag": "ABX9TyOW/kuVQ/hc7aU3gm9u7Itm",
   "include_colab_link": true
  },
  "kernelspec": {
   "name": "python3",
   "display_name": "Python 3"
  },
  "language_info": {
   "name": "python"
  },
  "accelerator": "GPU",
  "gpuClass": "standard"
 },
 "cells": [
  {
   "cell_type": "code",
   "execution_count": 1,
   "metadata": {
    "id": "PbteCdAzM2bA"
   },
   "outputs": [],
   "source": [
    "import tensorflow as tf "
   ]
  },
  {
   "cell_type": "code",
   "source": [
    "fashion_mnist = tf.keras.datasets.fashion_mnist.load_data()"
   ],
   "metadata": {
    "colab": {
     "base_uri": "https://localhost:8080/"
    },
    "id": "KUzRtmTPN32l",
    "outputId": "2707b1c3-8c90-4797-f105-52afb4d390ee"
   },
   "execution_count": 2,
   "outputs": [
    {
     "output_type": "stream",
     "name": "stdout",
     "text": [
      "Downloading data from https://storage.googleapis.com/tensorflow/tf-keras-datasets/train-labels-idx1-ubyte.gz\n",
      "29515/29515 [==============================] - 0s 0us/step\n",
      "Downloading data from https://storage.googleapis.com/tensorflow/tf-keras-datasets/train-images-idx3-ubyte.gz\n",
      "26421880/26421880 [==============================] - 0s 0us/step\n",
      "Downloading data from https://storage.googleapis.com/tensorflow/tf-keras-datasets/t10k-labels-idx1-ubyte.gz\n",
      "5148/5148 [==============================] - 0s 0us/step\n",
      "Downloading data from https://storage.googleapis.com/tensorflow/tf-keras-datasets/t10k-images-idx3-ubyte.gz\n",
      "4422102/4422102 [==============================] - 0s 0us/step\n"
     ]
    }
   ]
  },
  {
   "cell_type": "code",
   "source": [
    "(X_train, y_train), (X_test, y_test) = fashion_mnist"
   ],
   "metadata": {
    "id": "pmLlWOgpODD2"
   },
   "execution_count": 3,
   "outputs": []
  },
  {
   "cell_type": "code",
   "source": [
    "X_train, X_test = X_train/255., X_test/255. "
   ],
   "metadata": {
    "id": "uPSSvS_sOPk3"
   },
   "execution_count": 4,
   "outputs": []
  },
  {
   "cell_type": "code",
   "source": [
    "class_names = [\"T-shirt/top\", \"Trouser\", \"Pullover\", \"Dress\", \n",
    "               \"Coat\", \"Sandal\", \"Shirt\", \"Sneaker\", \"Bag\", \"Ankle boot\"]"
   ],
   "metadata": {
    "id": "A57zrGFGOe0X"
   },
   "execution_count": 5,
   "outputs": []
  },
  {
   "cell_type": "code",
   "source": [
    "class_names[y_train[0]]"
   ],
   "metadata": {
    "colab": {
     "base_uri": "https://localhost:8080/",
     "height": 35
    },
    "id": "riVM1TzZOvPu",
    "outputId": "c14f13d1-bf6a-45b2-c9af-361c6f75443b"
   },
   "execution_count": 6,
   "outputs": [
    {
     "output_type": "execute_result",
     "data": {
      "text/plain": [
       "'Ankle boot'"
      ],
      "application/vnd.google.colaboratory.intrinsic+json": {
       "type": "string"
      }
     },
     "metadata": {},
     "execution_count": 6
    }
   ]
  },
  {
   "cell_type": "code",
   "source": [
    "tf.random.set_seed(42)"
   ],
   "metadata": {
    "id": "3eX3-yH0O5k1"
   },
   "execution_count": 7,
   "outputs": []
  },
  {
   "cell_type": "code",
   "source": [
    "model = tf.keras.Sequential([\n",
    "    tf.keras.layers.Flatten(input_shape=[28,28]),\n",
    "    tf.keras.layers.Dense(300, activation=\"relu\"),\n",
    "    tf.keras.layers.Dense(100, activation=\"relu\"),\n",
    "    tf.keras.layers.Dense(10, activation=\"softmax\")\n",
    "])"
   ],
   "metadata": {
    "id": "cgD-fBvFPHT2"
   },
   "execution_count": 8,
   "outputs": []
  },
  {
   "cell_type": "code",
   "source": [
    "model.summary()"
   ],
   "metadata": {
    "colab": {
     "base_uri": "https://localhost:8080/"
    },
    "id": "bFEXOEZOP7HA",
    "outputId": "9cb45e4a-9f70-4afa-c36e-a21b816e17ab"
   },
   "execution_count": 9,
   "outputs": [
    {
     "output_type": "stream",
     "name": "stdout",
     "text": [
      "Model: \"sequential\"\n",
      "_________________________________________________________________\n",
      " Layer (type)                Output Shape              Param #   \n",
      "=================================================================\n",
      " flatten (Flatten)           (None, 784)               0         \n",
      "                                                                 \n",
      " dense (Dense)               (None, 300)               235500    \n",
      "                                                                 \n",
      " dense_1 (Dense)             (None, 100)               30100     \n",
      "                                                                 \n",
      " dense_2 (Dense)             (None, 10)                1010      \n",
      "                                                                 \n",
      "=================================================================\n",
      "Total params: 266,610\n",
      "Trainable params: 266,610\n",
      "Non-trainable params: 0\n",
      "_________________________________________________________________\n"
     ]
    }
   ]
  },
  {
   "cell_type": "code",
   "source": [
    "model.compile(\n",
    "    loss = \"sparse_categorical_crossentropy\",\n",
    "    optimizer= \"sgd\", \n",
    "    metrics = [\"accuracy\"]\n",
    ")"
   ],
   "metadata": {
    "id": "5BH7cxgkQCAd"
   },
   "execution_count": 10,
   "outputs": []
  },
  {
   "cell_type": "code",
   "source": [
    "history = model.fit(X_train, y_train, \n",
    "                    epochs = 30, \n",
    "                    validation_split=0.1)"
   ],
   "metadata": {
    "colab": {
     "base_uri": "https://localhost:8080/"
    },
    "id": "UATI1pZ0QoLm",
    "outputId": "e54d8e80-805a-4a0d-9370-44b8adb05904"
   },
   "execution_count": 11,
   "outputs": [
    {
     "output_type": "stream",
     "name": "stdout",
     "text": [
      "Epoch 1/30\n",
      "1688/1688 [==============================] - 10s 4ms/step - loss: 0.7177 - accuracy: 0.7674 - val_loss: 0.5258 - val_accuracy: 0.8162\n",
      "Epoch 2/30\n",
      "1688/1688 [==============================] - 5s 3ms/step - loss: 0.4898 - accuracy: 0.8309 - val_loss: 0.5025 - val_accuracy: 0.8223\n",
      "Epoch 3/30\n",
      "1688/1688 [==============================] - 5s 3ms/step - loss: 0.4444 - accuracy: 0.8456 - val_loss: 0.4431 - val_accuracy: 0.8437\n",
      "Epoch 4/30\n",
      "1688/1688 [==============================] - 6s 4ms/step - loss: 0.4192 - accuracy: 0.8545 - val_loss: 0.4661 - val_accuracy: 0.8263\n",
      "Epoch 5/30\n",
      "1688/1688 [==============================] - 6s 4ms/step - loss: 0.3974 - accuracy: 0.8615 - val_loss: 0.4046 - val_accuracy: 0.8543\n",
      "Epoch 6/30\n",
      "1688/1688 [==============================] - 7s 4ms/step - loss: 0.3822 - accuracy: 0.8665 - val_loss: 0.4127 - val_accuracy: 0.8543\n",
      "Epoch 7/30\n",
      "1688/1688 [==============================] - 5s 3ms/step - loss: 0.3682 - accuracy: 0.8703 - val_loss: 0.3908 - val_accuracy: 0.8622\n",
      "Epoch 8/30\n",
      "1688/1688 [==============================] - 6s 3ms/step - loss: 0.3567 - accuracy: 0.8745 - val_loss: 0.3709 - val_accuracy: 0.8710\n",
      "Epoch 9/30\n",
      "1688/1688 [==============================] - 5s 3ms/step - loss: 0.3464 - accuracy: 0.8773 - val_loss: 0.3643 - val_accuracy: 0.8672\n",
      "Epoch 10/30\n",
      "1688/1688 [==============================] - 6s 4ms/step - loss: 0.3364 - accuracy: 0.8804 - val_loss: 0.3811 - val_accuracy: 0.8635\n",
      "Epoch 11/30\n",
      "1688/1688 [==============================] - 5s 3ms/step - loss: 0.3275 - accuracy: 0.8823 - val_loss: 0.3563 - val_accuracy: 0.8735\n",
      "Epoch 12/30\n",
      "1688/1688 [==============================] - 6s 4ms/step - loss: 0.3190 - accuracy: 0.8868 - val_loss: 0.3696 - val_accuracy: 0.8688\n",
      "Epoch 13/30\n",
      "1688/1688 [==============================] - 6s 3ms/step - loss: 0.3108 - accuracy: 0.8892 - val_loss: 0.3394 - val_accuracy: 0.8758\n",
      "Epoch 14/30\n",
      "1688/1688 [==============================] - 6s 4ms/step - loss: 0.3043 - accuracy: 0.8908 - val_loss: 0.3610 - val_accuracy: 0.8673\n",
      "Epoch 15/30\n",
      "1688/1688 [==============================] - 5s 3ms/step - loss: 0.2977 - accuracy: 0.8944 - val_loss: 0.3639 - val_accuracy: 0.8662\n",
      "Epoch 16/30\n",
      "1688/1688 [==============================] - 6s 4ms/step - loss: 0.2913 - accuracy: 0.8947 - val_loss: 0.3229 - val_accuracy: 0.8800\n",
      "Epoch 17/30\n",
      "1688/1688 [==============================] - 6s 3ms/step - loss: 0.2853 - accuracy: 0.8976 - val_loss: 0.3219 - val_accuracy: 0.8797\n",
      "Epoch 18/30\n",
      "1688/1688 [==============================] - 6s 4ms/step - loss: 0.2795 - accuracy: 0.8994 - val_loss: 0.3822 - val_accuracy: 0.8570\n",
      "Epoch 19/30\n",
      "1688/1688 [==============================] - 6s 3ms/step - loss: 0.2742 - accuracy: 0.9023 - val_loss: 0.3388 - val_accuracy: 0.8783\n",
      "Epoch 20/30\n",
      "1688/1688 [==============================] - 6s 3ms/step - loss: 0.2699 - accuracy: 0.9029 - val_loss: 0.3235 - val_accuracy: 0.8805\n",
      "Epoch 21/30\n",
      "1688/1688 [==============================] - 6s 3ms/step - loss: 0.2646 - accuracy: 0.9049 - val_loss: 0.3203 - val_accuracy: 0.8825\n",
      "Epoch 22/30\n",
      "1688/1688 [==============================] - 5s 3ms/step - loss: 0.2591 - accuracy: 0.9065 - val_loss: 0.3532 - val_accuracy: 0.8752\n",
      "Epoch 23/30\n",
      "1688/1688 [==============================] - 6s 3ms/step - loss: 0.2541 - accuracy: 0.9083 - val_loss: 0.3170 - val_accuracy: 0.8790\n",
      "Epoch 24/30\n",
      "1688/1688 [==============================] - 6s 3ms/step - loss: 0.2498 - accuracy: 0.9106 - val_loss: 0.3165 - val_accuracy: 0.8803\n",
      "Epoch 25/30\n",
      "1688/1688 [==============================] - 6s 4ms/step - loss: 0.2460 - accuracy: 0.9119 - val_loss: 0.3143 - val_accuracy: 0.8858\n",
      "Epoch 26/30\n",
      "1688/1688 [==============================] - 6s 3ms/step - loss: 0.2416 - accuracy: 0.9129 - val_loss: 0.3276 - val_accuracy: 0.8805\n",
      "Epoch 27/30\n",
      "1688/1688 [==============================] - 6s 4ms/step - loss: 0.2370 - accuracy: 0.9140 - val_loss: 0.3251 - val_accuracy: 0.8820\n",
      "Epoch 28/30\n",
      "1688/1688 [==============================] - 6s 3ms/step - loss: 0.2337 - accuracy: 0.9165 - val_loss: 0.3600 - val_accuracy: 0.8758\n",
      "Epoch 29/30\n",
      "1688/1688 [==============================] - 6s 4ms/step - loss: 0.2289 - accuracy: 0.9171 - val_loss: 0.3123 - val_accuracy: 0.8852\n",
      "Epoch 30/30\n",
      "1688/1688 [==============================] - 5s 3ms/step - loss: 0.2254 - accuracy: 0.9198 - val_loss: 0.3096 - val_accuracy: 0.8897\n"
     ]
    }
   ]
  },
  {
   "cell_type": "code",
   "source": [
    "model.evaluate(X_test, y_test)"
   ],
   "metadata": {
    "colab": {
     "base_uri": "https://localhost:8080/"
    },
    "id": "cOdWa__XQ99I",
    "outputId": "c07e8e1e-0999-4887-85cd-90e419dd3a75"
   },
   "execution_count": 12,
   "outputs": [
    {
     "output_type": "stream",
     "name": "stdout",
     "text": [
      "313/313 [==============================] - 1s 3ms/step - loss: 0.3316 - accuracy: 0.8838\n"
     ]
    },
    {
     "output_type": "execute_result",
     "data": {
      "text/plain": [
       "[0.3315822184085846, 0.8838000297546387]"
      ]
     },
     "metadata": {},
     "execution_count": 12
    }
   ]
  },
  {
   "cell_type": "code",
   "source": [
    "X_new = X_test[:3]\n",
    "y_proba = model.predict(X_new)\n",
    "y_proba.round(2)"
   ],
   "metadata": {
    "colab": {
     "base_uri": "https://localhost:8080/"
    },
    "id": "NsNXsFIqR2Nv",
    "outputId": "211c728c-a0bf-491e-a72c-07a75ae78811"
   },
   "execution_count": 13,
   "outputs": [
    {
     "output_type": "stream",
     "name": "stdout",
     "text": [
      "1/1 [==============================] - 0s 165ms/step\n"
     ]
    },
    {
     "output_type": "execute_result",
     "data": {
      "text/plain": [
       "array([[0.  , 0.  , 0.  , 0.  , 0.  , 0.01, 0.  , 0.01, 0.  , 0.98],\n",
       "       [0.  , 0.  , 1.  , 0.  , 0.  , 0.  , 0.  , 0.  , 0.  , 0.  ],\n",
       "       [0.  , 1.  , 0.  , 0.  , 0.  , 0.  , 0.  , 0.  , 0.  , 0.  ]],\n",
       "      dtype=float32)"
      ]
     },
     "metadata": {},
     "execution_count": 13
    }
   ]
  },
  {
   "cell_type": "code",
   "source": [
    "import numpy as np\n",
    "y_pred = y_proba.argmax(axis=-1)\n",
    "y_pred"
   ],
   "metadata": {
    "colab": {
     "base_uri": "https://localhost:8080/"
    },
    "id": "kJKb53hHSGkn",
    "outputId": "13c1fb92-9d3c-49f2-dbe7-bb1cf7be018e"
   },
   "execution_count": 14,
   "outputs": [
    {
     "output_type": "execute_result",
     "data": {
      "text/plain": [
       "array([9, 2, 1])"
      ]
     },
     "metadata": {},
     "execution_count": 14
    }
   ]
  },
  {
   "cell_type": "code",
   "source": [
    "np.array(class_names)[y_pred]"
   ],
   "metadata": {
    "colab": {
     "base_uri": "https://localhost:8080/"
    },
    "id": "RSXoxxskShsv",
    "outputId": "04ac8dc1-66a5-41e6-cca1-474aeae5b491"
   },
   "execution_count": 16,
   "outputs": [
    {
     "output_type": "execute_result",
     "data": {
      "text/plain": [
       "array(['Ankle boot', 'Pullover', 'Trouser'], dtype='<U11')"
      ]
     },
     "metadata": {},
     "execution_count": 16
    }
   ]
  },
  {
   "cell_type": "code",
   "source": [
    "y_new = y_test[:3]\n",
    "y_new"
   ],
   "metadata": {
    "colab": {
     "base_uri": "https://localhost:8080/"
    },
    "id": "UFoiLERFS0JU",
    "outputId": "d6980798-bf24-483c-a162-cd490566726e"
   },
   "execution_count": 17,
   "outputs": [
    {
     "output_type": "execute_result",
     "data": {
      "text/plain": [
       "array([9, 2, 1], dtype=uint8)"
      ]
     },
     "metadata": {},
     "execution_count": 17
    }
   ]
  }
 ]
}
