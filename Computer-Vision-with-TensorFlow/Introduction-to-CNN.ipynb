{
 "nbformat": 4,
 "nbformat_minor": 0,
 "metadata": {
  "colab": {
   "provenance": [],
   "authorship_tag": "ABX9TyOuc8dHNCE7EWSX5Ujq6JJl",
   "include_colab_link": true
  },
  "kernelspec": {
   "name": "python3",
   "display_name": "Python 3"
  },
  "language_info": {
   "name": "python"
  }
 },
 "cells": [
  {
   "cell_type": "markdown",
   "source": [
    "# Introduction-to-CNN"
   ],
   "metadata": {
    "id": "92hXlyGxMWbu"
   }
  },
  {
   "cell_type": "code",
   "source": [
    "from sklearn.datasets import load_sample_images\n",
    "import tensorflow as tf"
   ],
   "metadata": {
    "id": "R-eAFgsOBMaw"
   },
   "execution_count": 1,
   "outputs": []
  },
  {
   "cell_type": "markdown",
   "source": [
    "# Loading images"
   ],
   "metadata": {
    "id": "QDHHLvI6Lh8r"
   }
  },
  {
   "cell_type": "code",
   "source": [
    "images = load_sample_images()[\"images\"]"
   ],
   "metadata": {
    "id": "trRReUQ-GVBh"
   },
   "execution_count": 2,
   "outputs": []
  },
  {
   "cell_type": "code",
   "source": [
    "images[0].shape"
   ],
   "metadata": {
    "colab": {
     "base_uri": "https://localhost:8080/"
    },
    "id": "7_0_VlZ7Gf8q",
    "outputId": "a9458d34-d871-4c2c-ec0e-9dc4b7e8dd24"
   },
   "execution_count": 3,
   "outputs": [
    {
     "output_type": "execute_result",
     "data": {
      "text/plain": [
       "(427, 640, 3)"
      ]
     },
     "metadata": {},
     "execution_count": 3
    }
   ]
  },
  {
   "cell_type": "markdown",
   "source": [
    "# Data Preprocessing"
   ],
   "metadata": {
    "id": "T8JJ3TlKLl6L"
   }
  },
  {
   "cell_type": "code",
   "source": [
    "images = tf.keras.layers.CenterCrop(height=80, width=120)(images)\n",
    "images = tf.keras.layers.Rescaling(scale=1/255)(images)"
   ],
   "metadata": {
    "id": "IGN2bKxzG894"
   },
   "execution_count": 4,
   "outputs": []
  },
  {
   "cell_type": "code",
   "source": [
    "images.shape"
   ],
   "metadata": {
    "colab": {
     "base_uri": "https://localhost:8080/"
    },
    "id": "H9s6NcktHhOu",
    "outputId": "ed9e973b-9378-4c2d-901c-0d9f9136c05f"
   },
   "execution_count": 5,
   "outputs": [
    {
     "output_type": "execute_result",
     "data": {
      "text/plain": [
       "TensorShape([2, 80, 120, 3])"
      ]
     },
     "metadata": {},
     "execution_count": 5
    }
   ]
  },
  {
   "cell_type": "markdown",
   "source": [
    "# Applying filters"
   ],
   "metadata": {
    "id": "GnJGai-eLtNq"
   }
  },
  {
   "cell_type": "code",
   "source": [
    "conv_layer = tf.keras.layers.Conv2D(filters=32, kernel_size=7)"
   ],
   "metadata": {
    "id": "orEPuzzrHkR_"
   },
   "execution_count": 6,
   "outputs": []
  },
  {
   "cell_type": "code",
   "source": [
    "fmaps = conv_layer(images)"
   ],
   "metadata": {
    "id": "Fof-dbSwH_HZ"
   },
   "execution_count": 7,
   "outputs": []
  },
  {
   "cell_type": "code",
   "source": [
    "fmaps.shape"
   ],
   "metadata": {
    "colab": {
     "base_uri": "https://localhost:8080/"
    },
    "id": "WtNEhLzPIFaT",
    "outputId": "fdf6f070-e907-4b63-93d9-4ceaa330d6b6"
   },
   "execution_count": 8,
   "outputs": [
    {
     "output_type": "execute_result",
     "data": {
      "text/plain": [
       "TensorShape([2, 74, 114, 32])"
      ]
     },
     "metadata": {},
     "execution_count": 8
    }
   ]
  },
  {
   "cell_type": "markdown",
   "source": [
    "# Adding the padding"
   ],
   "metadata": {
    "id": "CONX6ODFL3np"
   }
  },
  {
   "cell_type": "code",
   "source": [
    "conv_layer = tf.keras.layers.Conv2D(filters=32, kernel_size=7,\n",
    "                                    padding = \"same\")"
   ],
   "metadata": {
    "id": "G6TniBHlIILE"
   },
   "execution_count": 9,
   "outputs": []
  },
  {
   "cell_type": "code",
   "source": [
    "fmaps = conv_layer(images)"
   ],
   "metadata": {
    "id": "63mr9OTpI2oZ"
   },
   "execution_count": 10,
   "outputs": []
  },
  {
   "cell_type": "code",
   "source": [
    "fmaps.shape"
   ],
   "metadata": {
    "colab": {
     "base_uri": "https://localhost:8080/"
    },
    "id": "CXeVoZc1I55z",
    "outputId": "2b8a2c55-6ff4-42d4-9475-79eba19ea9e8"
   },
   "execution_count": 11,
   "outputs": [
    {
     "output_type": "execute_result",
     "data": {
      "text/plain": [
       "TensorShape([2, 80, 120, 32])"
      ]
     },
     "metadata": {},
     "execution_count": 11
    }
   ]
  },
  {
   "cell_type": "markdown",
   "source": [
    "# Exporing kernels and biases"
   ],
   "metadata": {
    "id": "RMhtdhywL7l_"
   }
  },
  {
   "cell_type": "code",
   "source": [
    "kernels, biases = conv_layer.get_weights()"
   ],
   "metadata": {
    "id": "FWbggS-mI8YK"
   },
   "execution_count": 12,
   "outputs": []
  },
  {
   "cell_type": "code",
   "source": [
    "kernels.shape"
   ],
   "metadata": {
    "colab": {
     "base_uri": "https://localhost:8080/"
    },
    "id": "GzpOu1cOJVRY",
    "outputId": "dc024b4d-893b-4056-d987-cdad3da527a9"
   },
   "execution_count": 13,
   "outputs": [
    {
     "output_type": "execute_result",
     "data": {
      "text/plain": [
       "(7, 7, 3, 32)"
      ]
     },
     "metadata": {},
     "execution_count": 13
    }
   ]
  },
  {
   "cell_type": "code",
   "source": [
    "biases.shape"
   ],
   "metadata": {
    "colab": {
     "base_uri": "https://localhost:8080/"
    },
    "id": "SG4xuiFoJXZR",
    "outputId": "e4e927bb-d3ab-4f64-9433-861ff0bdc3e5"
   },
   "execution_count": 14,
   "outputs": [
    {
     "output_type": "execute_result",
     "data": {
      "text/plain": [
       "(32,)"
      ]
     },
     "metadata": {},
     "execution_count": 14
    }
   ]
  },
  {
   "cell_type": "markdown",
   "source": [
    "# Applying the Pooling"
   ],
   "metadata": {
    "id": "WRODAdXJMAlA"
   }
  },
  {
   "cell_type": "code",
   "source": [
    "max_pool = tf.keras.layers.MaxPool2D(pool_size=2)"
   ],
   "metadata": {
    "id": "VmesPYHxJjRf"
   },
   "execution_count": 15,
   "outputs": []
  },
  {
   "cell_type": "code",
   "source": [
    "output = max_pool(images)"
   ],
   "metadata": {
    "id": "pnUhKha2J1In"
   },
   "execution_count": 16,
   "outputs": []
  },
  {
   "cell_type": "code",
   "source": [
    "output.shape"
   ],
   "metadata": {
    "colab": {
     "base_uri": "https://localhost:8080/"
    },
    "id": "JNLEC51ZJ9_Z",
    "outputId": "3c7b8906-c9b4-4491-ce6a-25ee0f80d369"
   },
   "execution_count": 17,
   "outputs": [
    {
     "output_type": "execute_result",
     "data": {
      "text/plain": [
       "TensorShape([2, 40, 60, 3])"
      ]
     },
     "metadata": {},
     "execution_count": 17
    }
   ]
  },
  {
   "cell_type": "markdown",
   "source": [
    "# Global Average Pooling"
   ],
   "metadata": {
    "id": "GsXTPHozMEmX"
   }
  },
  {
   "cell_type": "code",
   "source": [
    "global_avg_pool = tf.keras.layers.GlobalAvgPool2D()"
   ],
   "metadata": {
    "id": "XnxT5q3DKBZZ"
   },
   "execution_count": 18,
   "outputs": []
  },
  {
   "cell_type": "code",
   "source": [
    "global_avg_pool(images)"
   ],
   "metadata": {
    "colab": {
     "base_uri": "https://localhost:8080/"
    },
    "id": "gQGsJxVdKxBa",
    "outputId": "32f4bfd1-823b-4739-b451-955e712251d3"
   },
   "execution_count": 19,
   "outputs": [
    {
     "output_type": "execute_result",
     "data": {
      "text/plain": [
       "<tf.Tensor: shape=(2, 3), dtype=float32, numpy=\n",
       "array([[0.6368122 , 0.595365  , 0.5791015 ],\n",
       "       [0.76797295, 0.26938868, 0.11366344]], dtype=float32)>"
      ]
     },
     "metadata": {},
     "execution_count": 19
    }
   ]
  }
 ]
}
