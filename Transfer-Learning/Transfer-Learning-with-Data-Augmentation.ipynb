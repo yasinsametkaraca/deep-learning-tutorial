{
 "nbformat": 4,
 "nbformat_minor": 0,
 "metadata": {
  "colab": {
   "provenance": [],
   "gpuType": "T4",
   "authorship_tag": "ABX9TyOVKY6lbghEev2BqwNK0NTR",
   "include_colab_link": true
  },
  "kernelspec": {
   "name": "python3",
   "display_name": "Python 3"
  },
  "language_info": {
   "name": "python"
  },
  "accelerator": "GPU"
 },
 "cells": [
  {
   "cell_type": "code",
   "source": [
    "import tensorflow_datasets as tfds\n",
    "import tensorflow as tf"
   ],
   "metadata": {
    "id": "UPvnz7CASzxC"
   },
   "execution_count": 1,
   "outputs": []
  },
  {
   "cell_type": "markdown",
   "source": [
    "# Data Loading"
   ],
   "metadata": {
    "id": "VhKx4GQYhQ-A"
   }
  },
  {
   "cell_type": "code",
   "source": [
    "dataset, info=tfds.load(\"tf_flowers\", as_supervised=True,\n",
    "                        with_info= True)"
   ],
   "metadata": {
    "id": "cBOpKjYIUb29"
   },
   "execution_count": 2,
   "outputs": []
  },
  {
   "cell_type": "code",
   "source": [
    "info"
   ],
   "metadata": {
    "colab": {
     "base_uri": "https://localhost:8080/"
    },
    "id": "0DySTRYdVTUV",
    "outputId": "31f4b182-ebe6-4994-b68d-432a52c4c22c"
   },
   "execution_count": 3,
   "outputs": [
    {
     "output_type": "execute_result",
     "data": {
      "text/plain": [
       "tfds.core.DatasetInfo(\n",
       "    name='tf_flowers',\n",
       "    full_name='tf_flowers/3.0.1',\n",
       "    description=\"\"\"\n",
       "    A large set of images of flowers\n",
       "    \"\"\",\n",
       "    homepage='https://www.tensorflow.org/tutorials/load_data/images',\n",
       "    data_path='/root/tensorflow_datasets/tf_flowers/3.0.1',\n",
       "    file_format=tfrecord,\n",
       "    download_size=218.21 MiB,\n",
       "    dataset_size=221.83 MiB,\n",
       "    features=FeaturesDict({\n",
       "        'image': Image(shape=(None, None, 3), dtype=uint8),\n",
       "        'label': ClassLabel(shape=(), dtype=int64, num_classes=5),\n",
       "    }),\n",
       "    supervised_keys=('image', 'label'),\n",
       "    disable_shuffling=False,\n",
       "    splits={\n",
       "        'train': <SplitInfo num_examples=3670, num_shards=2>,\n",
       "    },\n",
       "    citation=\"\"\"@ONLINE {tfflowers,\n",
       "    author = \"The TensorFlow Team\",\n",
       "    title = \"Flowers\",\n",
       "    month = \"jan\",\n",
       "    year = \"2019\",\n",
       "    url = \"http://download.tensorflow.org/example_images/flower_photos.tgz\" }\"\"\",\n",
       ")"
      ]
     },
     "metadata": {},
     "execution_count": 3
    }
   ]
  },
  {
   "cell_type": "markdown",
   "source": [
    "# Data Preprocessing"
   ],
   "metadata": {
    "id": "w7amVUpwhVF6"
   }
  },
  {
   "cell_type": "code",
   "source": [
    "dataset_size = info.splits[\"train\"].num_examples\n",
    "dataset_size"
   ],
   "metadata": {
    "colab": {
     "base_uri": "https://localhost:8080/"
    },
    "id": "jP9uvk0JVX20",
    "outputId": "e0d46c37-52bc-4ef1-91e7-ead121334608"
   },
   "execution_count": 4,
   "outputs": [
    {
     "output_type": "execute_result",
     "data": {
      "text/plain": [
       "3670"
      ]
     },
     "metadata": {},
     "execution_count": 4
    }
   ]
  },
  {
   "cell_type": "code",
   "source": [
    "class_names = info.features[\"label\"].names \n",
    "class_names"
   ],
   "metadata": {
    "colab": {
     "base_uri": "https://localhost:8080/"
    },
    "id": "Aj4M8eyxVvqc",
    "outputId": "fa96c153-e2ba-4f57-ab0a-48ffbb42973c"
   },
   "execution_count": 5,
   "outputs": [
    {
     "output_type": "execute_result",
     "data": {
      "text/plain": [
       "['dandelion', 'daisy', 'tulips', 'sunflowers', 'roses']"
      ]
     },
     "metadata": {},
     "execution_count": 5
    }
   ]
  },
  {
   "cell_type": "code",
   "source": [
    "n_classes = info.features[\"label\"].num_classes\n",
    "n_classes"
   ],
   "metadata": {
    "colab": {
     "base_uri": "https://localhost:8080/"
    },
    "id": "p6e3QkyoV9cr",
    "outputId": "cd18d9de-941c-45ad-ec92-dc16b670e9e9"
   },
   "execution_count": 6,
   "outputs": [
    {
     "output_type": "execute_result",
     "data": {
      "text/plain": [
       "5"
      ]
     },
     "metadata": {},
     "execution_count": 6
    }
   ]
  },
  {
   "cell_type": "code",
   "source": [
    "test_set_raw,valid_set_raw,train_set_raw=tfds.load(\n",
    "    \"tf_flowers\",\n",
    "    split = [\"train[:10%]\", \"train[10%:25%]\", \"train[25%:]\"],\n",
    "    as_supervised=True\n",
    ")"
   ],
   "metadata": {
    "id": "9IFiITeyWNbS"
   },
   "execution_count": 7,
   "outputs": []
  },
  {
   "cell_type": "code",
   "source": [
    "batch_size = 32\n",
    "preprocess=tf.keras.Sequential([\n",
    "    tf.keras.layers.Resizing(height=224, width=224,\n",
    "                             crop_to_aspect_ratio=True),\n",
    "    tf.keras.layers.Lambda(\n",
    "        tf.keras.applications.xception.preprocess_input\n",
    "    )                         \n",
    "])"
   ],
   "metadata": {
    "id": "VwCEIqWnW2XU"
   },
   "execution_count": 8,
   "outputs": []
  },
  {
   "cell_type": "code",
   "source": [
    "train_set=train_set_raw.map(lambda X,y:(preprocess(X),y))\n",
    "train_set=train_set.shuffle(1000,seed=42).batch(batch_size).prefetch(1)\n",
    "\n",
    "valid_set=valid_set_raw.map(lambda X,y:(preprocess(X),y)).batch(batch_size)\n",
    "test_set=test_set_raw.map(lambda X,y:(preprocess(X),y)).batch(batch_size)"
   ],
   "metadata": {
    "id": "uEufI29gYOpO"
   },
   "execution_count": 9,
   "outputs": []
  },
  {
   "cell_type": "code",
   "source": [
    "data_augmentation=tf.keras.Sequential([\n",
    "    tf.keras.layers.RandomFlip(mode=\"horizontal\", seed=42),\n",
    "    tf.keras.layers.RandomContrast(factor=0.2, seed=42),\n",
    "    tf.keras.layers.RandomRotation(factor=0.05, seed=42)\n",
    "])"
   ],
   "metadata": {
    "id": "Pvp1DouAaJBm"
   },
   "execution_count": 10,
   "outputs": []
  },
  {
   "cell_type": "markdown",
   "source": [
    "# Model Building"
   ],
   "metadata": {
    "id": "dHJOGXNmhaRd"
   }
  },
  {
   "cell_type": "code",
   "source": [
    "tf.random.set_seed(42)\n",
    "base_model=tf.keras.applications.xception.Xception(\n",
    "    weights=\"imagenet\",\n",
    "    include_top=False\n",
    ")"
   ],
   "metadata": {
    "id": "fgKgNOB-bayn"
   },
   "execution_count": 11,
   "outputs": []
  },
  {
   "cell_type": "code",
   "source": [
    "inputs = tf.keras.Input(shape=(224, 224, 3))\n",
    "x = data_augmentation(inputs)\n",
    "x = base_model(x)\n",
    "x = tf.keras.layers.GlobalAveragePooling2D()(x)\n",
    "x = tf.keras.layers.Dropout(0.2)(x)\n",
    "output=tf.keras.layers.Dense(n_classes, activation=\"softmax\")(x)\n",
    "model = tf.keras.Model(inputs=inputs, outputs=output)"
   ],
   "metadata": {
    "id": "M8OWMWLlcC8F"
   },
   "execution_count": 12,
   "outputs": []
  },
  {
   "cell_type": "code",
   "source": [
    "model.summary()"
   ],
   "metadata": {
    "colab": {
     "base_uri": "https://localhost:8080/"
    },
    "id": "JZZtzZiIz9-3",
    "outputId": "0e0d95ac-443b-4be3-dbb4-377448b6c0bd"
   },
   "execution_count": 13,
   "outputs": [
    {
     "output_type": "stream",
     "name": "stdout",
     "text": [
      "Model: \"model\"\n",
      "_________________________________________________________________\n",
      " Layer (type)                Output Shape              Param #   \n",
      "=================================================================\n",
      " input_2 (InputLayer)        [(None, 224, 224, 3)]     0         \n",
      "                                                                 \n",
      " sequential_1 (Sequential)   (None, 224, 224, 3)       0         \n",
      "                                                                 \n",
      " xception (Functional)       (None, None, None, 2048)  20861480  \n",
      "                                                                 \n",
      " global_average_pooling2d (G  (None, 2048)             0         \n",
      " lobalAveragePooling2D)                                          \n",
      "                                                                 \n",
      " dropout (Dropout)           (None, 2048)              0         \n",
      "                                                                 \n",
      " dense (Dense)               (None, 5)                 10245     \n",
      "                                                                 \n",
      "=================================================================\n",
      "Total params: 20,871,725\n",
      "Trainable params: 20,817,197\n",
      "Non-trainable params: 54,528\n",
      "_________________________________________________________________\n"
     ]
    }
   ]
  },
  {
   "cell_type": "code",
   "source": [
    "for layer in base_model.layers:\n",
    "  layer.trainable = False"
   ],
   "metadata": {
    "id": "rp_ubxlsdA6d"
   },
   "execution_count": 14,
   "outputs": []
  },
  {
   "cell_type": "code",
   "source": [
    "model.compile(\n",
    "    loss=\"sparse_categorical_crossentropy\",\n",
    "    optimizer=tf.keras.optimizers.SGD(learning_rate=0.1, momentum=0.9),\n",
    "    metrics=[\"accuracy\"])"
   ],
   "metadata": {
    "id": "TZGaWnzmdUnc"
   },
   "execution_count": 15,
   "outputs": []
  },
  {
   "cell_type": "markdown",
   "source": [
    "# Model Training"
   ],
   "metadata": {
    "id": "Sb9NmhsWhckO"
   }
  },
  {
   "cell_type": "code",
   "source": [
    "history=model.fit(train_set, \n",
    "                  validation_data=valid_set,\n",
    "                  epochs=3)"
   ],
   "metadata": {
    "colab": {
     "base_uri": "https://localhost:8080/"
    },
    "id": "7GFIWULxd9An",
    "outputId": "f54d60c3-60ca-4a7e-86dc-2fd1e1a09c72"
   },
   "execution_count": 16,
   "outputs": [
    {
     "output_type": "stream",
     "name": "stdout",
     "text": [
      "Epoch 1/3\n",
      "86/86 [==============================] - 29s 178ms/step - loss: 0.8919 - accuracy: 0.7547 - val_loss: 0.9176 - val_accuracy: 0.8113\n",
      "Epoch 2/3\n",
      "86/86 [==============================] - 15s 167ms/step - loss: 0.6715 - accuracy: 0.8339 - val_loss: 0.8160 - val_accuracy: 0.8113\n",
      "Epoch 3/3\n",
      "86/86 [==============================] - 16s 169ms/step - loss: 0.6226 - accuracy: 0.8434 - val_loss: 0.9375 - val_accuracy: 0.8203\n"
     ]
    }
   ]
  },
  {
   "cell_type": "code",
   "source": [
    "for indices in zip(range(33), range(33, 66), range(66, 99), range(99, 132)):\n",
    "    for idx in indices:\n",
    "        print(f\"{idx:3}: {base_model.layers[idx].name:22}\", end=\"\")\n",
    "    print()"
   ],
   "metadata": {
    "colab": {
     "base_uri": "https://localhost:8080/"
    },
    "id": "rZJRSBtCfCek",
    "outputId": "3d4e986a-b799-4a5a-a569-fcd006e57b7c"
   },
   "execution_count": 17,
   "outputs": [
    {
     "output_type": "stream",
     "name": "stdout",
     "text": [
      "  0: input_1                33: block4_pool            66: block8_sepconv1_act    99: block11_sepconv2_act  \n",
      "  1: block1_conv1           34: batch_normalization_2  67: block8_sepconv1       100: block11_sepconv2      \n",
      "  2: block1_conv1_bn        35: add_2                  68: block8_sepconv1_bn    101: block11_sepconv2_bn   \n",
      "  3: block1_conv1_act       36: block5_sepconv1_act    69: block8_sepconv2_act   102: block11_sepconv3_act  \n",
      "  4: block1_conv2           37: block5_sepconv1        70: block8_sepconv2       103: block11_sepconv3      \n",
      "  5: block1_conv2_bn        38: block5_sepconv1_bn     71: block8_sepconv2_bn    104: block11_sepconv3_bn   \n",
      "  6: block1_conv2_act       39: block5_sepconv2_act    72: block8_sepconv3_act   105: add_9                 \n",
      "  7: block2_sepconv1        40: block5_sepconv2        73: block8_sepconv3       106: block12_sepconv1_act  \n",
      "  8: block2_sepconv1_bn     41: block5_sepconv2_bn     74: block8_sepconv3_bn    107: block12_sepconv1      \n",
      "  9: block2_sepconv2_act    42: block5_sepconv3_act    75: add_6                 108: block12_sepconv1_bn   \n",
      " 10: block2_sepconv2        43: block5_sepconv3        76: block9_sepconv1_act   109: block12_sepconv2_act  \n",
      " 11: block2_sepconv2_bn     44: block5_sepconv3_bn     77: block9_sepconv1       110: block12_sepconv2      \n",
      " 12: conv2d                 45: add_3                  78: block9_sepconv1_bn    111: block12_sepconv2_bn   \n",
      " 13: block2_pool            46: block6_sepconv1_act    79: block9_sepconv2_act   112: block12_sepconv3_act  \n",
      " 14: batch_normalization    47: block6_sepconv1        80: block9_sepconv2       113: block12_sepconv3      \n",
      " 15: add                    48: block6_sepconv1_bn     81: block9_sepconv2_bn    114: block12_sepconv3_bn   \n",
      " 16: block3_sepconv1_act    49: block6_sepconv2_act    82: block9_sepconv3_act   115: add_10                \n",
      " 17: block3_sepconv1        50: block6_sepconv2        83: block9_sepconv3       116: block13_sepconv1_act  \n",
      " 18: block3_sepconv1_bn     51: block6_sepconv2_bn     84: block9_sepconv3_bn    117: block13_sepconv1      \n",
      " 19: block3_sepconv2_act    52: block6_sepconv3_act    85: add_7                 118: block13_sepconv1_bn   \n",
      " 20: block3_sepconv2        53: block6_sepconv3        86: block10_sepconv1_act  119: block13_sepconv2_act  \n",
      " 21: block3_sepconv2_bn     54: block6_sepconv3_bn     87: block10_sepconv1      120: block13_sepconv2      \n",
      " 22: conv2d_1               55: add_4                  88: block10_sepconv1_bn   121: block13_sepconv2_bn   \n",
      " 23: block3_pool            56: block7_sepconv1_act    89: block10_sepconv2_act  122: conv2d_3              \n",
      " 24: batch_normalization_1  57: block7_sepconv1        90: block10_sepconv2      123: block13_pool          \n",
      " 25: add_1                  58: block7_sepconv1_bn     91: block10_sepconv2_bn   124: batch_normalization_3 \n",
      " 26: block4_sepconv1_act    59: block7_sepconv2_act    92: block10_sepconv3_act  125: add_11                \n",
      " 27: block4_sepconv1        60: block7_sepconv2        93: block10_sepconv3      126: block14_sepconv1      \n",
      " 28: block4_sepconv1_bn     61: block7_sepconv2_bn     94: block10_sepconv3_bn   127: block14_sepconv1_bn   \n",
      " 29: block4_sepconv2_act    62: block7_sepconv3_act    95: add_8                 128: block14_sepconv1_act  \n",
      " 30: block4_sepconv2        63: block7_sepconv3        96: block11_sepconv1_act  129: block14_sepconv2      \n",
      " 31: block4_sepconv2_bn     64: block7_sepconv3_bn     97: block11_sepconv1      130: block14_sepconv2_bn   \n",
      " 32: conv2d_2               65: add_5                  98: block11_sepconv1_bn   131: block14_sepconv2_act  \n"
     ]
    }
   ]
  },
  {
   "cell_type": "code",
   "source": [
    "for layer in base_model.layers[56:]:\n",
    "  layer.trainable = True"
   ],
   "metadata": {
    "id": "T2BIcfb9fEMP"
   },
   "execution_count": 18,
   "outputs": []
  },
  {
   "cell_type": "code",
   "source": [
    "model.compile(\n",
    "    loss=\"sparse_categorical_crossentropy\",\n",
    "    optimizer=tf.keras.optimizers.SGD(learning_rate=0.1, momentum=0.9),\n",
    "    metrics=[\"accuracy\"])"
   ],
   "metadata": {
    "id": "uksg09yffW1c"
   },
   "execution_count": 19,
   "outputs": []
  },
  {
   "cell_type": "code",
   "source": [
    "history=model.fit(train_set, \n",
    "                  validation_data=valid_set,\n",
    "                  epochs=10)"
   ],
   "metadata": {
    "colab": {
     "base_uri": "https://localhost:8080/"
    },
    "id": "klrQtOkQffsG",
    "outputId": "85d116e1-6cc8-4080-9286-83ebb1aa423f"
   },
   "execution_count": 20,
   "outputs": [
    {
     "output_type": "stream",
     "name": "stdout",
     "text": [
      "Epoch 1/10\n",
      "86/86 [==============================] - 39s 329ms/step - loss: 0.8001 - accuracy: 0.7344 - val_loss: 3.0512 - val_accuracy: 0.7060\n",
      "Epoch 2/10\n",
      "86/86 [==============================] - 28s 320ms/step - loss: 0.4333 - accuracy: 0.8586 - val_loss: 1.8520 - val_accuracy: 0.7296\n",
      "Epoch 3/10\n",
      "86/86 [==============================] - 28s 315ms/step - loss: 0.3361 - accuracy: 0.8863 - val_loss: 0.5930 - val_accuracy: 0.8004\n",
      "Epoch 4/10\n",
      "86/86 [==============================] - 28s 318ms/step - loss: 0.2395 - accuracy: 0.9121 - val_loss: 0.4589 - val_accuracy: 0.8784\n",
      "Epoch 5/10\n",
      "86/86 [==============================] - 29s 328ms/step - loss: 0.2072 - accuracy: 0.9357 - val_loss: 0.3991 - val_accuracy: 0.8893\n",
      "Epoch 6/10\n",
      "86/86 [==============================] - 28s 311ms/step - loss: 0.1480 - accuracy: 0.9553 - val_loss: 0.4327 - val_accuracy: 0.8838\n",
      "Epoch 7/10\n",
      "86/86 [==============================] - 28s 317ms/step - loss: 0.1244 - accuracy: 0.9593 - val_loss: 0.6427 - val_accuracy: 0.8258\n",
      "Epoch 8/10\n",
      "86/86 [==============================] - 28s 319ms/step - loss: 0.0969 - accuracy: 0.9633 - val_loss: 0.4138 - val_accuracy: 0.8693\n",
      "Epoch 9/10\n",
      "86/86 [==============================] - 28s 313ms/step - loss: 0.0878 - accuracy: 0.9691 - val_loss: 0.8912 - val_accuracy: 0.8367\n",
      "Epoch 10/10\n",
      "86/86 [==============================] - 28s 314ms/step - loss: 0.0930 - accuracy: 0.9713 - val_loss: 0.3303 - val_accuracy: 0.8984\n"
     ]
    }
   ]
  },
  {
   "cell_type": "code",
   "source": [
    "import matplotlib.pyplot as plt\n",
    "acc = history.history['accuracy']\n",
    "val_acc = history.history['val_accuracy']\n",
    "\n",
    "loss = history.history['loss']\n",
    "val_loss = history.history['val_loss']\n",
    "\n",
    "plt.figure(figsize=(8, 8))\n",
    "plt.subplot(2, 1, 1)\n",
    "plt.plot(acc, label='Training Accuracy')\n",
    "plt.plot(val_acc, label='Validation Accuracy')\n",
    "plt.legend(loc='lower right')\n",
    "plt.ylabel('Accuracy')\n",
    "plt.ylim([min(plt.ylim()),1])\n",
    "plt.title('Training and Validation Accuracy')\n",
    "\n",
    "plt.subplot(2, 1, 2)\n",
    "plt.plot(loss, label='Training Loss')\n",
    "plt.plot(val_loss, label='Validation Loss')\n",
    "plt.legend(loc='upper right')\n",
    "plt.ylabel('Cross Entropy')\n",
    "plt.ylim([0,1.0])\n",
    "plt.title('Training and Validation Loss')\n",
    "plt.xlabel('epoch')\n",
    "plt.show()"
   ],
   "metadata": {
    "colab": {
     "base_uri": "https://localhost:8080/",
     "height": 718
    },
    "id": "d07lmZyC3QcI",
    "outputId": "3b05b4db-b89c-4c04-b155-c7e2fa46eba3"
   },
   "execution_count": 21,
   "outputs": [
    {
     "output_type": "display_data",
     "data": {
      "text/plain": [
       "<Figure size 800x800 with 2 Axes>"
      ],
      "image/png": "[encoded data removed]"
     },
     "metadata": {}
    }
   ]
  }
 ]
}
