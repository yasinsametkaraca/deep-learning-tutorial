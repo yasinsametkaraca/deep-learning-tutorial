{
 "nbformat": 4,
 "nbformat_minor": 0,
 "metadata": {
  "colab": {
   "provenance": [],
   "authorship_tag": "ABX9TyPhPMq0wx7RSrPVLsw4L8M2",
   "include_colab_link": true
  },
  "kernelspec": {
   "name": "python3",
   "display_name": "Python 3"
  },
  "language_info": {
   "name": "python"
  },
  "accelerator": "GPU",
  "gpuClass": "standard"
 },
 "cells": [
  {
   "cell_type": "code",
   "execution_count": 1,
   "metadata": {
    "id": "0TvvmnxUJ8el"
   },
   "outputs": [],
   "source": [
    "import tensorflow as tf\n",
    "from tensorflow import keras "
   ]
  },
  {
   "cell_type": "markdown",
   "source": [
    "# Loading data\n",
    "\n",
    "Feeding: It means to provide data to the model for training or testing. Feeding data to the model is the most important part of the training process. The data should be in the right format and should be normalized or standardized.\n",
    "\n",
    "batch: A set of data points that are processed together in the model. A batch is used to update the weights of the model. It is a subset of the training data.\n",
    "epoch: One epoch is when the entire dataset is passed forward and backward through the neural network only once.\n",
    "backpropagation: The process of updating the weights of the model using the gradients of the loss function with respect to the weights. "
   ],
   "metadata": {
    "id": "YJpkLzNQQMVV"
   }
  },
  {
   "cell_type": "code",
   "source": [
    "from tensorflow.keras.datasets import mnist # 28x28 images of handwritten digits 0-9\n",
    "(x_train, y_train), (x_test, y_test) = mnist.load_data() "
   ],
   "metadata": {
    "colab": {
     "base_uri": "https://localhost:8080/"
    },
    "id": "ak3cbGNVKBqv",
    "outputId": "29c4f007-5953-4153-ba2b-f206ece94105"
   },
   "execution_count": 2,
   "outputs": [
    {
     "output_type": "stream",
     "name": "stdout",
     "text": [
      "Downloading data from https://storage.googleapis.com/tensorflow/tf-keras-datasets/mnist.npz\n",
      "11490434/11490434 [==============================] - 1s 0us/step\n"
     ]
    }
   ]
  },
  {
   "cell_type": "code",
   "source": [
    "print(x_train.shape, y_train.shape)\n",
    "print(x_test.shape, y_test.shape)"
   ],
   "metadata": {
    "colab": {
     "base_uri": "https://localhost:8080/"
    },
    "id": "8CzKzI1WKHxr",
    "outputId": "c871e9f3-1eeb-4762-ab39-1f7dce20c118"
   },
   "execution_count": 3,
   "outputs": [
    {
     "output_type": "stream",
     "name": "stdout",
     "text": [
      "(60000, 28, 28) (60000,)\n",
      "(10000, 28, 28) (10000,)\n"
     ]
    }
   ]
  },
  {
   "cell_type": "code",
   "source": [
    "tf.random.set_seed(42)"
   ],
   "metadata": {
    "id": "diN179hDOhXF"
   },
   "execution_count": 4,
   "outputs": []
  },
  {
   "cell_type": "markdown",
   "source": [
    "# Modeling"
   ],
   "metadata": {
    "id": "ZnKIP9V3QPMR"
   }
  },
  {
   "cell_type": "code",
   "source": [
    "model = tf.keras.models.Sequential([\n",
    "  tf.keras.layers.Flatten(input_shape=(28, 28)), # Flatten the input. 28x28 -> 784 pixels. 2D -> 1D. Why? Because the first layer of the model is a dense layer. Dense layers require 1D input.\n",
    "  tf.keras.layers.Dense(512, activation='relu'),\n",
    "  tf.keras.layers.Dense(512, activation='relu'),\n",
    "  tf.keras.layers.Dense(10, activation='softmax') # 10 because we have 10 classes. Why softmax? Because it is the last layer of the model and we are doing a multi-class classification.\n",
    "])"
   ],
   "metadata": {
    "id": "TFU5pAd7KKbN"
   },
   "execution_count": 5,
   "outputs": []
  },
  {
   "cell_type": "code",
   "source": [
    "# Because we have sparse labels, if we have one-hot encoded labels, we should use categorical_crossentropy. SparseCategoricalCrossentropy is used when the labels are integers. The magnitude of the label values (big or small) is irrelevant in SparseCategoricalCrossentropy, as it only requires the integer labels. However, in CategoricalCrossentropy, the labels are one-hot encoded, and the magnitude of the probabilities in the output is important.\n",
    "model.compile(loss='sparse_categorical_crossentropy',\n",
    "              optimizer='adam', \n",
    "              metrics=['accuracy'])"
   ],
   "metadata": {
    "id": "I_uu5baqKS0Z"
   },
   "execution_count": 6,
   "outputs": []
  },
  {
   "cell_type": "markdown",
   "source": [
    "# Training"
   ],
   "metadata": {
    "id": "3JF2Rp1KQUGc"
   }
  },
  {
   "cell_type": "code",
   "source": "model.fit(x_train, y_train, epochs=10)  ",
   "metadata": {
    "colab": {
     "base_uri": "https://localhost:8080/"
    },
    "id": "zbCn3IpyKXTd",
    "outputId": "c028b99c-b7c4-4ced-9515-dccf26bbff92"
   },
   "execution_count": 7,
   "outputs": [
    {
     "output_type": "stream",
     "name": "stdout",
     "text": [
      "Epoch 1/10\n",
      "1875/1875 [==============================] - 14s 3ms/step - loss: 1.4169 - accuracy: 0.9075\n",
      "Epoch 2/10\n",
      "1875/1875 [==============================] - 6s 3ms/step - loss: 0.2099 - accuracy: 0.9484\n",
      "Epoch 3/10\n",
      "1875/1875 [==============================] - 5s 3ms/step - loss: 0.1825 - accuracy: 0.9523\n",
      "Epoch 4/10\n",
      "1875/1875 [==============================] - 6s 3ms/step - loss: 0.1626 - accuracy: 0.9582\n",
      "Epoch 5/10\n",
      "1875/1875 [==============================] - 6s 3ms/step - loss: 0.1405 - accuracy: 0.9643\n",
      "Epoch 6/10\n",
      "1875/1875 [==============================] - 6s 3ms/step - loss: 0.1270 - accuracy: 0.9682\n",
      "Epoch 7/10\n",
      "1875/1875 [==============================] - 6s 3ms/step - loss: 0.1128 - accuracy: 0.9719\n",
      "Epoch 8/10\n",
      "1875/1875 [==============================] - 6s 3ms/step - loss: 0.1020 - accuracy: 0.9747\n",
      "Epoch 9/10\n",
      "1875/1875 [==============================] - 6s 3ms/step - loss: 0.0936 - accuracy: 0.9764\n",
      "Epoch 10/10\n",
      "1875/1875 [==============================] - 5s 3ms/step - loss: 0.0855 - accuracy: 0.9793\n"
     ]
    },
    {
     "output_type": "execute_result",
     "data": {
      "text/plain": [
       "<keras.callbacks.History at 0x7f72487c3d90>"
      ]
     },
     "metadata": {},
     "execution_count": 7
    }
   ]
  },
  {
   "cell_type": "markdown",
   "source": [
    "# Normalization\n",
    "\n",
    "28 * 28 = 784 pixels. Each pixel has a value between 0 and 255. We can normalize the pixel values by dividing them by 255. This will make the pixel values between 0 and 1. Normalization is important because it helps the model to learn faster and better. It also helps to avoid exploding gradients."
   ],
   "metadata": {
    "id": "I15hPW-LQI5W"
   }
  },
  {
   "cell_type": "code",
   "source": [
    "import numpy as np\n",
    "x_train = (x_train / 255.0).astype(np.float32)              \n",
    "x_test  = (x_test  / 255.0).astype(np.float32)"
   ],
   "metadata": {
    "id": "ZKfx1KVvKc7M"
   },
   "execution_count": 8,
   "outputs": []
  },
  {
   "cell_type": "code",
   "source": [
    "model = tf.keras.models.Sequential([\n",
    "  tf.keras.layers.Flatten(input_shape=(28, 28)),\n",
    "  tf.keras.layers.Dense(512, activation='relu'),\n",
    "  tf.keras.layers.Dense(512, activation='relu'),\n",
    "  tf.keras.layers.Dense(10, activation='softmax')\n",
    "])\n",
    "model.compile(loss='sparse_categorical_crossentropy',\n",
    "              optimizer='adam',\n",
    "              metrics=['accuracy'])\n",
    "model.fit(x_train, y_train, epochs=10) "
   ],
   "metadata": {
    "colab": {
     "base_uri": "https://localhost:8080/"
    },
    "id": "z7Kluf-YKzcD",
    "outputId": "09bada5e-0fab-4b9d-8050-6d881127b4de"
   },
   "execution_count": 9,
   "outputs": [
    {
     "output_type": "stream",
     "name": "stdout",
     "text": [
      "Epoch 1/10\n",
      "1875/1875 [==============================] - 7s 3ms/step - loss: 0.1819 - accuracy: 0.9442\n",
      "Epoch 2/10\n",
      "1875/1875 [==============================] - 6s 3ms/step - loss: 0.0781 - accuracy: 0.9752\n",
      "Epoch 3/10\n",
      "1875/1875 [==============================] - 5s 3ms/step - loss: 0.0560 - accuracy: 0.9819\n",
      "Epoch 4/10\n",
      "1875/1875 [==============================] - 6s 3ms/step - loss: 0.0413 - accuracy: 0.9869\n",
      "Epoch 5/10\n",
      "1875/1875 [==============================] - 5s 3ms/step - loss: 0.0344 - accuracy: 0.9891\n",
      "Epoch 6/10\n",
      "1875/1875 [==============================] - 6s 3ms/step - loss: 0.0297 - accuracy: 0.9902\n",
      "Epoch 7/10\n",
      "1875/1875 [==============================] - 5s 3ms/step - loss: 0.0234 - accuracy: 0.9931\n",
      "Epoch 8/10\n",
      "1875/1875 [==============================] - 6s 3ms/step - loss: 0.0240 - accuracy: 0.9922\n",
      "Epoch 9/10\n",
      "1875/1875 [==============================] - 5s 3ms/step - loss: 0.0185 - accuracy: 0.9943\n",
      "Epoch 10/10\n",
      "1875/1875 [==============================] - 6s 3ms/step - loss: 0.0186 - accuracy: 0.9944\n"
     ]
    },
    {
     "output_type": "execute_result",
     "data": {
      "text/plain": [
       "<keras.callbacks.History at 0x7f724820dfa0>"
      ]
     },
     "metadata": {},
     "execution_count": 9
    }
   ]
  },
  {
   "metadata": {},
   "cell_type": "markdown",
   "source": "When we normalize the pixel values, the model learns faster and better. The accuracy of the model increases."
  },
  {
   "cell_type": "code",
   "source": [
    "model.evaluate(x_test, y_test)"
   ],
   "metadata": {
    "colab": {
     "base_uri": "https://localhost:8080/"
    },
    "id": "y4gw_egBKgPz",
    "outputId": "ab24e9c3-fd81-4b00-e74a-d9226b7f3e06"
   },
   "execution_count": 10,
   "outputs": [
    {
     "output_type": "stream",
     "name": "stdout",
     "text": [
      "313/313 [==============================] - 1s 2ms/step - loss: 0.0936 - accuracy: 0.9814\n"
     ]
    },
    {
     "output_type": "execute_result",
     "data": {
      "text/plain": [
       "[0.09356796741485596, 0.9814000129699707]"
      ]
     },
     "metadata": {},
     "execution_count": 10
    }
   ]
  },
  {
   "metadata": {},
   "cell_type": "markdown",
   "source": "Model test accuracy is 0.98 and training accuracy is 0.99. The model is overfitting. Overfitting is a common problem in machine learning. It occurs when the model learns the training data too well. The model memorizes the training data instead of learning the underlying patterns. As a result, the model performs well on the training data but poorly on the test data. To prevent overfitting, we can use techniques such as dropout, regularization, and early stopping."
  },
  {
   "cell_type": "markdown",
   "source": [
    "# Standartization\n",
    "\n",
    "Standardization is the process of rescaling the features so that they have the properties of a standard normal distribution with a mean of 0 and a standard deviation of 1. Standardization is important because it helps the model to learn faster and better. It also helps to avoid exploding gradients. "
   ],
   "metadata": {
    "id": "_lcjmWiuP_Qz"
   }
  },
  {
   "cell_type": "code",
   "source": [
    "# Loading data sets again for standartization\n",
    "(x_train, y_train), (x_test, y_test) = mnist.load_data() \n",
    "mean = np.mean(x_train)                      \n",
    "std = np.std(x_train)  \n",
    "x_train = ((x_train - mean) / std).astype(np.float32) # Standartization. X = (X - mean) / std "
   ],
   "metadata": {
    "id": "cm5adXjxOo8h"
   },
   "execution_count": 11,
   "outputs": []
  },
  {
   "cell_type": "code",
   "source": [
    "model = tf.keras.models.Sequential([\n",
    "  tf.keras.layers.Flatten(input_shape=(28, 28)),\n",
    "  tf.keras.layers.Dense(512, activation='relu'),\n",
    "  tf.keras.layers.Dense(512, activation='relu'),\n",
    "  tf.keras.layers.Dense(10, activation='softmax')\n",
    "])\n",
    "model.compile(loss='sparse_categorical_crossentropy',\n",
    "              optimizer='adam',\n",
    "              metrics=['accuracy'])\n",
    "model.fit(x_train, y_train, epochs=10) "
   ],
   "metadata": {
    "colab": {
     "base_uri": "https://localhost:8080/"
    },
    "id": "AtC-AbdaPI79",
    "outputId": "038d3e8a-6c8f-408a-cba7-7704021bb502"
   },
   "execution_count": 12,
   "outputs": [
    {
     "output_type": "stream",
     "name": "stdout",
     "text": [
      "Epoch 1/10\n",
      "1875/1875 [==============================] - 7s 3ms/step - loss: 0.1902 - accuracy: 0.9408\n",
      "Epoch 2/10\n",
      "1875/1875 [==============================] - 6s 3ms/step - loss: 0.0927 - accuracy: 0.9712\n",
      "Epoch 3/10\n",
      "1875/1875 [==============================] - 6s 3ms/step - loss: 0.0687 - accuracy: 0.9786\n",
      "Epoch 4/10\n",
      "1875/1875 [==============================] - 6s 3ms/step - loss: 0.0576 - accuracy: 0.9822\n",
      "Epoch 5/10\n",
      "1875/1875 [==============================] - 6s 3ms/step - loss: 0.0457 - accuracy: 0.9862\n",
      "Epoch 6/10\n",
      "1875/1875 [==============================] - 6s 3ms/step - loss: 0.0420 - accuracy: 0.9869\n",
      "Epoch 7/10\n",
      "1875/1875 [==============================] - 5s 3ms/step - loss: 0.0382 - accuracy: 0.9889\n",
      "Epoch 8/10\n",
      "1875/1875 [==============================] - 6s 3ms/step - loss: 0.0384 - accuracy: 0.9893\n",
      "Epoch 9/10\n",
      "1875/1875 [==============================] - 5s 3ms/step - loss: 0.0298 - accuracy: 0.9919\n",
      "Epoch 10/10\n",
      "1875/1875 [==============================] - 5s 3ms/step - loss: 0.0330 - accuracy: 0.9906\n"
     ]
    },
    {
     "output_type": "execute_result",
     "data": {
      "text/plain": [
       "<keras.callbacks.History at 0x7f72559f8100>"
      ]
     },
     "metadata": {},
     "execution_count": 12
    }
   ]
  }
 ]
}
