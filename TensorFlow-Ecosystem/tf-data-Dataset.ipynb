{
 "nbformat": 4,
 "nbformat_minor": 0,
 "metadata": {
  "colab": {
   "provenance": [],
   "authorship_tag": "ABX9TyNAmXLGVQlQ3s49uPl0CV5W",
   "include_colab_link": true
  },
  "kernelspec": {
   "name": "python3",
   "display_name": "Python 3"
  },
  "language_info": {
   "name": "python"
  }
 },
 "cells": [
  {
   "cell_type": "markdown",
   "source": [
    "# Working with tf.data.Dataset"
   ],
   "metadata": {
    "id": "0Y8lna55yu1-"
   }
  },
  {
   "cell_type": "code",
   "execution_count": 1,
   "metadata": {
    "id": "H6K2xIiTi-zj"
   },
   "outputs": [],
   "source": [
    "import tensorflow as tf\n",
    "x = tf.range(5)\n",
    "dataset = tf.data.Dataset.from_tensor_slices(x)"
   ]
  },
  {
   "cell_type": "code",
   "source": [
    "dataset"
   ],
   "metadata": {
    "colab": {
     "base_uri": "https://localhost:8080/"
    },
    "id": "WOdccwW6kXxe",
    "outputId": "16e00ac8-36b2-4243-98dc-6d27389b4e03"
   },
   "execution_count": 2,
   "outputs": [
    {
     "output_type": "execute_result",
     "data": {
      "text/plain": [
       "<_TensorSliceDataset element_spec=TensorSpec(shape=(), dtype=tf.int32, name=None)>"
      ]
     },
     "metadata": {},
     "execution_count": 2
    }
   ]
  },
  {
   "cell_type": "code",
   "source": [
    "for item in dataset:\n",
    "  print(item.numpy())"
   ],
   "metadata": {
    "colab": {
     "base_uri": "https://localhost:8080/"
    },
    "id": "gKiv0iD2lcM8",
    "outputId": "805cf184-0e71-46f2-a91c-8905c246dc2f"
   },
   "execution_count": 4,
   "outputs": [
    {
     "output_type": "stream",
     "name": "stdout",
     "text": [
      "0\n",
      "1\n",
      "2\n",
      "3\n",
      "4\n"
     ]
    }
   ]
  },
  {
   "cell_type": "code",
   "source": [
    "list(dataset.as_numpy_iterator())"
   ],
   "metadata": {
    "colab": {
     "base_uri": "https://localhost:8080/"
    },
    "id": "T2zaHaqAllec",
    "outputId": "058e7bd2-ed6a-4f2f-e574-f6f58b4b2e89"
   },
   "execution_count": 5,
   "outputs": [
    {
     "output_type": "execute_result",
     "data": {
      "text/plain": [
       "[0, 1, 2, 3, 4]"
      ]
     },
     "metadata": {},
     "execution_count": 5
    }
   ]
  },
  {
   "cell_type": "code",
   "source": [
    "dataset.element_spec"
   ],
   "metadata": {
    "colab": {
     "base_uri": "https://localhost:8080/"
    },
    "id": "XtxMLM9umC8s",
    "outputId": "0e329da0-7af2-4096-9e50-d257bce547d4"
   },
   "execution_count": 6,
   "outputs": [
    {
     "output_type": "execute_result",
     "data": {
      "text/plain": [
       "TensorSpec(shape=(), dtype=tf.int32, name=None)"
      ]
     },
     "metadata": {},
     "execution_count": 6
    }
   ]
  },
  {
   "cell_type": "code",
   "source": [
    "dataset1= tf.data.Dataset.from_tensor_slices(\n",
    "    tf.random.uniform([3,5])\n",
    ")"
   ],
   "metadata": {
    "id": "nO7FqC7pmICd"
   },
   "execution_count": 7,
   "outputs": []
  },
  {
   "cell_type": "code",
   "source": [
    "dataset1.element_spec"
   ],
   "metadata": {
    "colab": {
     "base_uri": "https://localhost:8080/"
    },
    "id": "x-nSyjHAmbWy",
    "outputId": "e711118e-5b92-4a17-a176-bff4b2f71eb0"
   },
   "execution_count": 8,
   "outputs": [
    {
     "output_type": "execute_result",
     "data": {
      "text/plain": [
       "TensorSpec(shape=(5,), dtype=tf.float32, name=None)"
      ]
     },
     "metadata": {},
     "execution_count": 8
    }
   ]
  },
  {
   "cell_type": "code",
   "source": [
    "data = [5,1,-3,-2,-4,7,-10]\n",
    "tf_dataset = tf.data.Dataset.from_tensor_slices(data)"
   ],
   "metadata": {
    "id": "WN56USwkmjLX"
   },
   "execution_count": 11,
   "outputs": []
  },
  {
   "cell_type": "code",
   "source": [
    "for item in tf_dataset:\n",
    "  print(item.numpy())"
   ],
   "metadata": {
    "colab": {
     "base_uri": "https://localhost:8080/"
    },
    "id": "6vRNXx_nnCj9",
    "outputId": "c2b50e6d-b53b-4bc4-a72b-0c9e0125a609"
   },
   "execution_count": 12,
   "outputs": [
    {
     "output_type": "stream",
     "name": "stdout",
     "text": [
      "5\n",
      "1\n",
      "-3\n",
      "-2\n",
      "-4\n",
      "7\n",
      "-10\n"
     ]
    }
   ]
  },
  {
   "cell_type": "code",
   "source": [
    "for item in tf_dataset.take(3):\n",
    "  print(item.numpy())"
   ],
   "metadata": {
    "colab": {
     "base_uri": "https://localhost:8080/"
    },
    "id": "rIBy0jM-nKrF",
    "outputId": "2b4a8380-f644-4c6a-f39e-7d83245c33f7"
   },
   "execution_count": 13,
   "outputs": [
    {
     "output_type": "stream",
     "name": "stdout",
     "text": [
      "5\n",
      "1\n",
      "-3\n"
     ]
    }
   ]
  },
  {
   "cell_type": "code",
   "source": [
    "for item in tf_dataset.filter(lambda x:x>0):\n",
    "  print(item.numpy())"
   ],
   "metadata": {
    "colab": {
     "base_uri": "https://localhost:8080/"
    },
    "id": "jMW5Y7EjniVb",
    "outputId": "aaac4a97-d843-42d3-9581-001c5b42c057"
   },
   "execution_count": 16,
   "outputs": [
    {
     "output_type": "stream",
     "name": "stdout",
     "text": [
      "5\n",
      "1\n",
      "7\n"
     ]
    }
   ]
  },
  {
   "cell_type": "code",
   "source": [
    "for item in tf_dataset.map(lambda x:x*2):\n",
    "  print(item.numpy())"
   ],
   "metadata": {
    "colab": {
     "base_uri": "https://localhost:8080/"
    },
    "id": "awcJ5HG5nowA",
    "outputId": "eb7a36bf-5eb5-4310-df56-d0c51ad997ed"
   },
   "execution_count": 17,
   "outputs": [
    {
     "output_type": "stream",
     "name": "stdout",
     "text": [
      "10\n",
      "2\n",
      "-6\n",
      "-4\n",
      "-8\n",
      "14\n",
      "-20\n"
     ]
    }
   ]
  },
  {
   "cell_type": "code",
   "source": [
    "for item in tf_dataset.shuffle(buffer_size=3):\n",
    "  print(item.numpy())"
   ],
   "metadata": {
    "colab": {
     "base_uri": "https://localhost:8080/"
    },
    "id": "u_yxHaZPoIw1",
    "outputId": "bf1178bb-d331-426f-c948-536e8893867f"
   },
   "execution_count": 19,
   "outputs": [
    {
     "output_type": "stream",
     "name": "stdout",
     "text": [
      "5\n",
      "1\n",
      "-2\n",
      "-4\n",
      "-10\n",
      "-3\n",
      "7\n"
     ]
    }
   ]
  },
  {
   "cell_type": "code",
   "source": [
    "for item in tf_dataset.batch(2):\n",
    "  print(item.numpy())"
   ],
   "metadata": {
    "colab": {
     "base_uri": "https://localhost:8080/"
    },
    "id": "Hm67gyKIpWBn",
    "outputId": "32a811f8-8d37-4eca-ba86-54c97e925aa0"
   },
   "execution_count": 20,
   "outputs": [
    {
     "output_type": "stream",
     "name": "stdout",
     "text": [
      "[5 1]\n",
      "[-3 -2]\n",
      "[-4  7]\n",
      "[-10]\n"
     ]
    }
   ]
  },
  {
   "cell_type": "code",
   "source": [
    "dataset=tf.data.Dataset.from_tensor_slices(data)\n",
    "dataset=dataset.filter(lambda x:x>0).map(lambda y:y*2).shuffle(3).batch(2)\n",
    "for item in dataset:\n",
    "  print(item.numpy())"
   ],
   "metadata": {
    "colab": {
     "base_uri": "https://localhost:8080/"
    },
    "id": "08AK6cW9px9M",
    "outputId": "15caaf77-9509-4bf2-8c1b-1b293a687862"
   },
   "execution_count": 21,
   "outputs": [
    {
     "output_type": "stream",
     "name": "stdout",
     "text": [
      "[10  2]\n",
      "[14]\n"
     ]
    }
   ]
  },
  {
   "cell_type": "markdown",
   "source": [
    "# How to use tf.data for the image datasets"
   ],
   "metadata": {
    "id": "188e5eilyVzi"
   }
  },
  {
   "cell_type": "code",
   "source": [
    "flowers_root = tf.keras.utils.get_file(     \n",
    "    'flower_photos',     \n",
    "    'https://storage.googleapis.com/download.tensorflow.org/example_images/flower_photos.tgz', \n",
    "    untar=True)"
   ],
   "metadata": {
    "colab": {
     "base_uri": "https://localhost:8080/"
    },
    "id": "xUdj1sveqWOt",
    "outputId": "a1d2f42c-5784-43a3-8e46-b04ae5157f2f"
   },
   "execution_count": 22,
   "outputs": [
    {
     "output_type": "stream",
     "name": "stdout",
     "text": [
      "Downloading data from https://storage.googleapis.com/download.tensorflow.org/example_images/flower_photos.tgz\n",
      "228813984/228813984 [==============================] - 2s 0us/step\n"
     ]
    }
   ]
  },
  {
   "cell_type": "code",
   "source": [
    "flowers_root"
   ],
   "metadata": {
    "colab": {
     "base_uri": "https://localhost:8080/",
     "height": 35
    },
    "id": "3gpO0IeXq4-9",
    "outputId": "f2ef8e03-126f-4af6-de24-9c6836e7d943"
   },
   "execution_count": 23,
   "outputs": [
    {
     "output_type": "execute_result",
     "data": {
      "text/plain": [
       "'/root/.keras/datasets/flower_photos'"
      ],
      "application/vnd.google.colaboratory.intrinsic+json": {
       "type": "string"
      }
     },
     "metadata": {},
     "execution_count": 23
    }
   ]
  },
  {
   "cell_type": "code",
   "source": [
    "import pathlib\n",
    "flowers_root = pathlib.Path(flowers_root)\n",
    "flowers_root"
   ],
   "metadata": {
    "colab": {
     "base_uri": "https://localhost:8080/"
    },
    "id": "78Nxx8aQrInh",
    "outputId": "21f8fb71-773f-4299-b977-ad5e44f6bbca"
   },
   "execution_count": 24,
   "outputs": [
    {
     "output_type": "execute_result",
     "data": {
      "text/plain": [
       "PosixPath('/root/.keras/datasets/flower_photos')"
      ]
     },
     "metadata": {},
     "execution_count": 24
    }
   ]
  },
  {
   "cell_type": "code",
   "source": [
    "ds = tf.data.Dataset.list_files(str(flowers_root/\"*/*\"))"
   ],
   "metadata": {
    "id": "Yzk_QnqurXpT"
   },
   "execution_count": 26,
   "outputs": []
  },
  {
   "cell_type": "code",
   "source": [
    "image_count = len(ds)\n",
    "image_count"
   ],
   "metadata": {
    "colab": {
     "base_uri": "https://localhost:8080/"
    },
    "id": "I2u_xJUar6ZV",
    "outputId": "fb437cd0-ab0d-4ad5-a9f3-f5ab70f6e6d9"
   },
   "execution_count": 27,
   "outputs": [
    {
     "output_type": "execute_result",
     "data": {
      "text/plain": [
       "3670"
      ]
     },
     "metadata": {},
     "execution_count": 27
    }
   ]
  },
  {
   "cell_type": "code",
   "source": [
    "for file in ds.take(3):\n",
    "  print(file.numpy())"
   ],
   "metadata": {
    "colab": {
     "base_uri": "https://localhost:8080/"
    },
    "id": "Fo-gzJXFsI6N",
    "outputId": "22a1071e-960b-4eee-cefc-4b4f07912d50"
   },
   "execution_count": 28,
   "outputs": [
    {
     "output_type": "stream",
     "name": "stdout",
     "text": [
      "b'/root/.keras/datasets/flower_photos/roses/15697872479_ed48e9dd73_n.jpg'\n",
      "b'/root/.keras/datasets/flower_photos/tulips/8695372372_302135aeb2.jpg'\n",
      "b'/root/.keras/datasets/flower_photos/daisy/2551708158_1f10e81e11.jpg'\n"
     ]
    }
   ]
  },
  {
   "cell_type": "code",
   "source": [
    "ds = ds.shuffle(200)\n",
    "for file in ds.take(3):\n",
    "  print(file.numpy())"
   ],
   "metadata": {
    "colab": {
     "base_uri": "https://localhost:8080/"
    },
    "id": "XEas4-OEsRxN",
    "outputId": "4ce6c8be-8c97-462d-f1ef-dc60b1fbb2d8"
   },
   "execution_count": 29,
   "outputs": [
    {
     "output_type": "stream",
     "name": "stdout",
     "text": [
      "b'/root/.keras/datasets/flower_photos/tulips/17908793211_ff0f1f81d3_n.jpg'\n",
      "b'/root/.keras/datasets/flower_photos/tulips/3430229687_32645b5738.jpg'\n",
      "b'/root/.keras/datasets/flower_photos/roses/3697780051_83e50a6dd1_m.jpg'\n"
     ]
    }
   ]
  },
  {
   "cell_type": "code",
   "source": [
    "train_size = int(image_count*0.8)\n",
    "train_ds = ds.take(train_size)\n",
    "test_ds = ds.skip(train_size)"
   ],
   "metadata": {
    "id": "k-ltYlQ6szO2"
   },
   "execution_count": 30,
   "outputs": []
  },
  {
   "cell_type": "code",
   "source": [
    "len(train_ds)"
   ],
   "metadata": {
    "colab": {
     "base_uri": "https://localhost:8080/"
    },
    "id": "rRoCI0m8tJW0",
    "outputId": "336fe3e7-98f8-4609-ba61-acbc70be104a"
   },
   "execution_count": 31,
   "outputs": [
    {
     "output_type": "execute_result",
     "data": {
      "text/plain": [
       "2936"
      ]
     },
     "metadata": {},
     "execution_count": 31
    }
   ]
  },
  {
   "cell_type": "code",
   "source": [
    "len(test_ds)"
   ],
   "metadata": {
    "colab": {
     "base_uri": "https://localhost:8080/"
    },
    "id": "4NDZ6xfHtM08",
    "outputId": "7da38dd0-6f3c-4fa6-aeb4-42a6c4e3a250"
   },
   "execution_count": 32,
   "outputs": [
    {
     "output_type": "execute_result",
     "data": {
      "text/plain": [
       "734"
      ]
     },
     "metadata": {},
     "execution_count": 32
    }
   ]
  },
  {
   "cell_type": "code",
   "source": [
    "def get_label(file_path):\n",
    "  import os\n",
    "  parts= tf.strings.split(file_path, os.sep)\n",
    "  return parts[-2]"
   ],
   "metadata": {
    "id": "aFmnNSl7tb6-"
   },
   "execution_count": 33,
   "outputs": []
  },
  {
   "cell_type": "code",
   "source": [
    "x = b'/root/.keras/datasets/flower_photos/tulips/17908793211_ff0f1f81d3_n.jpg'\n",
    "get_label(x).numpy()"
   ],
   "metadata": {
    "colab": {
     "base_uri": "https://localhost:8080/"
    },
    "id": "W5Fo1PR7uNS9",
    "outputId": "a53672eb-6641-4e43-94d0-25396d978ca9"
   },
   "execution_count": 35,
   "outputs": [
    {
     "output_type": "execute_result",
     "data": {
      "text/plain": [
       "b'tulips'"
      ]
     },
     "metadata": {},
     "execution_count": 35
    }
   ]
  },
  {
   "cell_type": "code",
   "source": [
    "def process_image(file_path):\n",
    "  label = get_label(file_path)\n",
    "  img = tf.io.read_file(file_path)\n",
    "  img = tf.image.decode_jpeg(img)\n",
    "  img = tf.image.resize(img, [128,128])\n",
    "  img = img / 255\n",
    "  return img, label "
   ],
   "metadata": {
    "id": "XaJ05tByuarD"
   },
   "execution_count": 36,
   "outputs": []
  },
  {
   "cell_type": "code",
   "source": [
    "img, label = process_image(x)"
   ],
   "metadata": {
    "id": "K6EN_RYtviTd"
   },
   "execution_count": 37,
   "outputs": []
  },
  {
   "cell_type": "code",
   "source": [
    "img.shape"
   ],
   "metadata": {
    "colab": {
     "base_uri": "https://localhost:8080/"
    },
    "id": "TPQdQs32vxtt",
    "outputId": "686a69d7-f907-408b-b30c-b8ad2f572fda"
   },
   "execution_count": 38,
   "outputs": [
    {
     "output_type": "execute_result",
     "data": {
      "text/plain": [
       "TensorShape([128, 128, 3])"
      ]
     },
     "metadata": {},
     "execution_count": 38
    }
   ]
  },
  {
   "cell_type": "code",
   "source": [
    "img[:3, :3, :1]"
   ],
   "metadata": {
    "colab": {
     "base_uri": "https://localhost:8080/"
    },
    "id": "Rq5oLytzv037",
    "outputId": "673617f9-93b7-47d3-e595-30931217088a"
   },
   "execution_count": 39,
   "outputs": [
    {
     "output_type": "execute_result",
     "data": {
      "text/plain": [
       "<tf.Tensor: shape=(3, 3, 1), dtype=float32, numpy=\n",
       "array([[[0.2936887 ],\n",
       "        [0.23970588],\n",
       "        [0.27518383]],\n",
       "\n",
       "       [[0.2322304 ],\n",
       "        [0.22095588],\n",
       "        [0.24650735]],\n",
       "\n",
       "       [[0.24056372],\n",
       "        [0.27291667],\n",
       "        [0.23762254]]], dtype=float32)>"
      ]
     },
     "metadata": {},
     "execution_count": 39
    }
   ]
  },
  {
   "cell_type": "code",
   "source": [
    "train_ds = train_ds.map(process_image)\n",
    "test_ds = test_ds.map(process_image)"
   ],
   "metadata": {
    "id": "1rwn6HLnwMfg"
   },
   "execution_count": 40,
   "outputs": []
  },
  {
   "cell_type": "code",
   "source": [
    "for image, label in train_ds.take(1):\n",
    "  print(label.numpy())\n",
    "  print(image.numpy())"
   ],
   "metadata": {
    "colab": {
     "base_uri": "https://localhost:8080/"
    },
    "id": "qSqkhg4EwbXk",
    "outputId": "64ed8ae7-cd72-4f11-d811-ef60c5a18b3e"
   },
   "execution_count": 41,
   "outputs": [
    {
     "output_type": "stream",
     "name": "stdout",
     "text": [
      "b'tulips'\n",
      "[[[0.5300865  0.5380675  0.6119033 ]\n",
      "  [0.8150934  0.7704695  0.84009194]\n",
      "  [0.80323225 0.751196   0.78500307]\n",
      "  ...\n",
      "  [0.02125986 0.02518143 0.03302457]\n",
      "  [0.02560987 0.02953144 0.04521772]\n",
      "  [0.0238973  0.02308541 0.03336421]]\n",
      "\n",
      " [[0.7470792  0.6947646  0.733307  ]\n",
      "  [0.84166837 0.79053694 0.83618426]\n",
      "  [0.90115154 0.861079   0.88749546]\n",
      "  ...\n",
      "  [0.02284271 0.02676428 0.03669075]\n",
      "  [0.01812409 0.01899941 0.02684254]\n",
      "  [0.0213702  0.02677768 0.0301631 ]]\n",
      "\n",
      " [[0.85518825 0.8054793  0.80282795]\n",
      "  [0.9096074  0.8550307  0.8518976 ]\n",
      "  [0.9741821  0.95758945 0.97247314]\n",
      "  ...\n",
      "  [0.02234988 0.02627145 0.03619792]\n",
      "  [0.02965686 0.02965686 0.03468137]\n",
      "  [0.03474265 0.03501838 0.03488052]]\n",
      "\n",
      " ...\n",
      "\n",
      " [[0.5053402  0.5036882  0.39783528]\n",
      "  [0.598442   0.56596655 0.45224106]\n",
      "  [0.60740155 0.58883536 0.4771932 ]\n",
      "  ...\n",
      "  [0.10349528 0.12310312 0.13486783]\n",
      "  [0.08990048 0.10558675 0.11735146]\n",
      "  [0.09226529 0.10795157 0.11971627]]\n",
      "\n",
      " [[0.53394896 0.54215974 0.42221633]\n",
      "  [0.5820267  0.55457574 0.44225955]\n",
      "  [0.5925434  0.5831648  0.48989785]\n",
      "  ...\n",
      "  [0.10319537 0.12474413 0.13586186]\n",
      "  [0.09834343 0.11699937 0.12876408]\n",
      "  [0.08744088 0.10312715 0.11489186]]\n",
      "\n",
      " [[0.5321533  0.5288294  0.40888456]\n",
      "  [0.57091206 0.5426485  0.45133558]\n",
      "  [0.59302884 0.613663   0.5174785 ]\n",
      "  ...\n",
      "  [0.08915441 0.11188725 0.12489396]\n",
      "  [0.09241728 0.11092218 0.11343443]\n",
      "  [0.07806349 0.09908041 0.10661788]]]\n"
     ]
    }
   ]
  }
 ]
}
