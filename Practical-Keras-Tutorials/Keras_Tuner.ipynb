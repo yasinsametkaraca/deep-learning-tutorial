{
 "nbformat": 4,
 "nbformat_minor": 0,
 "metadata": {
  "colab": {
   "provenance": [],
   "gpuType": "T4",
   "authorship_tag": "ABX9TyOVEPed6Zl8BQeERUzvYIyw",
   "include_colab_link": true
  },
  "kernelspec": {
   "name": "python3",
   "display_name": "Python 3"
  },
  "language_info": {
   "name": "python"
  },
  "accelerator": "GPU",
  "gpuClass": "standard"
 },
 "cells": [
  {
   "cell_type": "code",
   "execution_count": 1,
   "metadata": {
    "colab": {
     "base_uri": "https://localhost:8080/"
    },
    "id": "siEgzC-vuvX1",
    "outputId": "f03bd7a9-e9b7-49f7-b07a-a45dfcff8637"
   },
   "outputs": [
    {
     "output_type": "stream",
     "name": "stdout",
     "text": [
      "\u001B[?25l     \u001B[90m━━━━━━━━━━━━━━━━━━━━━━━━━━━━━━━━━━━━━━━━\u001B[0m \u001B[32m0.0/176.1 kB\u001B[0m \u001B[31m?\u001B[0m eta \u001B[36m-:--:--\u001B[0m\r\u001B[2K     \u001B[90m━━━━━━━━━━━━━━━━━━━━━━━━━━━━━━━━━━━━━━\u001B[0m \u001B[32m176.1/176.1 kB\u001B[0m \u001B[31m15.4 MB/s\u001B[0m eta \u001B[36m0:00:00\u001B[0m\n",
      "\u001B[?25h"
     ]
    }
   ],
   "source": "!pip install -q -U keras-tuner # keras-tuner is a library that helps you pick the optimal set of hyperparameters for your TensorFlow program."
  },
  {
   "cell_type": "markdown",
   "source": [
    "# Importing Required Libraries"
   ],
   "metadata": {
    "id": "VolUIGM_OWSY"
   }
  },
  {
   "cell_type": "code",
   "source": [
    "import keras_tuner as kt"
   ],
   "metadata": {
    "id": "inbFjyM60viB"
   },
   "execution_count": 2,
   "outputs": []
  },
  {
   "cell_type": "code",
   "source": [
    "import tensorflow as tf\n",
    "from tensorflow import keras"
   ],
   "metadata": {
    "id": "LIs9ltia1Gfg"
   },
   "execution_count": 3,
   "outputs": []
  },
  {
   "cell_type": "markdown",
   "source": [
    "# Loading the Dataset"
   ],
   "metadata": {
    "id": "htk4k3aeOkPY"
   }
  },
  {
   "cell_type": "code",
   "source": [
    "(img_train, label_train), (img_test, label_test) = keras.datasets.fashion_mnist.load_data()"
   ],
   "metadata": {
    "colab": {
     "base_uri": "https://localhost:8080/"
    },
    "id": "RJiwbleD1EEK",
    "outputId": "be0f7f85-e07e-4787-dec2-dd45fa5c0606"
   },
   "execution_count": 4,
   "outputs": [
    {
     "output_type": "stream",
     "name": "stdout",
     "text": [
      "Downloading data from https://storage.googleapis.com/tensorflow/tf-keras-datasets/train-labels-idx1-ubyte.gz\n",
      "29515/29515 [==============================] - 0s 1us/step\n",
      "Downloading data from https://storage.googleapis.com/tensorflow/tf-keras-datasets/train-images-idx3-ubyte.gz\n",
      "26421880/26421880 [==============================] - 3s 0us/step\n",
      "Downloading data from https://storage.googleapis.com/tensorflow/tf-keras-datasets/t10k-labels-idx1-ubyte.gz\n",
      "5148/5148 [==============================] - 0s 0us/step\n",
      "Downloading data from https://storage.googleapis.com/tensorflow/tf-keras-datasets/t10k-images-idx3-ubyte.gz\n",
      "4422102/4422102 [==============================] - 1s 0us/step\n"
     ]
    }
   ]
  },
  {
   "cell_type": "code",
   "source": [
    "img_train.shape"
   ],
   "metadata": {
    "colab": {
     "base_uri": "https://localhost:8080/"
    },
    "id": "XpcV4DDq1MWO",
    "outputId": "76dae386-df9f-4da5-d2e7-b3d704c27c3b"
   },
   "execution_count": 5,
   "outputs": [
    {
     "output_type": "execute_result",
     "data": {
      "text/plain": [
       "(60000, 28, 28)"
      ]
     },
     "metadata": {},
     "execution_count": 5
    }
   ]
  },
  {
   "cell_type": "code",
   "source": [
    "img_train = img_train.astype('float32') / 255.0 # Normalizing the data\n",
    "img_test = img_test.astype('float32') / 255.0"
   ],
   "metadata": {
    "id": "-JTwpIus1NEg"
   },
   "execution_count": 6,
   "outputs": []
  },
  {
   "cell_type": "markdown",
   "source": [
    "# Model Building"
   ],
   "metadata": {
    "id": "J7HanNhXOp2t"
   }
  },
  {
   "cell_type": "code",
   "source": [
    "def build_model(hp): # hp is a HyperParameters object\n",
    "    n_hidden = hp.Int(\"n_hidden\", min_value=0, max_value=8, default=2) # Number of hidden layers\n",
    "    n_neurons = hp.Int(\"n_neurons\", min_value=16, max_value=256) # Number of neurons in each layer\n",
    "    learning_rate = hp.Float(\"learning_rate\", min_value=1e-4, max_value=1e-2,\n",
    "                             sampling=\"log\") # Learning rate\n",
    "    optimizer = hp.Choice(\"optimizer\", values=[\"sgd\", \"adam\"])\n",
    "    if optimizer == \"sgd\":\n",
    "        optimizer = tf.keras.optimizers.SGD(learning_rate=learning_rate)\n",
    "    else:\n",
    "        optimizer = tf.keras.optimizers.Adam(learning_rate=learning_rate)\n",
    "\n",
    "    model = tf.keras.Sequential()\n",
    "    model.add(tf.keras.layers.Flatten()) # Input layer. Flatten the input data to 1D array. 2d array to 1d array\n",
    "    for _ in range(n_hidden):\n",
    "        model.add(tf.keras.layers.Dense(n_neurons, activation=\"relu\"))\n",
    "    model.add(tf.keras.layers.Dense(10, activation=\"softmax\")) # Output layer. 10 classes\n",
    "    model.compile(loss=\"sparse_categorical_crossentropy\", optimizer=optimizer,\n",
    "                  metrics=[\"accuracy\"])\n",
    "    return model"
   ],
   "metadata": {
    "id": "svadHXvh2NDr"
   },
   "execution_count": 7,
   "outputs": []
  },
  {
   "cell_type": "markdown",
   "source": [
    "# Random Search Tuner\n",
    "\n",
    "RandomSearch is a hyperparameter search algorithm that searches the hyperparameter space randomly."
   ],
   "metadata": {
    "id": "XJkn9m4cOxis"
   }
  },
  {
   "cell_type": "code",
   "source": [
    "random_search_tuner = kt.RandomSearch(\n",
    "  build_model, # Model building function\n",
    "\tobjective=\"val_accuracy\", \n",
    "\tmax_trials=5, \n",
    "\toverwrite=True, # Overwrite the existing results in the directory. \n",
    "  directory=\"my_fashion_mnist\", \n",
    "\tproject_name=\"my_rnd_search\", \n",
    "\tseed=42)"
   ],
   "metadata": {
    "id": "h-y4IJDi4hSk"
   },
   "execution_count": 8,
   "outputs": []
  },
  {
   "cell_type": "code",
   "source": [
    "random_search_tuner.search(img_train, label_train, epochs=10, validation_split=0.2)"
   ],
   "metadata": {
    "colab": {
     "base_uri": "https://localhost:8080/"
    },
    "id": "hZ-4O1bt4pDI",
    "outputId": "0023c6b6-c036-4170-e12c-0b09ac4c8c36"
   },
   "execution_count": 9,
   "outputs": [
    {
     "output_type": "stream",
     "name": "stdout",
     "text": [
      "Trial 5 Complete [00h 01m 15s]\n",
      "val_accuracy: 0.7333333492279053\n",
      "\n",
      "Best val_accuracy So Far: 0.8601666688919067\n",
      "Total elapsed time: 00h 06m 53s\n"
     ]
    }
   ]
  },
  {
   "cell_type": "markdown",
   "source": [
    "## Taking a look at the best model"
   ],
   "metadata": {
    "id": "3uAr-fPuPQSW"
   }
  },
  {
   "cell_type": "code",
   "source": [
    "top3_models = random_search_tuner.get_best_models(num_models=3)"
   ],
   "metadata": {
    "id": "Ro6yi2n26Gzm"
   },
   "execution_count": 10,
   "outputs": []
  },
  {
   "cell_type": "code",
   "source": [
    "best_model = top3_models[0]"
   ],
   "metadata": {
    "id": "J0fNWycD6I88"
   },
   "execution_count": 11,
   "outputs": []
  },
  {
   "cell_type": "code",
   "source": [
    "best_model"
   ],
   "metadata": {
    "colab": {
     "base_uri": "https://localhost:8080/"
    },
    "id": "8qLrvPC16MfQ",
    "outputId": "500bf755-2874-4ebc-bb4e-981b65c7afdd"
   },
   "execution_count": 12,
   "outputs": [
    {
     "output_type": "execute_result",
     "data": {
      "text/plain": [
       "<keras.engine.sequential.Sequential at 0x7fa614455720>"
      ]
     },
     "metadata": {},
     "execution_count": 12
    }
   ]
  },
  {
   "cell_type": "code",
   "source": [
    "top3_params = random_search_tuner.get_best_hyperparameters(num_trials=3)"
   ],
   "metadata": {
    "id": "vOJcO8Vp6M0c"
   },
   "execution_count": 13,
   "outputs": []
  },
  {
   "cell_type": "code",
   "source": "top3_params[0].values # Get the best hyperparameters",
   "metadata": {
    "colab": {
     "base_uri": "https://localhost:8080/"
    },
    "id": "qXCAFQnN6c8a",
    "outputId": "d15dae74-c5ac-4a8f-94ba-ad61e7684afe"
   },
   "execution_count": 14,
   "outputs": [
    {
     "output_type": "execute_result",
     "data": {
      "text/plain": [
       "{'n_hidden': 8,\n",
       " 'n_neurons': 37,\n",
       " 'learning_rate': 0.008547485565344062,\n",
       " 'optimizer': 'sgd'}"
      ]
     },
     "metadata": {},
     "execution_count": 14
    }
   ]
  },
  {
   "cell_type": "code",
   "source": [
    "best_trial = random_search_tuner.oracle.get_best_trials(num_trials=1)[0] # Get the best trial from the oracle object of the tuner. Oracle object keeps track of all the trials. \n",
    "best_trial.summary()"
   ],
   "metadata": {
    "colab": {
     "base_uri": "https://localhost:8080/"
    },
    "id": "ec6isKeq6d7x",
    "outputId": "f5ca9283-e433-4daf-ed3b-7cc5e2812d56"
   },
   "execution_count": 15,
   "outputs": [
    {
     "output_type": "stream",
     "name": "stdout",
     "text": [
      "Trial 3 summary\n",
      "Hyperparameters:\n",
      "n_hidden: 8\n",
      "n_neurons: 37\n",
      "learning_rate: 0.008547485565344062\n",
      "optimizer: sgd\n",
      "Score: 0.8601666688919067\n"
     ]
    }
   ]
  },
  {
   "cell_type": "code",
   "source": [
    "best_trial = random_search_tuner.oracle.get_best_trials()[0]\n",
    "best_trial.summary()"
   ],
   "metadata": {
    "colab": {
     "base_uri": "https://localhost:8080/"
    },
    "id": "IWCgzisZ6_95",
    "outputId": "6a37997d-f30e-4654-8347-be28c3663218"
   },
   "execution_count": 18,
   "outputs": [
    {
     "output_type": "stream",
     "name": "stdout",
     "text": [
      "Trial 3 summary\n",
      "Hyperparameters:\n",
      "n_hidden: 8\n",
      "n_neurons: 37\n",
      "learning_rate: 0.008547485565344062\n",
      "optimizer: sgd\n",
      "Score: 0.8601666688919067\n"
     ]
    }
   ]
  },
  {
   "cell_type": "code",
   "source": "best_model.fit(img_train, label_train, epochs=5) # Training the best model on the whole training data without validation data.",
   "metadata": {
    "colab": {
     "base_uri": "https://localhost:8080/"
    },
    "id": "I5mclH2Z-VCP",
    "outputId": "4273b590-35fc-449b-ad64-d8a30192c1cd"
   },
   "execution_count": 19,
   "outputs": [
    {
     "output_type": "stream",
     "name": "stdout",
     "text": [
      "Epoch 1/5\n",
      "1875/1875 [==============================] - 11s 4ms/step - loss: 0.3658 - accuracy: 0.8682\n",
      "Epoch 2/5\n",
      "1875/1875 [==============================] - 8s 4ms/step - loss: 0.3542 - accuracy: 0.8702\n",
      "Epoch 3/5\n",
      "1875/1875 [==============================] - 8s 4ms/step - loss: 0.3463 - accuracy: 0.8742\n",
      "Epoch 4/5\n",
      "1875/1875 [==============================] - 7s 4ms/step - loss: 0.3376 - accuracy: 0.8771\n",
      "Epoch 5/5\n",
      "1875/1875 [==============================] - 8s 4ms/step - loss: 0.3297 - accuracy: 0.8801\n"
     ]
    },
    {
     "output_type": "execute_result",
     "data": {
      "text/plain": [
       "<keras.callbacks.History at 0x7fa6142553f0>"
      ]
     },
     "metadata": {},
     "execution_count": 19
    }
   ]
  },
  {
   "cell_type": "code",
   "source": [
    "test_loss, test_accuracy = best_model.evaluate(img_test, label_test)"
   ],
   "metadata": {
    "colab": {
     "base_uri": "https://localhost:8080/"
    },
    "id": "UAB1feOj-j7E",
    "outputId": "4e6ef83d-46f7-4181-9086-936b806259c5"
   },
   "execution_count": 20,
   "outputs": [
    {
     "output_type": "stream",
     "name": "stdout",
     "text": [
      "313/313 [==============================] - 1s 3ms/step - loss: 0.4056 - accuracy: 0.8558\n"
     ]
    }
   ]
  },
  {
   "cell_type": "markdown",
   "source": [
    "# Model Building with HyperModel "
   ],
   "metadata": {
    "id": "SJYuVcvoO5Cj"
   }
  },
  {
   "cell_type": "code",
   "source": [
    "def build_model(hp):\n",
    "    n_hidden = hp.Int(\"n_hidden\", min_value=0, max_value=8, default=2)\n",
    "    n_neurons = hp.Int(\"n_neurons\", min_value=16, max_value=256)\n",
    "    learning_rate = hp.Float(\"learning_rate\", min_value=1e-4, max_value=1e-2, sampling=\"log\")\n",
    "    optimizer = hp.Choice(\"optimizer\", values=[\"sgd\", \"adam\"])\n",
    "    if optimizer == \"sgd\":\n",
    "        optimizer = tf.keras.optimizers.SGD(learning_rate=learning_rate)\n",
    "    else:\n",
    "        optimizer = tf.keras.optimizers.Adam(learning_rate=learning_rate)\n",
    "    model = tf.keras.Sequential()\n",
    "    model.add(tf.keras.layers.Flatten())\n",
    "    for _ in range(n_hidden):\n",
    "        model.add(tf.keras.layers.Dense(n_neurons, activation=\"relu\"))\n",
    "    model.add(tf.keras.layers.Dense(10, activation=\"softmax\"))\n",
    "    model.compile(loss=\"sparse_categorical_crossentropy\", optimizer=optimizer, metrics=[\"accuracy\"])\n",
    "    return model"
   ],
   "metadata": {
    "id": "B_JCAfrXJGFf"
   },
   "execution_count": 21,
   "outputs": []
  },
  {
   "cell_type": "code",
   "source": [
    "class MyClassificationHyperModel(kt.HyperModel):\n",
    "    def build(self, hp):\n",
    "        return build_model(hp)\n",
    "    def fit(self, hp, model, X, y, **kwargs):\n",
    "        if hp.Boolean(\"normalize\"):\n",
    "            norm_layer = tf.keras.layers.Normalization()\n",
    "            X = norm_layer(X)\n",
    "        return model.fit(X, y, **kwargs)"
   ],
   "metadata": {
    "id": "Q5Kft1F0AMgU"
   },
   "execution_count": 22,
   "outputs": []
  },
  {
   "cell_type": "code",
   "source": [
    "from pathlib import Path\n",
    "hyperband_tuner = kt.Hyperband(\n",
    "    MyClassificationHyperModel(), objective=\"val_accuracy\", seed=42,\n",
    "    max_epochs=10, factor=3, hyperband_iterations=2,\n",
    "    overwrite=True, directory=\"my_fashion_mnist\", project_name=\"hyperband\")\n",
    "\n",
    "root_logdir = Path(hyperband_tuner.project_dir) / \"tensorboard\"\n",
    "tensorboard_cb = tf.keras.callbacks.TensorBoard(root_logdir)\n",
    "early_stopping_cb = tf.keras.callbacks.EarlyStopping(patience=2)\n",
    "hyperband_tuner.search(img_train, label_train, epochs=10,\n",
    "                       validation_split = 0.2, \n",
    "                       callbacks=[early_stopping_cb, tensorboard_cb])"
   ],
   "metadata": {
    "colab": {
     "base_uri": "https://localhost:8080/"
    },
    "id": "owt1asBoIP3t",
    "outputId": "05d97567-25f8-4970-b7a9-9f83037ef526"
   },
   "execution_count": 23,
   "outputs": [
    {
     "output_type": "stream",
     "name": "stdout",
     "text": [
      "Trial 60 Complete [00h 01m 17s]\n",
      "val_accuracy: 0.8360000252723694\n",
      "\n",
      "Best val_accuracy So Far: 0.8899166584014893\n",
      "Total elapsed time: 00h 36m 23s\n"
     ]
    }
   ]
  },
  {
   "cell_type": "markdown",
   "source": [
    "# BayesianOptimization Tuner"
   ],
   "metadata": {
    "id": "mCEAK3TsPGLL"
   }
  },
  {
   "cell_type": "code",
   "source": [
    "bayesian_opt_tuner = kt.BayesianOptimization(\n",
    "    MyClassificationHyperModel(), \n",
    "    objective=\"val_accuracy\", \n",
    "    seed=42,\n",
    "    max_trials=10, \n",
    "    alpha=1e-4, \n",
    "    beta=2.6,\n",
    "    overwrite=True, \n",
    "    directory=\"my_fashion_mnist\", \n",
    "    project_name=\"bayesian_opt\")"
   ],
   "metadata": {
    "id": "2o221cVELH9Q"
   },
   "execution_count": 24,
   "outputs": []
  },
  {
   "cell_type": "code",
   "source": [
    "bayesian_opt_tuner.search(\n",
    "\timg_train, label_train, epochs=10, \n",
    "\tvalidation_split = 0.2,  callbacks=[early_stopping_cb])"
   ],
   "metadata": {
    "colab": {
     "base_uri": "https://localhost:8080/"
    },
    "id": "Q-bbBo3WLMom",
    "outputId": "48fd3840-c4e8-4fcc-ea10-71fd3bd2c66f"
   },
   "execution_count": 25,
   "outputs": [
    {
     "output_type": "stream",
     "name": "stdout",
     "text": [
      "Trial 10 Complete [00h 01m 15s]\n",
      "val_accuracy: 0.7518333196640015\n",
      "\n",
      "Best val_accuracy So Far: 0.8859166502952576\n",
      "Total elapsed time: 00h 11m 14s\n"
     ]
    }
   ]
  }
 ]
}
